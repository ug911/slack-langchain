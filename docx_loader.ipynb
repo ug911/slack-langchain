{
 "cells": [
  {
   "cell_type": "code",
   "execution_count": 27,
   "id": "6dee4b27",
   "metadata": {},
   "outputs": [],
   "source": [
    "import getpass\n",
    "import os\n",
    "import time\n",
    "from langchain_openai import OpenAIEmbeddings\n",
    "from pinecone import Pinecone, ServerlessSpec\n",
    "from langchain_pinecone import PineconeVectorStore\n",
    "from langchain_community.document_loaders import TextLoader\n",
    "from langchain_text_splitters import CharacterTextSplitter\n",
    "from langchain_community.document_loaders import PyPDFLoader\n",
    "from langchain_community.document_loaders import Docx2txtLoader\n",
    "import glob\n",
    "from tqdm import tqdm"
   ]
  },
  {
   "cell_type": "code",
   "execution_count": null,
   "id": "dc29dc15-7eb5-4619-89ee-8b361e7c06e4",
   "metadata": {},
   "outputs": [],
   "source": []
  },
  {
   "cell_type": "code",
   "execution_count": 28,
   "id": "dbccae34",
   "metadata": {},
   "outputs": [],
   "source": [
    "OPENAI_API_KEY = os.environ.get('OPENAI_API_KEY')\n",
    "PINECONE_API_KEY = os.environ.get(\"PINECONE_API_KEY\")"
   ]
  },
  {
   "cell_type": "code",
   "execution_count": 29,
   "id": "03f2dddf",
   "metadata": {},
   "outputs": [
    {
     "name": "stdout",
     "output_type": "stream",
     "text": [
      "538\n"
     ]
    }
   ],
   "source": [
    "def list_docx_files(directory):\n",
    "    docx_files = glob.glob(os.path.join(directory, '**', '*.docx'), recursive=True)    \n",
    "    # file_names = [os.path.basename(file) for file in docx_files]\n",
    "    return docx_files\n",
    "\n",
    "directory_path = path\n",
    "docx_file_names_2 = list_docx_files(directory_path)\n",
    "docx_file_names = []\n",
    "for doc in docx_file_names_2:\n",
    "    if \"MOM\" in str(doc):\n",
    "        docx_file_names.append(doc)\n",
    "    if \"議事録\" in str(doc):\n",
    "        docx_file_names.append(doc)\n",
    "\n",
    "print(len(docx_file_names))\n",
    "\n",
    "# for file_name in docx_file_names:\n",
    "#     print(file_name)"
   ]
  },
  {
   "cell_type": "code",
   "execution_count": 30,
   "id": "8e0dab62",
   "metadata": {},
   "outputs": [
    {
     "data": {
      "text/plain": [
       "['/Users/nita/Desktop/TJDOCS/Touch to Go/Touch to Go_MOM.docx',\n",
       " '/Users/nita/Desktop/TJDOCS/TechnoMix／テクノミックス/TechnoMix_MOM.docx',\n",
       " '/Users/nita/Desktop/TJDOCS/SMSDataTech/SMSDataTech_MOM.docx',\n",
       " '/Users/nita/Desktop/TJDOCS/PAI-R／パイ・アール/PAI-R_MOM.docx',\n",
       " '/Users/nita/Desktop/TJDOCS/FUJI/FUJI_MOM.docx',\n",
       " '/Users/nita/Desktop/TJDOCS/AIxtal／アイクリスタル/AIxtal_MOM.docx',\n",
       " '/Users/nita/Desktop/TJDOCS/nanameue／ナナメウエ/nanameue／ナナメウエ_MOM.docx',\n",
       " '/Users/nita/Desktop/TJDOCS/Agnie Consulting/Agnie Consulting_MOM.docx',\n",
       " '/Users/nita/Desktop/TJDOCS/Hitachi Solutions／日立ソリューションズ/日立ソリューションズ_MOM.docx',\n",
       " '/Users/nita/Desktop/TJDOCS/SyncMOF/SyncMOF_MOM.docx',\n",
       " '/Users/nita/Desktop/TJDOCS/WithLIVE／ウィズライブ/WithLIVE_MOM.docx',\n",
       " '/Users/nita/Desktop/TJDOCS/IHI/IHI_MOM.docx',\n",
       " '/Users/nita/Desktop/TJDOCS/Pocketalk／ポケトーク/Pocketalk／ポケトーク_MOM.docx',\n",
       " '/Users/nita/Desktop/TJDOCS/Eight-Japan Engineering Consultants／エイト日本技術開発/Eight-Japan Engineering Consultants_MOM.docx',\n",
       " '/Users/nita/Desktop/TJDOCS/American Engineering Corporation/American Engineering Corporation_MOM.docx',\n",
       " '/Users/nita/Desktop/TJDOCS/bitFlyer／ビットフライヤー/bitFlyer／ビットフライヤー_MOM.docx',\n",
       " '/Users/nita/Desktop/TJDOCS/mirai md inc／未来MD/Mirai MD_MOM.docx',\n",
       " '/Users/nita/Desktop/TJDOCS/Couger／クーガー/Couger_MOM.docx',\n",
       " '/Users/nita/Desktop/TJDOCS/Datacom／データコム/Datacom_MOM.docx',\n",
       " '/Users/nita/Desktop/TJDOCS/ALTURA X/ALTURA X_MOM.docx',\n",
       " '/Users/nita/Desktop/TJDOCS/VRAIN Solution／ブレインソリューション/VRAIN Solution／ブレインソリューション_MOM.docx',\n",
       " '/Users/nita/Desktop/TJDOCS/The Bank of Yokohama／横浜銀行/The Bank of Yokohama／横浜銀行_MOM.docx',\n",
       " '/Users/nita/Desktop/TJDOCS/Rokken／ロッケン/Rokken_MOM.docx',\n",
       " '/Users/nita/Desktop/TJDOCS/2WINS／ツインズ/2WINS_MOM.docx',\n",
       " '/Users/nita/Desktop/TJDOCS/NTT DATA／エヌ・ティ・ティ・データ/エヌ・ティ・ティ・データ_議事録.docx',\n",
       " '/Users/nita/Desktop/TJDOCS/TECH I.S.／テックアイエス/TECH I.S. _MOM.docx',\n",
       " '/Users/nita/Desktop/TJDOCS/Scoville/Scoville_MOM.docx',\n",
       " '/Users/nita/Desktop/TJDOCS/Zeals／ジールス/Zeals／ジールス_MOM.docx',\n",
       " '/Users/nita/Desktop/TJDOCS/SITE CATCHER／サイトキャッチャー/SITE CATCHER_MOM.docx',\n",
       " '/Users/nita/Desktop/TJDOCS/SALTO/SALTO_MOM.docx',\n",
       " '/Users/nita/Desktop/TJDOCS/IDAJ／アイディーエージェー/IDAJ_MOM.docx',\n",
       " '/Users/nita/Desktop/TJDOCS/Daifuku／ダイフク/DAIFUKU_MOM.docx',\n",
       " '/Users/nita/Desktop/TJDOCS/Gbrain/Gbrain_MOM.docx',\n",
       " '/Users/nita/Desktop/TJDOCS/Riv/Riv_MOM.docx',\n",
       " '/Users/nita/Desktop/TJDOCS/DIGITAL VORN／デジタルフォルン/DIGITAL VORN_MOM.docx',\n",
       " '/Users/nita/Desktop/TJDOCS/Wayfarer/WAYFARER_議事録.docx',\n",
       " '/Users/nita/Desktop/TJDOCS/Aight（Cuval）/Aight（Cuval）_MOM.docx',\n",
       " '/Users/nita/Desktop/TJDOCS/Sailboat／セイルボート/Sailboat_MOM.docx',\n",
       " '/Users/nita/Desktop/TJDOCS/Secure Innovation／セキュアイノベーション/Secure Innovation_MOM.docx',\n",
       " '/Users/nita/Desktop/TJDOCS/IR-Advanced Linguistic Technologies／アイアール・アクト/アイアール・アクト_MOM.docx',\n",
       " '/Users/nita/Desktop/TJDOCS/Muromachi-group/室町マネジメントサービス_MOM.docx',\n",
       " '/Users/nita/Desktop/TJDOCS/DG FUTURETECH INDIA PRIVATE LIMITED/DG FUTURETECH INDIA PRIVATE LIMITED_MOM.docx',\n",
       " '/Users/nita/Desktop/TJDOCS/ASIOT／アシオット/ASIOT_MOM.docx',\n",
       " '/Users/nita/Desktop/TJDOCS/EARTHBRAIN/EARTHBRAIN_MOM.docx',\n",
       " '/Users/nita/Desktop/TJDOCS/Japan Business Systems／日本ビジネスシステムズ/日本ビジネスシステムズ／JBS_議事録.docx',\n",
       " '/Users/nita/Desktop/TJDOCS/Frontier Field／フロンティア・フィールド/Frontier Field_MOM.docx',\n",
       " '/Users/nita/Desktop/TJDOCS/WeStyle/WeStyle_MOM.docx',\n",
       " '/Users/nita/Desktop/TJDOCS/Shimiz corporation／清水建設/Shimizu Corporation／清水建設_MOM.docx',\n",
       " '/Users/nita/Desktop/TJDOCS/Garage Bank／ガレージバンク/Garage Bank__MOM.docx',\n",
       " '/Users/nita/Desktop/TJDOCS/QTnet/QTnet_MOM.docx',\n",
       " '/Users/nita/Desktop/TJDOCS/RamaDBK/RamaDBK_MOM.docx',\n",
       " '/Users/nita/Desktop/TJDOCS/LabBase／ラボベース/LabBase_MOM.docx',\n",
       " '/Users/nita/Desktop/TJDOCS/Nomura Securities／野村證券/野村證券_MOM.docx',\n",
       " '/Users/nita/Desktop/TJDOCS/BULL/BULL_MOM.docx',\n",
       " '/Users/nita/Desktop/TJDOCS/AEONNEXT／イオンネクスト/AEONNEXT／イオンネクストAEONNEXT／イオンネクストト_MOM.docx',\n",
       " '/Users/nita/Desktop/TJDOCS/TIS/TIS_MOM.docx',\n",
       " '/Users/nita/Desktop/TJDOCS/Hitachi Systems／日立システムズ/Hitachi Systems／日立システムズ_MOM.docx',\n",
       " '/Users/nita/Desktop/TJDOCS/Honda R&D／本田技術研究所/Honda R&D_MOM.docx',\n",
       " '/Users/nita/Desktop/TJDOCS/System Research／システムリサーチ/SYSTEM RESEARCH_MOM.docx',\n",
       " '/Users/nita/Desktop/TJDOCS/SONAS／ソナス/SONAS／ソナス_MOM.docx',\n",
       " '/Users/nita/Desktop/TJDOCS/Glocalsit/Glocalist_MOM.docx',\n",
       " '/Users/nita/Desktop/TJDOCS/COMAS／コマス/COMAS_MOM.docx',\n",
       " '/Users/nita/Desktop/TJDOCS/Palette／パレット/Palette_MOM.docx',\n",
       " '/Users/nita/Desktop/TJDOCS/TOKUITEN／トクイテン/TOKUITEN_MOM.docx',\n",
       " '/Users/nita/Desktop/TJDOCS/BLUE BEES/BLUE BEES_MOM.docx',\n",
       " '/Users/nita/Desktop/TJDOCS/Carb Coin/Carb Coin_MOM.docx',\n",
       " '/Users/nita/Desktop/TJDOCS/AppBrew/AppBrew_MOM.docx',\n",
       " '/Users/nita/Desktop/TJDOCS/Oyraa/Oyraa_MOM.docx',\n",
       " '/Users/nita/Desktop/TJDOCS/Okinawa tecnos／沖縄テクノス/沖縄テクノス_MOM.docx',\n",
       " '/Users/nita/Desktop/TJDOCS/LIG/LIG_MOM.docx',\n",
       " '/Users/nita/Desktop/TJDOCS/Universal Materials Incubator／ユニバーサルマテリアルズインキュベーター/Universal Materials Incubator_MOM.docx',\n",
       " '/Users/nita/Desktop/TJDOCS/ScienceEdge／サイエンスエッジ/ScienceEdge_MOM.docx',\n",
       " '/Users/nita/Desktop/TJDOCS/DG Daiwa Ventures/DG Daiwa Ventures__MOM.docx',\n",
       " '/Users/nita/Desktop/TJDOCS/東京エレクトロン九州/東京エレクトロン九州_MOM.docx',\n",
       " '/Users/nita/Desktop/TJDOCS/SPLYZA/SPLYZA _スプライザ_MOM.docx',\n",
       " '/Users/nita/Desktop/TJDOCS/Guide Robotics／ガイドロボティクス/Guide Robotics_MOM.docx',\n",
       " '/Users/nita/Desktop/TJDOCS/Kagawa Prefecture／香川県/Kagawa Prefecture_MOM.docx',\n",
       " '/Users/nita/Desktop/TJDOCS/JMC Data/JMC Data_MOM.docx',\n",
       " '/Users/nita/Desktop/TJDOCS/Archaic／アルカイック/Archaic_MOM.docx',\n",
       " '/Users/nita/Desktop/TJDOCS/DUMSCO/DUMSCO_MOM.docx',\n",
       " '/Users/nita/Desktop/TJDOCS/FCC／エフ・シー・シー/FCC_MOM.docx',\n",
       " '/Users/nita/Desktop/TJDOCS/Commerce Robotics Inc.／コマースロボティクス/Commerce Robotics／コマースロボティクス_MOM.docx',\n",
       " '/Users/nita/Desktop/TJDOCS/MUSE/MUSE__MOM.docx',\n",
       " '/Users/nita/Desktop/TJDOCS/SMHC Co., Ltd/SMHC_MOM.docx',\n",
       " '/Users/nita/Desktop/TJDOCS/タクマ/Takuma／タクマ_MOM.docx',\n",
       " '/Users/nita/Desktop/TJDOCS/Globis／グロービス/Globis__MOM.docx',\n",
       " '/Users/nita/Desktop/TJDOCS/Asia Quest／アジアクエスト/Asia Quest_MOM.docx',\n",
       " '/Users/nita/Desktop/TJDOCS/HACHIJUNI BANK／八十二銀行/HACHIJUNI BANK_MOM.docx',\n",
       " '/Users/nita/Desktop/TJDOCS/mercari／メルカリ/メルカリ_議事録.docx',\n",
       " '/Users/nita/Desktop/TJDOCS/B Corp認証/Bcorp認証_MOM.docx',\n",
       " '/Users/nita/Desktop/TJDOCS/Jinjib／ジンジブ/Jinjib_MOM.docx',\n",
       " '/Users/nita/Desktop/TJDOCS/Plaid／プレイド/Plaid_MOM.docx',\n",
       " '/Users/nita/Desktop/TJDOCS/RUTILEA/RUTILEA_MOM.docx',\n",
       " '/Users/nita/Desktop/TJDOCS/Fukuoka City／福岡市/Fukuoka City_MOM.docx',\n",
       " '/Users/nita/Desktop/TJDOCS/Denso India／デンソーインド/Denso India_MOM.docx',\n",
       " '/Users/nita/Desktop/TJDOCS/KSK/KSK_MOM.docx',\n",
       " '/Users/nita/Desktop/TJDOCS/Donut Robtics／ドーナッツロボティクス/Donut Robotics_MOM.docx',\n",
       " '/Users/nita/Desktop/TJDOCS/Memory Lab／Mlab/Memory Lab_MOM.docx',\n",
       " '/Users/nita/Desktop/TJDOCS/STANDAGE／スタンデージ/STANDAGE／スタンデージ_MOM.docx',\n",
       " '/Users/nita/Desktop/TJDOCS/Jij/Jij_MOM.docx',\n",
       " '/Users/nita/Desktop/TJDOCS/Credit Engine／クレジットエンジン/Credit Engine_MOM.docx',\n",
       " '/Users/nita/Desktop/TJDOCS/Kansai Electric Power Co., Inc／関西電力/Kansai Electric Power_MOM.docx',\n",
       " '/Users/nita/Desktop/TJDOCS/GoComet/GoComet_MOM.docx',\n",
       " '/Users/nita/Desktop/TJDOCS/Teikoku Databank／帝国データバンク/帝国データバンク_議事録.docx',\n",
       " '/Users/nita/Desktop/TJDOCS/BeMap／ビーマップ/ビーマップ_MOM.docx',\n",
       " '/Users/nita/Desktop/TJDOCS/Inet／アイネット/Inet・アイネット_MOM.docx',\n",
       " '/Users/nita/Desktop/TJDOCS/Panasonic Life Solutions India／パナソニック・ライフソリューションズ・インディア/Panasonic Life Solutions India_MOM.docx',\n",
       " '/Users/nita/Desktop/TJDOCS/Yamaha／ヤマハ/Yamaha_MOM.docx',\n",
       " '/Users/nita/Desktop/TJDOCS/LeapMind/Leap Mind_議事録.docx',\n",
       " '/Users/nita/Desktop/TJDOCS/FEPC／電気事業連合会/電気事業連合会_MOM.docx',\n",
       " '/Users/nita/Desktop/TJDOCS/Canly／カンリー/Canly／カンリー_MOM.docx',\n",
       " '/Users/nita/Desktop/TJDOCS/Bankware Japan／バンクウェアジャパン/Bankware Japan／バンクウェアジャパン_MOM.docx',\n",
       " '/Users/nita/Desktop/TJDOCS/CBS Corporate Business Solutions Japan/CBS Consulting_MOM.docx',\n",
       " '/Users/nita/Desktop/TJDOCS/Holoway/Holoway_MOM.docx',\n",
       " '/Users/nita/Desktop/TJDOCS/RECEPTIONIST/RECEPTIONIST_MOM.docx',\n",
       " '/Users/nita/Desktop/TJDOCS/MIMS/MIMS_MOM.docx',\n",
       " '/Users/nita/Desktop/TJDOCS/Kepler/Kepler_MOM.docx',\n",
       " '/Users/nita/Desktop/TJDOCS/FALTEC／ファルテック/FALTEC_MOM.docx',\n",
       " '/Users/nita/Desktop/TJDOCS/Sotas/Sotas_MOM.docx',\n",
       " '/Users/nita/Desktop/TJDOCS/metaps／メタップス/metaps_MOM.docx',\n",
       " '/Users/nita/Desktop/TJDOCS/Def tribe/Def tribe_MOM.docx',\n",
       " '/Users/nita/Desktop/TJDOCS/UMITRON/UMITRON__MOM.docx',\n",
       " '/Users/nita/Desktop/TJDOCS/Sooon/Sooon_MOM.docx',\n",
       " '/Users/nita/Desktop/TJDOCS/Rakuten Group_Japan／楽天グループ_Japan/楽天グループ_Japan_議事録.docx',\n",
       " '/Users/nita/Desktop/TJDOCS/Rakuten Group_Japan／楽天グループ_Japan/楽天グループ_India_議事録.docx',\n",
       " '/Users/nita/Desktop/TJDOCS/sustainacraft, Inc./sustainacraft_MOM.docx',\n",
       " '/Users/nita/Desktop/TJDOCS/Green chemical／グリーンケミカル/Green chemical／グリーンケミカル_MOM.docx',\n",
       " '/Users/nita/Desktop/TJDOCS/Living Robot／リビングロボット/Living Robot／リビングロボット_MOM.docx',\n",
       " '/Users/nita/Desktop/TJDOCS/RapyutaRobotics／ラピュタロボティクス/RapyutaRobotics_MOM.docx',\n",
       " '/Users/nita/Desktop/TJDOCS/AIVA／オフシェア開発/アビシット_MOM.docx',\n",
       " '/Users/nita/Desktop/TJDOCS/IDOM CaaS Technology（NOREL）/IDOM CaaS Technology_MOM.docx',\n",
       " '/Users/nita/Desktop/TJDOCS/SPONTO/SPONTO_MOM.docx',\n",
       " '/Users/nita/Desktop/TJDOCS/Tsumiki Tech/Tsumiki Tech_MOM.docx',\n",
       " '/Users/nita/Desktop/TJDOCS/JICベンチャー・グロース・インベストメンツ/JIC_MOM.docx',\n",
       " '/Users/nita/Desktop/TJDOCS/Inter Action／株式会社インターアクション/Inter Action_MOM.docx',\n",
       " '/Users/nita/Desktop/TJDOCS/Panasonic Holdings／パナソニック ホールディングス/Panasonic Holdings_MOM.docx',\n",
       " '/Users/nita/Desktop/TJDOCS/みずほ銀行_みずほイノベーション企業支援部/みずほイノベーション企業支援部_MOM.docx',\n",
       " '/Users/nita/Desktop/TJDOCS/TeamSpirit／チームスピリット/TeamSpirit／チームスピリット_MOM.docx',\n",
       " '/Users/nita/Desktop/TJDOCS/CLPS technology Japan/CLPS_MOM.docx',\n",
       " '/Users/nita/Desktop/TJDOCS/AssistMotion/AssistMotion_MOM.docx',\n",
       " '/Users/nita/Desktop/TJDOCS/Osaka Prefecture／大阪府/大阪府商工労働部/大阪府商工労働部_MOM.docx',\n",
       " '/Users/nita/Desktop/TJDOCS/AutoTechnicJapan／オートテクニックジャパン/AutoTechnicJapan_MOM.docx',\n",
       " '/Users/nita/Desktop/TJDOCS/CYBO/CYBO_MOM.docx',\n",
       " '/Users/nita/Desktop/TJDOCS/Bionics／バイオニクス/Bionics_MOM.docx',\n",
       " '/Users/nita/Desktop/TJDOCS/HARTi/HARTi_MOM.docx',\n",
       " '/Users/nita/Desktop/TJDOCS/PIOLAX／パイオラックス/パイオラックス_議事録.docx',\n",
       " '/Users/nita/Desktop/TJDOCS/Liberaware/Liberaware_MOM.docx',\n",
       " '/Users/nita/Desktop/TJDOCS/Medical System Network／メディカルシステムネットワーク/Medical System Network_MOM..docx',\n",
       " '/Users/nita/Desktop/TJDOCS/TATA Consultancy Services/TATA Consultancy Services_MOM.docx',\n",
       " '/Users/nita/Desktop/TJDOCS/LEVERAGE／レバレッジ/LEVERAGE_MOM.docx',\n",
       " '/Users/nita/Desktop/TJDOCS/UZABASE／ユーザベース/UZABASE_MOM.docx',\n",
       " '/Users/nita/Desktop/TJDOCS/I-TEC／アイテック/I-TEC_MOM.docx',\n",
       " '/Users/nita/Desktop/TJDOCS/CAJS／一般社団法人日本中小型造船工業会/CAJS_MOM.docx',\n",
       " '/Users/nita/Desktop/TJDOCS/Arcadia Systems／アルカディア・システムズ/Arcadia Systems／アルカディア・システムズ_MOM.docx',\n",
       " '/Users/nita/Desktop/TJDOCS/Sygnos／シグノス/シグノス_MOM.docx',\n",
       " '/Users/nita/Desktop/TJDOCS/PenMyPlan/PenMyPlan_MOM.docx',\n",
       " '/Users/nita/Desktop/TJDOCS/e-Grid／イーグリッド/e-Grid_MOM.docx',\n",
       " '/Users/nita/Desktop/TJDOCS/H&Company/H&Company_MOM.docx',\n",
       " '/Users/nita/Desktop/TJDOCS/HOUSEI/HOUSEI_MOM.docx',\n",
       " '/Users/nita/Desktop/TJDOCS/DG TAKANO/DG TAKANO_MOM (Yabuoshi さんの変更 2024-08-13).docx',\n",
       " '/Users/nita/Desktop/TJDOCS/DG TAKANO/DG TAKANO_MOM.docx',\n",
       " '/Users/nita/Desktop/TJDOCS/gumi/gumi_MOM.docx',\n",
       " '/Users/nita/Desktop/TJDOCS/OZVISION／オズビジョン/OZVISION_MOM.docx',\n",
       " '/Users/nita/Desktop/TJDOCS/Univearth/Univearth_MOM.docx',\n",
       " '/Users/nita/Desktop/TJDOCS/Space Alpha System Co., Ltd／スペースアルファーシステム/Space Alpha System_MOM.docx',\n",
       " '/Users/nita/Desktop/TJDOCS/Rebirthel／リバーセル/Rebirthel_MOM.docx',\n",
       " '/Users/nita/Desktop/TJDOCS/TG Japan/TG Japan_MOM.docx',\n",
       " '/Users/nita/Desktop/TJDOCS/TAKUMA CO., LTD.／タクマ/TAKUMA＿MOM.docx',\n",
       " '/Users/nita/Desktop/TJDOCS/Makino／牧野フライス製作所/Makino_MOM.docx',\n",
       " '/Users/nita/Desktop/TJDOCS/NEMTUS／NEM技術普及推進会/NEMTUS_MOM.docx',\n",
       " '/Users/nita/Desktop/TJDOCS/Co-graph／コグラフ/Co-graph／コグラフ_MOM.docx',\n",
       " '/Users/nita/Desktop/TJDOCS/Biz Freak/Biz Freak_MOM.docx',\n",
       " '/Users/nita/Desktop/TJDOCS/Micata／ミカタ/mikata__MOM.docx',\n",
       " '/Users/nita/Desktop/TJDOCS/Linkwiz／リンクウィズ/Linkwiz_MOM.docx',\n",
       " '/Users/nita/Desktop/TJDOCS/NRI／野村総合研究所/NRI／野村総合研究所_MOM.docx',\n",
       " '/Users/nita/Desktop/TJDOCS/WHILL／ウィル/WHILL／ウィル_MOM.docx',\n",
       " '/Users/nita/Desktop/TJDOCS/GreenEnergy & Company/GreenEnergy & Company_MOM.docx',\n",
       " '/Users/nita/Desktop/TJDOCS/LocationMind/LocationMind_MOM.docx',\n",
       " '/Users/nita/Desktop/TJDOCS/Retail AI/Retail AI__MOM.docx',\n",
       " '/Users/nita/Desktop/TJDOCS/Mitsuba／光翼／ミツバ/Mitsuba_MOM.docx',\n",
       " '/Users/nita/Desktop/TJDOCS/TOKAI ELECTRONICS／東海エレクトロニクス/TOKAI ELECTRONICS_MOM.docx',\n",
       " '/Users/nita/Desktop/TJDOCS/Autify／オーティファイ/Autify_MOM.docx',\n",
       " '/Users/nita/Desktop/TJDOCS/NTT docomo／NTTドコモ/NTT docomo_MOM.docx',\n",
       " '/Users/nita/Desktop/TJDOCS/YMIRLINK／ユミルリンク/YMIRLINK_MOM.docx',\n",
       " '/Users/nita/Desktop/TJDOCS/pocket change／ポケットチェンジ\\u3000旧：COIL/pocket change_MOM.docx',\n",
       " '/Users/nita/Desktop/TJDOCS/Gulfnet／株式会社ガルフネット/Gulfnet_MOM.docx',\n",
       " '/Users/nita/Desktop/TJDOCS/NIHON KODEN／日本光電工業/日本光電_MOM.docx',\n",
       " '/Users/nita/Desktop/TJDOCS/AIOI SYSTEMS CO.,LTD./AIOI SYSTEMS_MOM.docx',\n",
       " '/Users/nita/Desktop/TJDOCS/MAYEKAWA MFG／前川製作所/MAYEKAWA MFG／前川製作所_MOM.docx',\n",
       " '/Users/nita/Desktop/TJDOCS/Pittan/Pittan_MOM.docx',\n",
       " '/Users/nita/Desktop/TJDOCS/ETHOS AI／エートスAI/ETHOS AI／エートスAI_MOM.docx',\n",
       " '/Users/nita/Desktop/TJDOCS/SHIFT/SHIFT_MOM.docx',\n",
       " '/Users/nita/Desktop/TJDOCS/UPSIDER/UPSIDER_MOM.docx',\n",
       " '/Users/nita/Desktop/TJDOCS/ヴァンテージマネジメント/ヴァンテージマネジメント_MOM.docx',\n",
       " '/Users/nita/Desktop/TJDOCS/Korea Deep Learning/Korea Deep Learning_MOM.docx',\n",
       " '/Users/nita/Desktop/TJDOCS/HowTelevision／ハウテレビジョン/HowTelevision_MOM.docx',\n",
       " '/Users/nita/Desktop/TJDOCS/TriOrb／トライオーブ/TriOrb_MOM.docx',\n",
       " '/Users/nita/Desktop/TJDOCS/NORITAKE CO., LIMITED／ノリタケカンパニーリミテド/NORITAKE_MOM.docx',\n",
       " '/Users/nita/Desktop/TJDOCS/New Innovations／ニューイノベーションズ/New Innovations _MOM.docx',\n",
       " '/Users/nita/Desktop/TJDOCS/Cybercore／サイバーコア/Cybercore／サイバーコア_MOM.docx',\n",
       " '/Users/nita/Desktop/TJDOCS/D-Standing/D-Standing_議事録.docx',\n",
       " '/Users/nita/Desktop/TJDOCS/Light&Hope/Light&Hope_MOM.docx',\n",
       " '/Users/nita/Desktop/TJDOCS/Spiral/Spiral_MOM.docx',\n",
       " '/Users/nita/Desktop/TJDOCS/Fermelanta／ファーメランタ/Fermelanta／ファーメランタ_MOM.docx',\n",
       " '/Users/nita/Desktop/TJDOCS/Geek Out/GeekOut_MOM.docx',\n",
       " '/Users/nita/Desktop/TJDOCS/International Systems Development Co.,Ltd.／国際システム/International Systems Development_MOM.docx',\n",
       " '/Users/nita/Desktop/TJDOCS/パーサヴィアランステック/パーサヴィアランステック_MOM.docx',\n",
       " '/Users/nita/Desktop/TJDOCS/QualiTech／クオリテック/QualiTech_MOM.docx',\n",
       " '/Users/nita/Desktop/TJDOCS/Astellas Pharma／アステラス製薬/Astellas Pharma／アステラス製薬_議事録.docx',\n",
       " '/Users/nita/Desktop/TJDOCS/AirTrip／エアトリ/AirTrip／エアトリ_MOM.docx',\n",
       " '/Users/nita/Desktop/TJDOCS/TAIYO INFORMATION CORP.／太陽情報株式会社/TAIYO INFORMATION CORP._MOM.docx',\n",
       " '/Users/nita/Desktop/TJDOCS/Sales Marker/Sales Marker _MOM.docx',\n",
       " '/Users/nita/Desktop/TJDOCS/VLC HOLDINGS／バルクホールディングス/VLC HOLDINGS_MOM.docx',\n",
       " '/Users/nita/Desktop/TJDOCS/Woven Planet Holdings／ウーブン・プラネット・ホールディングス/Woven Planet Holdings／ウーブン・プラネット・ホールディングス_MOM.docx',\n",
       " '/Users/nita/Desktop/TJDOCS/Prime Strategy／プライム・ストラテジー/Prime Strategy_MOM.docx',\n",
       " '/Users/nita/Desktop/TJDOCS/aucfan／オークファン/オークファン_議事録.docx',\n",
       " '/Users/nita/Desktop/TJDOCS/Allgrow／オルグロー/Allgrow_MOM.docx',\n",
       " '/Users/nita/Desktop/TJDOCS/Hupodea／ヒューポディア/Hupodea／ヒューポディア_MOM.docx',\n",
       " '/Users/nita/Desktop/TJDOCS/Mujin/Mujin_議事録.docx',\n",
       " '/Users/nita/Desktop/TJDOCS/Tangerine/Tangerine_MOM.docx',\n",
       " '/Users/nita/Desktop/TJDOCS/DXHR/DXHR_MOM.docx',\n",
       " '/Users/nita/Desktop/TJDOCS/Aisin／株式会社アイシン/AISIN_MOM.docx',\n",
       " '/Users/nita/Desktop/TJDOCS/MetaLogos/MetaLogos_MOM.docx',\n",
       " '/Users/nita/Desktop/TJDOCS/NIHON PLAST／日本プラスト/NIHON PLAST_MOM.docx',\n",
       " '/Users/nita/Desktop/TJDOCS/Japan Association of New Economy_JANE／新経済連盟/新経済連盟_MOM.docx',\n",
       " '/Users/nita/Desktop/TJDOCS/Daiwa Securities／大和証券/大和証券_MOM.docx',\n",
       " '/Users/nita/Desktop/TJDOCS/SUMITOMO FORESTRY／住友林業/SUMITOMO FORESTRY_MOM.docx',\n",
       " '/Users/nita/Desktop/TJDOCS/飯塚零／PREISM/飯塚零／PREISM_MOM.docx',\n",
       " '/Users/nita/Desktop/TJDOCS/Space quarters/Space quarters_MOM.docx',\n",
       " '/Users/nita/Desktop/TJDOCS/AIOI Systems／アイオイ・システム/AIOI Systems_MOM.docx',\n",
       " '/Users/nita/Desktop/TJDOCS/WAmazing/Wamazing_MOM.docx',\n",
       " '/Users/nita/Desktop/TJDOCS/Deepcraft/Deepcraft_MOM.docx',\n",
       " '/Users/nita/Desktop/TJDOCS/日研トータルソーシング/日研トータルソーシング_MOM.docx',\n",
       " '/Users/nita/Desktop/TJDOCS/Back Tech／バックテック/Bach Tech_MOM.docx',\n",
       " '/Users/nita/Desktop/TJDOCS/Hitachi／日立製作所/日立製作所_議事録.docx',\n",
       " '/Users/nita/Desktop/TJDOCS/Naitei Bridge／内定ブリッジ/内定ブリッジ_議事録.docx',\n",
       " '/Users/nita/Desktop/TJDOCS/Nissin FULFIL Co., Ltd／日進フルフィル/Nissin FULFIL_MOM.docx',\n",
       " '/Users/nita/Desktop/TJDOCS/OCS/OCS_MOM.docx',\n",
       " '/Users/nita/Desktop/TJDOCS/UpNext/UpNext__MOM.docx',\n",
       " '/Users/nita/Desktop/TJDOCS/TOKYU HOTELS／東急ホテルズ/TOKYU HOTELS_MOM.docx',\n",
       " '/Users/nita/Desktop/TJDOCS/ITSO/ITSO_MOM.docx',\n",
       " '/Users/nita/Desktop/TJDOCS/dely/dely_MOM.docx',\n",
       " '/Users/nita/Desktop/TJDOCS/TOKYO GAS／東京ガス/TOKYO GAS_MOM.docx',\n",
       " '/Users/nita/Desktop/TJDOCS/GRINDA/GRINDA_MOM.docx',\n",
       " '/Users/nita/Desktop/TJDOCS/Ekitan／駅探/Ekitan_MOM.docx',\n",
       " '/Users/nita/Desktop/TJDOCS/Ashisuto／株式会社アシスト/Asisuto_MOM.docx',\n",
       " '/Users/nita/Desktop/TJDOCS/Ubie／ユビー/Ubie／ユビー_議事録.docx',\n",
       " '/Users/nita/Desktop/TJDOCS/ACTUAL／アクチュアル/ACTUAL_MOM.docx',\n",
       " '/Users/nita/Desktop/TJDOCS/Nippon Dynamic Systems／ニッポンダイナミックシステムズ/Nippon Dynamic Systems_MOM.docx',\n",
       " '/Users/nita/Desktop/TJDOCS/ASTO System/ASTO System_MOM.docx',\n",
       " '/Users/nita/Desktop/TJDOCS/Kawasaki Railway Manufacturing Co., Ltd.／川崎車両/Kawasaki Railway Manufacturing_MOM.docx',\n",
       " '/Users/nita/Desktop/TJDOCS/Dioptra/Dioptra_MOM.docx',\n",
       " '/Users/nita/Desktop/TJDOCS/AICHI STEEL／愛知製鋼株式会社/AICHI STEEL_MOM (1).docx',\n",
       " '/Users/nita/Desktop/TJDOCS/AICHI STEEL／愛知製鋼株式会社/AICHI STEEL_MOM.docx',\n",
       " '/Users/nita/Desktop/TJDOCS/Yamada＆Partners／山田＆パートナーズ/Y&P_MOM.docx',\n",
       " '/Users/nita/Desktop/TJDOCS/SHION（アポタス）/SHION__MOM.docx',\n",
       " '/Users/nita/Desktop/TJDOCS/Finatext Holdings／Finatextホールディングス/Finatextホールディングス_MOM.docx',\n",
       " '/Users/nita/Desktop/TJDOCS/M-DAQ／エムダックジャパン/M-DAQ_MOM.docx',\n",
       " '/Users/nita/Desktop/TJDOCS/STREET SMART/STREET SMART_MOM.docx',\n",
       " '/Users/nita/Desktop/TJDOCS/Fast Retailing／ファーストリテイリング/Fast Retailing_MOM.docx',\n",
       " '/Users/nita/Desktop/TJDOCS/TeckMatrix／テクマトリックス/TechMatrix_MOM.docx',\n",
       " '/Users/nita/Desktop/TJDOCS/NAKAKITA SEISAKUSHO／中北製作所/Nakakita Seisakusho_MOM.docx',\n",
       " '/Users/nita/Desktop/TJDOCS/Veritus/Veritus_MOM.docx',\n",
       " '/Users/nita/Desktop/TJDOCS/Murakami Co., Ltd／ムラカミ/ムラカミ__MOM.docx',\n",
       " '/Users/nita/Desktop/TJDOCS/FOVE/FOVE_MOM.docx',\n",
       " '/Users/nita/Desktop/TJDOCS/newmo:ニューモ/newmo _MOM.docx',\n",
       " '/Users/nita/Desktop/TJDOCS/Kiyo Bank／紀陽銀行/Kiyo Bank_MOM.docx',\n",
       " '/Users/nita/Desktop/TJDOCS/Cocone／ココネ/Cocone_MOM.docx',\n",
       " '/Users/nita/Desktop/TJDOCS/FURUNO SYSTEMS／フルノシステムズ/フルノシステムズ／FURUNO SYSTEMS_MOM.docx',\n",
       " '/Users/nita/Desktop/TJDOCS/Greenphard Energy/Greenphard Energy_MOM.docx',\n",
       " '/Users/nita/Desktop/TJDOCS/Global Mobility Service/GMS_MOM.docx',\n",
       " '/Users/nita/Desktop/TJDOCS/NTT DATA INSTITUTE OF MANAGEMENT CONSULTING／NTTデータ経営研究所/NTTデータ経営研究所_MOM.docx',\n",
       " '/Users/nita/Desktop/TJDOCS/Ashirase/Ashirase_議事録.docx',\n",
       " '/Users/nita/Desktop/TJDOCS/J Trust ／Jトラスト（グループ）/J Trust group_MOM.docx',\n",
       " '/Users/nita/Desktop/TJDOCS/JNA／ジャパニアス/ジャパニアス_MOM.docx',\n",
       " '/Users/nita/Desktop/TJDOCS/The Shizuoka Bank／静岡銀行/The Shizuoka Bank／静岡銀行_MOM.docx',\n",
       " '/Users/nita/Desktop/TJDOCS/Tabist/Tabist_MOM.docx',\n",
       " '/Users/nita/Desktop/TJDOCS/connectone.design/connectone.design_議事録.docx',\n",
       " '/Users/nita/Desktop/TJDOCS/TOA/TOA_MOM.docx',\n",
       " '/Users/nita/Desktop/TJDOCS/PS Construction／ピーエス・コンストラクション/PS Construction／ピーエス・コンストラクション_MOM.docx',\n",
       " '/Users/nita/Desktop/TJDOCS/CMC CORPORATION・CMC Solutions／シイエム・シイ/CMC_MOM.docx',\n",
       " '/Users/nita/Desktop/TJDOCS/Paidy／ペイディ/Paidy_MOM.docx',\n",
       " '/Users/nita/Desktop/TJDOCS/TAISEI CORPORATION／大成建設/大成建設_MOM.docx',\n",
       " '/Users/nita/Desktop/TJDOCS/HISAMITSU PHARMACEUTICAL／久光製薬/HISAMITSU PHARMACEUTICAL／久光製薬_MOM.docx',\n",
       " '/Users/nita/Desktop/TJDOCS/Zooba/zooba_MOM.docx',\n",
       " '/Users/nita/Desktop/TJDOCS/Yokohama Port Corporation／横浜港埠頭株式会社/Yokohama Port Corporation_MOM.docx',\n",
       " '/Users/nita/Desktop/TJDOCS/batton/batton_MOM (Yabuoshi Ryota の競合コピー 2024-08-01).docx',\n",
       " '/Users/nita/Desktop/TJDOCS/batton/batton_MOM.docx',\n",
       " '/Users/nita/Desktop/TJDOCS/AGC/AGC_MOM.docx',\n",
       " '/Users/nita/Desktop/TJDOCS/Instalimb／インスタリム/instalimb_MOM.docx',\n",
       " '/Users/nita/Desktop/TJDOCS/Kubota／クボタ/クボタ_議事録.docx',\n",
       " '/Users/nita/Desktop/TJDOCS/Akekure／アケクレ（Walife／ワライフ）/アケクレ／ワライフ_MOM.docx',\n",
       " '/Users/nita/Desktop/TJDOCS/Digital Garage／デジタルガレージ/デジタルガレージ_議事録.docx',\n",
       " '/Users/nita/Desktop/TJDOCS/Daiichi Life HD／第一生命ホールディングス/第一生命ホールディングス_MOM.docx',\n",
       " '/Users/nita/Desktop/TJDOCS/H2L/H2L_MOM.docx',\n",
       " '/Users/nita/Desktop/TJDOCS/Travelience／トラベリエンス/トラベリエンス_MOM.docx',\n",
       " '/Users/nita/Desktop/TJDOCS/Netropolis/ Netropolis_MOM.docx',\n",
       " '/Users/nita/Desktop/TJDOCS/Benesse／ベネッセ/Benesse India_MOM.docx',\n",
       " '/Users/nita/Desktop/TJDOCS/LiB Consulting／リブ・コンサルティング/リブ・コンサルティング_MOM.docx',\n",
       " '/Users/nita/Desktop/TJDOCS/HOLON／ホロン/HOLON_MOM.docx',\n",
       " '/Users/nita/Desktop/TJDOCS/Konoike Transport／鴻池運輸/Konoike Transport／鴻池運輸_MOM.docx',\n",
       " '/Users/nita/Desktop/TJDOCS/REGATIS/REGATIS_MOM.docx',\n",
       " '/Users/nita/Desktop/TJDOCS/Gifu Plastic Industry／岐阜プラスチック工業/Gifu Plastic Industry_MOM.docx',\n",
       " '/Users/nita/Desktop/TJDOCS/NTT DATA INTELLILINK／NTTデータ先端技術/NTTデータ先端技術__MOM.docx',\n",
       " '/Users/nita/Desktop/TJDOCS/Fingervision／フィンガービジョン/Fingervision／フィンガービジョン_MOM.docx',\n",
       " '/Users/nita/Desktop/TJDOCS/GBL/GBL_MOM.docx',\n",
       " '/Users/nita/Desktop/TJDOCS/TOKYO ELECTRON KYUSHU／東京エレクトロン九州/TOKYO ELECTRON KYUSHU_MOM.docx',\n",
       " '/Users/nita/Desktop/TJDOCS/UNITIKA／ユニチカ/UNITIKA／ユニチカ_MOM.docx',\n",
       " '/Users/nita/Desktop/TJDOCS/知能情報システム／CJS/知能情報システム／CJS_MOM.docx',\n",
       " '/Users/nita/Desktop/TJDOCS/i`ll／アイル/アイル_議事録.docx',\n",
       " '/Users/nita/Desktop/TJDOCS/Yamazaki Mazak／ヤマザキマザック/Ymazaki Mazak／ヤマザキマザック_MOM.docx',\n",
       " '/Users/nita/Desktop/TJDOCS/Commitrust／コミットラスト/コミットラスト_MOM.docx',\n",
       " '/Users/nita/Desktop/TJDOCS/NOW ROOM/NOW ROOM_MOM.docx',\n",
       " '/Users/nita/Desktop/TJDOCS/LUCAジャパン/LUCAジャパン__MOM.docx',\n",
       " '/Users/nita/Desktop/TJDOCS/Fusic／フュージック/Fusic_MOM.docx',\n",
       " '/Users/nita/Desktop/TJDOCS/Navio computer／ナビオコンピュータ/ナビオコンピュータ_MOM.docx',\n",
       " '/Users/nita/Desktop/TJDOCS/LTU/LTU_議事録.docx',\n",
       " '/Users/nita/Desktop/TJDOCS/SAZABY LEAGUE／サザビーリーグ/SAZABY LEAGUE_MOM.docx',\n",
       " '/Users/nita/Desktop/TJDOCS/TechMagic/TechMagic_MOM.docx',\n",
       " '/Users/nita/Desktop/TJDOCS/Kartz Media Works／カーツメディアワークス/Kartz Media Works／カーツメディアワークス_MOM.docx',\n",
       " '/Users/nita/Desktop/TJDOCS/NOHARA GROUP／野原グループ/NOHARA GROUP_MOM.docx',\n",
       " '/Users/nita/Desktop/TJDOCS/OSAKA SEALING PRINTING／大阪シーリング印刷株式会社/OSAKA SEALING PRINTING_MOM.docx',\n",
       " '/Users/nita/Desktop/TJDOCS/Biztex/BizteX_MOM.docx',\n",
       " '/Users/nita/Desktop/TJDOCS/RESTAR/RESTAR_MOM.docx',\n",
       " '/Users/nita/Desktop/TJDOCS/AKASHI-KIKAI INDUSTRY CO.,Ltd.／明石機械工業/AKASHI-KIKAI INDUSTRY_MOM.docx',\n",
       " '/Users/nita/Desktop/TJDOCS/Milk./Milk．_MOM.docx',\n",
       " '/Users/nita/Desktop/TJDOCS/Oriental Consultants Global／オリエンタルコンサルタンツグローバル/ オリエンタルコンサルタンツグローバル_MOM.docx',\n",
       " '/Users/nita/Desktop/TJDOCS/FujiQ Highland／富士急ハイランド/FujiQ Highland／富士急ハイランド_MOM.docx',\n",
       " '/Users/nita/Desktop/TJDOCS/Asai/asai_MOM.docx',\n",
       " '/Users/nita/Desktop/TJDOCS/AETERLINK／エイターリンク/ AETERLINK_MOM.docx',\n",
       " '/Users/nita/Desktop/TJDOCS/stmn／スタメン/スタメン_議事録.docx',\n",
       " '/Users/nita/Desktop/TJDOCS/GTB／ジーティービー/GTB_MOM.docx',\n",
       " '/Users/nita/Desktop/TJDOCS/Suntory Holdings／サントリーホールディングス/Suntory Holdings_MOM.docx',\n",
       " '/Users/nita/Desktop/TJDOCS/SMBC／三井住友銀行/三井住友銀行_MOM.docx',\n",
       " '/Users/nita/Desktop/TJDOCS/Gate Japan／ゲートジャパン/Gate Japan__MOM.docx',\n",
       " '/Users/nita/Desktop/TJDOCS/TOKYO OHKA KOGYO／東京応化工業/TOKYO OHKA KOGYO_MOM.docx',\n",
       " '/Users/nita/Desktop/TJDOCS/PrimeNumber/PrimeNumber_MOM.docx',\n",
       " '/Users/nita/Desktop/TJDOCS/Whiteboard／ホワイトボード/ホワイトボード_MOM.docx',\n",
       " '/Users/nita/Desktop/TJDOCS/MOLCURE/MOLCURE_議事録.docx',\n",
       " '/Users/nita/Desktop/TJDOCS/Freee／フリー/Freee／フリー_MOM.docx',\n",
       " '/Users/nita/Desktop/TJDOCS/Yamaha Motors／ヤマハ発動機/Yamaha_MOM.docx',\n",
       " '/Users/nita/Desktop/TJDOCS/Makita Corporation／マキタ/Makita Corporation_MOM.docx',\n",
       " '/Users/nita/Desktop/TJDOCS/Sparticle/Sparticle_MOM.docx',\n",
       " '/Users/nita/Desktop/TJDOCS/Mitani Sangyo Co., Ltd／三谷産業/Mitani Sangyo Co., Ltd_MOM.docx',\n",
       " '/Users/nita/Desktop/TJDOCS/BEENOS/BEENOS_MOM.docx',\n",
       " '/Users/nita/Desktop/TJDOCS/Save Medical/Save Medical_MOM.docx',\n",
       " '/Users/nita/Desktop/TJDOCS/toonmedia/toonmedia_MOM.docx',\n",
       " '/Users/nita/Desktop/TJDOCS/Amkor Technology Japan／アムコー・テクノロジー・ジャパン/Amkor Technology Japan／アムコー・テクノロジー・ジャパン_MOM.docx',\n",
       " '/Users/nita/Desktop/TJDOCS/Softsu／ソフツー/ソフツー_MOM.docx',\n",
       " '/Users/nita/Desktop/TJDOCS/SOLATEC／ソラテック/SOLATEC_MOM.docx',\n",
       " '/Users/nita/Desktop/TJDOCS/Arsaga Partners／アルサーガパートナーズ/Arsaga Partners_MOM.docx',\n",
       " '/Users/nita/Desktop/TJDOCS/不動技研グループ/不動技研グループ（PAL構造／シアスタ／不動技研工業）_MOM.docx',\n",
       " '/Users/nita/Desktop/TJDOCS/NTT West／西日本電信電話株式会社/NTT West_MOM.docx',\n",
       " '/Users/nita/Desktop/TJDOCS/Ex Fusion/EX-Fusion_MOM.docx',\n",
       " '/Users/nita/Desktop/TJDOCS/Spatial Pleasure/spatial pleasure_MOM.docx',\n",
       " '/Users/nita/Desktop/TJDOCS/fictiv/fictiv_MOM.docx',\n",
       " '/Users/nita/Desktop/TJDOCS/ノリタケカンパニーリミテド/ノリタケカンパニーリミテド _MOM.docx',\n",
       " '/Users/nita/Desktop/TJDOCS/SAKURAI machinery／桜井製作所/桜井製作所_議事録.docx',\n",
       " '/Users/nita/Desktop/TJDOCS/Ginco/Ginco_議事録.docx',\n",
       " '/Users/nita/Desktop/TJDOCS/Wanget/Wanget_MOM.docx',\n",
       " '/Users/nita/Desktop/TJDOCS/ispace/ispace_MOM.docx',\n",
       " '/Users/nita/Desktop/TJDOCS/Heartbeats／ハートビーツ/Heartbeats_MOM.docx',\n",
       " '/Users/nita/Desktop/TJDOCS/PayPay/PayPay_MOM.docx',\n",
       " '/Users/nita/Desktop/TJDOCS/Fuji Film India/FujFilm_MOM.docx',\n",
       " '/Users/nita/Desktop/TJDOCS/KG Motors/KG Motors_MOM.docx',\n",
       " '/Users/nita/Desktop/TJDOCS/Sumitomo Realty & Development／住友不動産/住友不動産_MOM.docx',\n",
       " '/Users/nita/Desktop/TJDOCS/HIROTEC／ヒロテック/HIROTEC_MOM.docx',\n",
       " '/Users/nita/Desktop/TJDOCS/Dia Nippon Engineering Consultants／大日本ダイヤコンサルタント/Dia Nippon Engineering Consultants_MOM.docx',\n",
       " '/Users/nita/Desktop/TJDOCS/ugo/UGO_MOM.docx',\n",
       " '/Users/nita/Desktop/TJDOCS/GO／GO株式会社/GO_MOM.docx',\n",
       " '/Users/nita/Desktop/TJDOCS/Money Forward／マネーフォワード/マネーフォワード_議事録.docx',\n",
       " '/Users/nita/Desktop/TJDOCS/K Career Partners／ケイキャリアパートナーズ（KHI新卒採用請負）/K Career Partners_MOM.docx',\n",
       " '/Users/nita/Desktop/TJDOCS/Acall／アコール/Acall_MOM.docx',\n",
       " '/Users/nita/Desktop/TJDOCS/Kobe City／神戸市/Kobe City_MOM.docx',\n",
       " '/Users/nita/Desktop/TJDOCS/Whitehole Lab／ホワイトホールラボ/WhitehloeLab_MOM.docx',\n",
       " '/Users/nita/Desktop/TJDOCS/Givery／ギブリー/Givery_MOM.docx',\n",
       " '/Users/nita/Desktop/TJDOCS/SHIMA SEIKI MFG／島精機製作所/SHIMA SEIKI MFG_MOM.docx',\n",
       " '/Users/nita/Desktop/TJDOCS/ShinDengen／新電元工業/新電元工業_MOM.docx',\n",
       " '/Users/nita/Desktop/TJDOCS/CellSource／セルソース/CellSource／セルソース_MOM.docx',\n",
       " '/Users/nita/Desktop/TJDOCS/Fiv-e Co.Ltd.／ファイブ/ファイブ_MOM.docx',\n",
       " '/Users/nita/Desktop/TJDOCS/OUTSOURCING TECHNOLOGY／アウトソーシングテクノロジー/Outsourcing Technology／アウトソーシングテクノロジー_MOM.docx',\n",
       " '/Users/nita/Desktop/TJDOCS/TRAILBLAZER/Trail Blazer_MOM.docx',\n",
       " '/Users/nita/Desktop/TJDOCS/Soilook/Soilook_MOM.docx',\n",
       " '/Users/nita/Desktop/TJDOCS/Alpha design／アルファーデザイン/Alpha design_MOM.docx',\n",
       " '/Users/nita/Desktop/TJDOCS/Outloud／アウトラウド/Outloud_MOM.docx',\n",
       " '/Users/nita/Desktop/TJDOCS/manabiexSPRIX/manabie x SPRIX_MOM.docx',\n",
       " '/Users/nita/Desktop/TJDOCS/TEAMZ/TEAMZ_MOM.docx',\n",
       " '/Users/nita/Desktop/TJDOCS/Geo Technologies／ジオテクノロジーズ/ジオテクノロジーズ_MOM.docx',\n",
       " '/Users/nita/Desktop/TJDOCS/WARPSPACE/WARPSPACE_MOM.docx',\n",
       " '/Users/nita/Desktop/TJDOCS/Nature Innovation Group（アイカサ）/Nature Innovation Group（アイカサ）_MOM.docx',\n",
       " '/Users/nita/Desktop/TJDOCS/KUROFUNE/KUROFUNE_議事録.docx',\n",
       " '/Users/nita/Desktop/TJDOCS/Otsuka Holdings／大塚ホールディングス/Otsuka Holdings／大塚ホールディングス_MOM.docx',\n",
       " '/Users/nita/Desktop/TJDOCS/Eye Universe/Eye Universe_MOM.docx',\n",
       " '/Users/nita/Desktop/TJDOCS/Findability Sciences/Findability Sciences_MOM.docx',\n",
       " '/Users/nita/Desktop/TJDOCS/Synspective/Synspective_MOM.docx',\n",
       " '/Users/nita/Desktop/TJDOCS/Otas／オータス株式会社/Otas_MOM.docx',\n",
       " '/Users/nita/Desktop/TJDOCS/SENSYN ROBOTICS／センシンロボティクス/センシンロボティクス_議事録.docx',\n",
       " '/Users/nita/Desktop/TJDOCS/Gaudiy/Gaudiy_MOM.docx',\n",
       " '/Users/nita/Desktop/TJDOCS/Sompo Japan／損害保険ジャパン/Sompo Japan_MOM.docx',\n",
       " '/Users/nita/Desktop/TJDOCS/Sanwa Shutter／三和シヤッター工業/Sanwa Shutter_MOM.docx',\n",
       " '/Users/nita/Desktop/TJDOCS/Dot life／ドットライフ/ドットライフ_MOM.docx',\n",
       " '/Users/nita/Desktop/TJDOCS/Loglass／ログラス/Loglass_MOM.docx',\n",
       " '/Users/nita/Desktop/TJDOCS/WOTA/WOTA _MOM.docx',\n",
       " '/Users/nita/Desktop/TJDOCS/Bravesoft・ブレイブスタジオ/Bravesoft・ブレイブスタジオ_MOM.docx',\n",
       " '/Users/nita/Desktop/TJDOCS/LOMBY（旧：YPER)/Lomby_MOM.docx',\n",
       " '/Users/nita/Desktop/TJDOCS/Qibitech／キビテク/Qibitech_MOM.docx',\n",
       " '/Users/nita/Desktop/TJDOCS/Akiverse/AKIVERSE_MOM.docx',\n",
       " '/Users/nita/Desktop/TJDOCS/SPIRAL／スパイラル/SPIRAL_MOM.docx',\n",
       " '/Users/nita/Desktop/TJDOCS/Dia Nippon Engineering Consultants Co., Ltd./Dia Nippon Engineering Consultants_MOM.docx',\n",
       " '/Users/nita/Desktop/TJDOCS/タナちゃんねる（YouTube作成関連）/0622_Youtube大野様MTG議事録.docx',\n",
       " '/Users/nita/Desktop/TJDOCS/SANKO／三甲/SANKO_MOM.docx',\n",
       " '/Users/nita/Desktop/TJDOCS/PowerX／パワーエックス/PowerX_MOM.docx',\n",
       " '/Users/nita/Desktop/TJDOCS/Saleshub/Saleshub_MOM.docx',\n",
       " '/Users/nita/Desktop/TJDOCS/AI CROSS/AI CROSS_MOM.docx',\n",
       " '/Users/nita/Desktop/TJDOCS/Compass/Compass_MOM.docx',\n",
       " '/Users/nita/Desktop/TJDOCS/Nabtesco／ナブテスコ/Nabtesco／ナブテスコ_MOM.docx',\n",
       " '/Users/nita/Desktop/TJDOCS/MUFG Global Service/MUFG Global Service_MOM.docx',\n",
       " '/Users/nita/Desktop/TJDOCS/Osaka Business Development Agency／大阪産業局/Alliance/大阪産業局_MOM.docx',\n",
       " '/Users/nita/Desktop/TJDOCS/Arkray／アークレイ/arkray_MOM.docx',\n",
       " '/Users/nita/Desktop/TJDOCS/Reazon Holdings／レアゾン・ホールディングス, Inc./Reazon Holdings_MOM.docx',\n",
       " '/Users/nita/Desktop/TJDOCS/THE BANK OF IWATE／岩手銀行/THE BANK OF IWATE_MOM.docx',\n",
       " '/Users/nita/Desktop/TJDOCS/Integrity Healthcare／インテグリティ・ヘルスケア/Integrity Healthcare_MOM.docx',\n",
       " '/Users/nita/Desktop/TJDOCS/SecureLink／セキュアリンク/SecureLink_MOM.docx',\n",
       " '/Users/nita/Desktop/TJDOCS/Nagoya Railroad／名古屋鉄道/Nagoya Railroad_MOM.docx',\n",
       " '/Users/nita/Desktop/TJDOCS/ANIDRIVE／アニドライブ/ANIDRIVE_MOM.docx',\n",
       " '/Users/nita/Desktop/TJDOCS/Aikomi/Aikomi_MOM.docx',\n",
       " '/Users/nita/Desktop/TJDOCS/NAKATA MAC CO., LTD.／ナカタ・マックコーポレーション/NAKATA MAC_MOM.docx',\n",
       " '/Users/nita/Desktop/TJDOCS/Suzuki／スズキ/Suzuki／スズキ_MOM.docx',\n",
       " '/Users/nita/Desktop/TJDOCS/SHIBUYA CORPORATION／澁谷工業/SHIBUYA Corporation_MOM.docx',\n",
       " '/Users/nita/Desktop/TJDOCS/Chunichi Shimbun／中日新聞社/Chunichi Shimbun_MOM.docx',\n",
       " '/Users/nita/Desktop/TJDOCS/Sustainable Lab／サステナブル・ラボ/サステナブル・ラボ_MOM.docx',\n",
       " '/Users/nita/Desktop/TJDOCS/BIKEN/BIKEN_MOM.docx',\n",
       " '/Users/nita/Desktop/TJDOCS/TAMADIC／タマディック/TAMADIC_MOM.docx',\n",
       " '/Users/nita/Desktop/TJDOCS/Rimo/RIMO_MOM.docx',\n",
       " '/Users/nita/Desktop/TJDOCS/Indo-Sakura Software Japan/Indo-Sakura Software Japan_MOM.docx',\n",
       " '/Users/nita/Desktop/TJDOCS/Comware／コムウェア/Comware／コムウェア_MOM.docx',\n",
       " '/Users/nita/Desktop/TJDOCS/Miraist／ミライスト/ミライスト_議事録.docx',\n",
       " '/Users/nita/Desktop/TJDOCS/CosBE/CosBE_MOM.docx',\n",
       " '/Users/nita/Desktop/TJDOCS/Navio Computer／ナビオコンピュータ株式会社/Navio Computer_MOM.docx',\n",
       " '/Users/nita/Desktop/TJDOCS/Doog／ドーグ/Doog_MOM.docx',\n",
       " '/Users/nita/Desktop/TJDOCS/Funai Soken／船井総合研究所/Funai Souken／船井総合研究所_MOM.docx',\n",
       " '/Users/nita/Desktop/TJDOCS/Merpay／メルペイ/Merpay_MOM.docx',\n",
       " '/Users/nita/Desktop/TJDOCS/SBIインベストメント/SBIインベストメント_議事録.docx',\n",
       " '/Users/nita/Desktop/TJDOCS/JRCS/JRCS_MOM.docx',\n",
       " '/Users/nita/Desktop/TJDOCS/Michiteku・小野薬品工業/michiteku_MOM.docx',\n",
       " '/Users/nita/Desktop/TJDOCS/Space Aviation/Space Aviation_MOM.docx',\n",
       " '/Users/nita/Desktop/TJDOCS/BIZREACH/BIZREACH_MOM.docx',\n",
       " '/Users/nita/Desktop/TJDOCS/Fukui Murata Manufacturing／福井村田製作所/Fukui Murata Manufacturing_MOM.docx',\n",
       " '/Users/nita/Desktop/TJDOCS/Safie／セーフィー/Safie_MOM.docx',\n",
       " '/Users/nita/Desktop/TJDOCS/ASAHI INTECC／朝日インテック/ASAHI INTECC_MOM.docx',\n",
       " '/Users/nita/Desktop/TJDOCS/PeopleX/PeopleX_MOM.docx',\n",
       " '/Users/nita/Desktop/TJDOCS/RIWB／リウェビー/RIWB_MOM.docx',\n",
       " '/Users/nita/Desktop/TJDOCS/Miralink／ミラリンク/Mirlink_MOM.docx',\n",
       " '/Users/nita/Desktop/TJDOCS/Adora/Adora_MOM.docx',\n",
       " '/Users/nita/Desktop/TJDOCS/Sagri／サグリ/Sagri_サグリ_MOM.docx',\n",
       " '/Users/nita/Desktop/TJDOCS/Deloitte Tohmatsu Consulting／デロイト トーマツ コンサルティング/Deloitte Tohmatsu Consulting_MOM.docx',\n",
       " '/Users/nita/Desktop/TJDOCS/ARAV/ARAV_MOM.docx',\n",
       " '/Users/nita/Desktop/TJDOCS/accenture／アクセンチュア/accenture／アクセンチュア_議事録.docx',\n",
       " '/Users/nita/Desktop/TJDOCS/ERISA/ERISA_MOM.docx',\n",
       " '/Users/nita/Desktop/TJDOCS/Torishima Pump Mfg／酉島製作所/Torishima Pump Mfg_MOM.docx',\n",
       " '/Users/nita/Desktop/TJDOCS/SWAT Mobility Japan/SWAT Mobility Japan_MOM.docx',\n",
       " '/Users/nita/Desktop/TJDOCS/CONSCIENCE／コンシエンス/CONSCIENCE_MOM.docx',\n",
       " '/Users/nita/Desktop/TJDOCS/Aisin Automotive Haryana Private Limited／アイシン インド/Aisin Haryana Pltd_MOM.docx',\n",
       " '/Users/nita/Desktop/TJDOCS/FutureQuest／フューチャークエスト/FutureQuest_MOM.docx',\n",
       " '/Users/nita/Desktop/TJDOCS/JIA／ジャパンインベストメントアドバイザー/JIA_MOM.docx',\n",
       " '/Users/nita/Desktop/TJDOCS/LegalOn Technologies/LegalOn Technologies _議事録.docx',\n",
       " '/Users/nita/Desktop/TJDOCS/JFE Engineering／JFEエンジニアリング/JFE Engineering／JFEエンジニアリング_MOM.docx',\n",
       " '/Users/nita/Desktop/TJDOCS/CADDi／キャディ/CADDi_MOM.docx',\n",
       " '/Users/nita/Desktop/TJDOCS/CTIA/CTIA_MOM.docx',\n",
       " '/Users/nita/Desktop/TJDOCS/ARALEAD／アラリード/ARALEAD_MOM.docx',\n",
       " '/Users/nita/Desktop/TJDOCS/EAGLYS/EAGLYS_議事録.docx',\n",
       " '/Users/nita/Desktop/TJDOCS/Marusan Securities／丸三証券/丸三証券_MOM.docx',\n",
       " '/Users/nita/Desktop/TJDOCS/Tanso-man GX／タンソーマンGX/Tanso-man GX_MOM.docx',\n",
       " '/Users/nita/Desktop/TJDOCS/Sugino Machine／スギノマシン/Sugino Machine・スギノマシン_MOM.docx',\n",
       " '/Users/nita/Desktop/TJDOCS/NIKKON Information Systems／ニッコン情報システム/NIKKON Information Systems_MOM.docx',\n",
       " '/Users/nita/Desktop/TJDOCS/Canon／キヤノン/Canon_MOM.docx',\n",
       " '/Users/nita/Desktop/TJDOCS/Nintendo／任天堂/Nintendo_MOM.docx',\n",
       " '/Users/nita/Desktop/TJDOCS/Queue／キュー/Queue__MOM.docx',\n",
       " '/Users/nita/Desktop/TJDOCS/ZERO TALENT/ZERO TALENT_MOM.docx',\n",
       " '/Users/nita/Desktop/TJDOCS/OPTIMIND／オプティマインド/OPTIMIND／オプティマインド_MOM.docx',\n",
       " '/Users/nita/Desktop/TJDOCS/ANDPAD／アンドパッド/アンドパッド_議事録.docx',\n",
       " '/Users/nita/Desktop/TJDOCS/ODYSCI／オーディーシー/ODYSCI_MOM.docx',\n",
       " '/Users/nita/Desktop/TJDOCS/SGverse/SGverse_議事録.docx',\n",
       " '/Users/nita/Desktop/TJDOCS/Aromajoin/Aromajoin_MOM.docx',\n",
       " '/Users/nita/Desktop/TJDOCS/CoeFont／コエフロント/CoeFont_MOM.docx',\n",
       " '/Users/nita/Desktop/TJDOCS/Deloitte Tohmatsu Financial Advisory Service・DTFA/Deloitte Tohmatsu Financial Service_MOM.docx',\n",
       " '/Users/nita/Desktop/TJDOCS/CAL／キャル/CAL_MOM.docx',\n",
       " '/Users/nita/Desktop/TJDOCS/FAST TRADE／ファーストトレード/FAST TRADE_MOM.docx',\n",
       " '/Users/nita/Desktop/TJDOCS/Renesas Electronics／ルネサスエレクトロニクス/Renesas Electronics_MOM.docx',\n",
       " '/Users/nita/Desktop/TJDOCS/Amegumi India/Amegumi India_MOM.docx',\n",
       " '/Users/nita/Desktop/TJDOCS/DAIHATSU DIESEL MFG／ダイハツディーゼル/DAIHATSU DIESEL MFG_MOM.docx',\n",
       " '/Users/nita/Desktop/TJDOCS/Transaction Media Networks Inc./TMN_MOM.docx',\n",
       " '/Users/nita/Desktop/TJDOCS/Willbox／ウィルボックス/Willbox／ウィルボックス_MOM.docx',\n",
       " '/Users/nita/Desktop/TJDOCS/MIXI／ミクシィ/MIXI_MOM.docx',\n",
       " '/Users/nita/Desktop/TJDOCS/AOTS/AOTS_MOM.docx',\n",
       " '/Users/nita/Desktop/TJDOCS/Leading Mark／リーディングマーク/Leading Mark_MOM.docx',\n",
       " '/Users/nita/Desktop/TJDOCS/Space Power Technologies/Space Power Technologies_MOM.docx',\n",
       " '/Users/nita/Desktop/TJDOCS/Asilla／アジラ/Asilla_MOM.docx',\n",
       " '/Users/nita/Desktop/TJDOCS/Smart Shopping／スマートショッピング/Smart Shopping_MOM.docx',\n",
       " '/Users/nita/Desktop/TJDOCS/Evolany／エボラニ/Evolany_MOM.docx',\n",
       " '/Users/nita/Desktop/TJDOCS/Chengsi Japan／チェンシー ジャパン/チェンシージャパン_MOM.docx',\n",
       " '/Users/nita/Desktop/TJDOCS/EXAWIZARDS／エクスウィザーズ/EXAWIZARDS_MOM.docx',\n",
       " '/Users/nita/Desktop/TJDOCS/azbil／アズビル/アズビル_議事録.docx',\n",
       " '/Users/nita/Desktop/TJDOCS/Yokogawa Electric／横河電機/Yokogawa Electric／横河電機_MOM.docx',\n",
       " '/Users/nita/Desktop/TJDOCS/Cuebus/Cuebus_MOM.docx',\n",
       " '/Users/nita/Desktop/TJDOCS/マークラインズ/マークラインズ_自動車ファンド_MOM.docx',\n",
       " '/Users/nita/Desktop/TJDOCS/GMO GlobalSign／GMOグローバルサイン/GMO GlobalSign／GMOグローバルサイン_MOM.docx',\n",
       " '/Users/nita/Desktop/TJDOCS/Godot/Godot_MOM.docx',\n",
       " '/Users/nita/Desktop/TJDOCS/MORO/MORO Global_MOM.docx',\n",
       " '/Users/nita/Desktop/TJDOCS/AIPARK/AIPARK_MOM.docx',\n",
       " '/Users/nita/Desktop/TJDOCS/Transcosmos digital technology／トランスコスモス・デジタル・テクノロジー/Transcosmos digital technology／トランスコスモス・デジタル・テクノロジー_MOM.docx',\n",
       " '/Users/nita/Desktop/TJDOCS/SAKURUG/SAKURUG_MOM.docx',\n",
       " '/Users/nita/Desktop/TJDOCS/Fukuoka Financial Group／ふくおかフィナンシャルグループ/Fukuoka Financial Group_MOM.docx',\n",
       " '/Users/nita/Desktop/TJDOCS/DYM/DYM_MOM.docx',\n",
       " '/Users/nita/Desktop/TJDOCS/Red Dot Drone Japan/Red Dot Drone Japan_MOM.docx',\n",
       " '/Users/nita/Desktop/TJDOCS/aidiot／アイディオット/アイディオット_議事録.docx',\n",
       " '/Users/nita/Desktop/TJDOCS/DeNA／ディーエヌエー/DeNA／ディーエヌエー_MOM.docx',\n",
       " '/Users/nita/Desktop/TJDOCS/FUJIFILM Holdings Corporation／富士フイルムホールディングス/FUJIFILM Holdings_MOM.docx',\n",
       " '/Users/nita/Desktop/TJDOCS/Baidu Japan Inc.／バイドゥ/Baidu Japan Inc._MOM.docx',\n",
       " '/Users/nita/Desktop/TJDOCS/Linkers／リンカーズ/Linkers_MOM.docx',\n",
       " '/Users/nita/Desktop/TJDOCS/NeuralPort／ニューラルポート/NeuralPort_MOM.docx',\n",
       " '/Users/nita/Desktop/TJDOCS/YutakaIntegration／ユタカインテグレーション/YutakaIntegration_MOM.docx',\n",
       " '/Users/nita/Desktop/TJDOCS/Crowdworks／クラウドワークス/クラウドワークス_MOM.docx',\n",
       " '/Users/nita/Desktop/TJDOCS/SkyDrive/SkyDrive_MOM.docx',\n",
       " '/Users/nita/Desktop/TJDOCS/Eitoss／エイトス/ eitoss／エイトス_議事録.docx',\n",
       " '/Users/nita/Desktop/TJDOCS/Thinker/Thinker_MOM.docx',\n",
       " '/Users/nita/Desktop/TJDOCS/SHARP／シャープ/SHARP／シャープ_MOM.docx',\n",
       " '/Users/nita/Desktop/TJDOCS/RevComm/RevComm_MOM.docx',\n",
       " '/Users/nita/Desktop/TJDOCS/NTT DATA INTRAMART／エヌ・ティ・ティ・データ・イントラマート/NTT DATA INTRAMART_MOM.docx',\n",
       " '/Users/nita/Desktop/TJDOCS/Nakanishi Metal Works／中西金属工業/NKC_MOM.docx',\n",
       " '/Users/nita/Desktop/TJDOCS/クールジャパン機構/クールジャパン機構_MOM.docx',\n",
       " '/Users/nita/Desktop/TJDOCS/NonEntropy Japan/NonEntropy Japan_MOM.docx',\n",
       " '/Users/nita/Desktop/TJDOCS/Potlatch／ポトラッチ\\u3000（契約当事者は日本XRセンター）/Potlatch_MOM.docx',\n",
       " '/Users/nita/Desktop/TJDOCS/MORIMATSU INDUSTRY／森松工業/MORIMATSU INDUSTRY_MOM.docx',\n",
       " '/Users/nita/Desktop/TJDOCS/GENZ/GENZ_MOM.docx',\n",
       " '/Users/nita/Desktop/TJDOCS/DGFT／DGフィナンシャルテクノロジー/DGFT_MOM.docx',\n",
       " '/Users/nita/Desktop/TJDOCS/HENNGE/HENNGE_議事録.docx',\n",
       " '/Users/nita/Desktop/TJDOCS/NIPPON STEEL TEXENG／日鉄テックスエンジ/NIPPON STEEL TEXENG／日鉄テックスエンジ_MOM.docx']"
      ]
     },
     "execution_count": 30,
     "metadata": {},
     "output_type": "execute_result"
    }
   ],
   "source": [
    "docx_file_names"
   ]
  },
  {
   "cell_type": "code",
   "execution_count": 31,
   "id": "753bfc51",
   "metadata": {},
   "outputs": [],
   "source": [
    "embeddings = OpenAIEmbeddings()\n",
    "index_name='tj-slack-sales'\n",
    "# vector_store = PineconeVectorStore(index=index_name, embedding=embeddings, namespace='salesmom')"
   ]
  },
  {
   "cell_type": "code",
   "execution_count": 32,
   "id": "2db878d3",
   "metadata": {},
   "outputs": [
    {
     "name": "stderr",
     "output_type": "stream",
     "text": [
      "  0%|          | 0/538 [00:00<?, ?it/s]"
     ]
    },
    {
     "name": "stdout",
     "output_type": "stream",
     "text": [
      "Touch to Go_MOM.docx\n"
     ]
    },
    {
     "name": "stderr",
     "output_type": "stream",
     "text": [
      "  0%|          | 1/538 [00:02<24:43,  2.76s/it]"
     ]
    },
    {
     "name": "stdout",
     "output_type": "stream",
     "text": [
      "TechnoMix_MOM.docx\n"
     ]
    },
    {
     "name": "stderr",
     "output_type": "stream",
     "text": [
      "  0%|          | 2/538 [00:05<24:23,  2.73s/it]"
     ]
    },
    {
     "name": "stdout",
     "output_type": "stream",
     "text": [
      "SMSDataTech_MOM.docx\n"
     ]
    },
    {
     "name": "stderr",
     "output_type": "stream",
     "text": [
      "  1%|          | 3/538 [00:08<23:47,  2.67s/it]"
     ]
    },
    {
     "name": "stdout",
     "output_type": "stream",
     "text": [
      "PAI-R_MOM.docx\n"
     ]
    },
    {
     "name": "stderr",
     "output_type": "stream",
     "text": [
      "  1%|          | 4/538 [00:10<24:16,  2.73s/it]"
     ]
    },
    {
     "name": "stdout",
     "output_type": "stream",
     "text": [
      "FUJI_MOM.docx\n"
     ]
    },
    {
     "name": "stderr",
     "output_type": "stream",
     "text": [
      "  1%|          | 5/538 [00:13<23:57,  2.70s/it]"
     ]
    },
    {
     "name": "stdout",
     "output_type": "stream",
     "text": [
      "AIxtal_MOM.docx\n"
     ]
    },
    {
     "name": "stderr",
     "output_type": "stream",
     "text": [
      "  1%|          | 6/538 [00:16<23:23,  2.64s/it]"
     ]
    },
    {
     "name": "stdout",
     "output_type": "stream",
     "text": [
      "nanameue／ナナメウエ_MOM.docx\n"
     ]
    },
    {
     "name": "stderr",
     "output_type": "stream",
     "text": [
      "  1%|▏         | 7/538 [00:19<26:50,  3.03s/it]"
     ]
    },
    {
     "name": "stdout",
     "output_type": "stream",
     "text": [
      "Agnie Consulting_MOM.docx\n"
     ]
    },
    {
     "name": "stderr",
     "output_type": "stream",
     "text": [
      "  1%|▏         | 8/538 [00:22<25:57,  2.94s/it]"
     ]
    },
    {
     "name": "stdout",
     "output_type": "stream",
     "text": [
      "日立ソリューションズ_MOM.docx\n"
     ]
    },
    {
     "name": "stderr",
     "output_type": "stream",
     "text": [
      "  2%|▏         | 9/538 [00:26<27:50,  3.16s/it]"
     ]
    },
    {
     "name": "stdout",
     "output_type": "stream",
     "text": [
      "SyncMOF_MOM.docx\n"
     ]
    },
    {
     "name": "stderr",
     "output_type": "stream",
     "text": [
      "  2%|▏         | 10/538 [00:29<27:45,  3.15s/it]"
     ]
    },
    {
     "name": "stdout",
     "output_type": "stream",
     "text": [
      "WithLIVE_MOM.docx\n"
     ]
    },
    {
     "name": "stderr",
     "output_type": "stream",
     "text": [
      "  2%|▏         | 11/538 [00:32<26:24,  3.01s/it]"
     ]
    },
    {
     "name": "stdout",
     "output_type": "stream",
     "text": [
      "IHI_MOM.docx\n"
     ]
    },
    {
     "name": "stderr",
     "output_type": "stream",
     "text": [
      "  2%|▏         | 12/538 [00:36<29:32,  3.37s/it]"
     ]
    },
    {
     "name": "stdout",
     "output_type": "stream",
     "text": [
      "Pocketalk／ポケトーク_MOM.docx\n"
     ]
    },
    {
     "name": "stderr",
     "output_type": "stream",
     "text": [
      "  2%|▏         | 13/538 [00:38<27:32,  3.15s/it]"
     ]
    },
    {
     "name": "stdout",
     "output_type": "stream",
     "text": [
      "Eight-Japan Engineering Consultants_MOM.docx\n"
     ]
    },
    {
     "name": "stderr",
     "output_type": "stream",
     "text": [
      "  3%|▎         | 14/538 [00:41<26:44,  3.06s/it]"
     ]
    },
    {
     "name": "stdout",
     "output_type": "stream",
     "text": [
      "American Engineering Corporation_MOM.docx\n"
     ]
    },
    {
     "name": "stderr",
     "output_type": "stream",
     "text": [
      "  3%|▎         | 15/538 [00:44<26:04,  2.99s/it]"
     ]
    },
    {
     "name": "stdout",
     "output_type": "stream",
     "text": [
      "bitFlyer／ビットフライヤー_MOM.docx\n"
     ]
    },
    {
     "name": "stderr",
     "output_type": "stream",
     "text": [
      "  3%|▎         | 16/538 [00:48<29:31,  3.39s/it]"
     ]
    },
    {
     "name": "stdout",
     "output_type": "stream",
     "text": [
      "Mirai MD_MOM.docx\n"
     ]
    },
    {
     "name": "stderr",
     "output_type": "stream",
     "text": [
      "  3%|▎         | 17/538 [00:51<27:50,  3.21s/it]"
     ]
    },
    {
     "name": "stdout",
     "output_type": "stream",
     "text": [
      "Couger_MOM.docx\n"
     ]
    },
    {
     "name": "stderr",
     "output_type": "stream",
     "text": [
      "  3%|▎         | 18/538 [00:55<30:00,  3.46s/it]"
     ]
    },
    {
     "name": "stdout",
     "output_type": "stream",
     "text": [
      "Datacom_MOM.docx\n"
     ]
    },
    {
     "name": "stderr",
     "output_type": "stream",
     "text": [
      "  4%|▎         | 19/538 [00:59<29:48,  3.45s/it]"
     ]
    },
    {
     "name": "stdout",
     "output_type": "stream",
     "text": [
      "ALTURA X_MOM.docx\n"
     ]
    },
    {
     "name": "stderr",
     "output_type": "stream",
     "text": [
      "  4%|▎         | 20/538 [01:02<28:07,  3.26s/it]"
     ]
    },
    {
     "name": "stdout",
     "output_type": "stream",
     "text": [
      "VRAIN Solution／ブレインソリューション_MOM.docx\n"
     ]
    },
    {
     "name": "stderr",
     "output_type": "stream",
     "text": [
      "  4%|▍         | 21/538 [01:05<28:21,  3.29s/it]"
     ]
    },
    {
     "name": "stdout",
     "output_type": "stream",
     "text": [
      "The Bank of Yokohama／横浜銀行_MOM.docx\n"
     ]
    },
    {
     "name": "stderr",
     "output_type": "stream",
     "text": [
      "  4%|▍         | 22/538 [01:07<26:13,  3.05s/it]"
     ]
    },
    {
     "name": "stdout",
     "output_type": "stream",
     "text": [
      "Rokken_MOM.docx\n"
     ]
    },
    {
     "name": "stderr",
     "output_type": "stream",
     "text": [
      "  4%|▍         | 23/538 [01:10<24:59,  2.91s/it]"
     ]
    },
    {
     "name": "stdout",
     "output_type": "stream",
     "text": [
      "2WINS_MOM.docx\n"
     ]
    },
    {
     "name": "stderr",
     "output_type": "stream",
     "text": [
      "  4%|▍         | 24/538 [01:13<25:50,  3.02s/it]"
     ]
    },
    {
     "name": "stdout",
     "output_type": "stream",
     "text": [
      "エヌ・ティ・ティ・データ_議事録.docx\n"
     ]
    },
    {
     "name": "stderr",
     "output_type": "stream",
     "text": [
      "  5%|▍         | 25/538 [01:17<28:59,  3.39s/it]"
     ]
    },
    {
     "name": "stdout",
     "output_type": "stream",
     "text": [
      "TECH I.S. _MOM.docx\n"
     ]
    },
    {
     "name": "stderr",
     "output_type": "stream",
     "text": [
      "  5%|▍         | 26/538 [01:20<26:38,  3.12s/it]"
     ]
    },
    {
     "name": "stdout",
     "output_type": "stream",
     "text": [
      "Scoville_MOM.docx\n"
     ]
    },
    {
     "name": "stderr",
     "output_type": "stream",
     "text": [
      "  5%|▌         | 27/538 [01:23<25:21,  2.98s/it]"
     ]
    },
    {
     "name": "stdout",
     "output_type": "stream",
     "text": [
      "Zeals／ジールス_MOM.docx\n"
     ]
    },
    {
     "name": "stderr",
     "output_type": "stream",
     "text": [
      "  5%|▌         | 28/538 [01:26<25:22,  2.99s/it]"
     ]
    },
    {
     "name": "stdout",
     "output_type": "stream",
     "text": [
      "SITE CATCHER_MOM.docx\n"
     ]
    },
    {
     "name": "stderr",
     "output_type": "stream",
     "text": [
      "  5%|▌         | 29/538 [01:29<25:20,  2.99s/it]"
     ]
    },
    {
     "name": "stdout",
     "output_type": "stream",
     "text": [
      "SALTO_MOM.docx\n"
     ]
    },
    {
     "name": "stderr",
     "output_type": "stream",
     "text": [
      "  6%|▌         | 30/538 [01:31<24:52,  2.94s/it]"
     ]
    },
    {
     "name": "stdout",
     "output_type": "stream",
     "text": [
      "IDAJ_MOM.docx\n"
     ]
    },
    {
     "name": "stderr",
     "output_type": "stream",
     "text": [
      "  6%|▌         | 31/538 [01:34<24:05,  2.85s/it]"
     ]
    },
    {
     "name": "stdout",
     "output_type": "stream",
     "text": [
      "DAIFUKU_MOM.docx\n"
     ]
    },
    {
     "name": "stderr",
     "output_type": "stream",
     "text": [
      "  6%|▌         | 32/538 [01:36<22:53,  2.72s/it]"
     ]
    },
    {
     "name": "stdout",
     "output_type": "stream",
     "text": [
      "Gbrain_MOM.docx\n"
     ]
    },
    {
     "name": "stderr",
     "output_type": "stream",
     "text": [
      "  6%|▌         | 33/538 [01:40<24:35,  2.92s/it]"
     ]
    },
    {
     "name": "stdout",
     "output_type": "stream",
     "text": [
      "Riv_MOM.docx\n"
     ]
    },
    {
     "name": "stderr",
     "output_type": "stream",
     "text": [
      "  6%|▋         | 34/538 [01:43<25:10,  3.00s/it]"
     ]
    },
    {
     "name": "stdout",
     "output_type": "stream",
     "text": [
      "DIGITAL VORN_MOM.docx\n"
     ]
    },
    {
     "name": "stderr",
     "output_type": "stream",
     "text": [
      "  7%|▋         | 35/538 [01:46<23:56,  2.86s/it]"
     ]
    },
    {
     "name": "stdout",
     "output_type": "stream",
     "text": [
      "WAYFARER_議事録.docx\n"
     ]
    },
    {
     "name": "stderr",
     "output_type": "stream",
     "text": [
      "  7%|▋         | 36/538 [01:49<25:14,  3.02s/it]"
     ]
    },
    {
     "name": "stdout",
     "output_type": "stream",
     "text": [
      "Aight（Cuval）_MOM.docx\n"
     ]
    },
    {
     "name": "stderr",
     "output_type": "stream",
     "text": [
      "  7%|▋         | 37/538 [01:52<24:21,  2.92s/it]"
     ]
    },
    {
     "name": "stdout",
     "output_type": "stream",
     "text": [
      "Sailboat_MOM.docx\n"
     ]
    },
    {
     "name": "stderr",
     "output_type": "stream",
     "text": [
      "  7%|▋         | 38/538 [01:55<25:14,  3.03s/it]"
     ]
    },
    {
     "name": "stdout",
     "output_type": "stream",
     "text": [
      "Secure Innovation_MOM.docx\n"
     ]
    },
    {
     "name": "stderr",
     "output_type": "stream",
     "text": [
      "  7%|▋         | 39/538 [01:58<24:18,  2.92s/it]"
     ]
    },
    {
     "name": "stdout",
     "output_type": "stream",
     "text": [
      "アイアール・アクト_MOM.docx\n"
     ]
    },
    {
     "name": "stderr",
     "output_type": "stream",
     "text": [
      "  7%|▋         | 40/538 [02:00<23:31,  2.83s/it]"
     ]
    },
    {
     "name": "stdout",
     "output_type": "stream",
     "text": [
      "室町マネジメントサービス_MOM.docx\n"
     ]
    },
    {
     "name": "stderr",
     "output_type": "stream",
     "text": [
      "  8%|▊         | 41/538 [02:03<22:34,  2.73s/it]"
     ]
    },
    {
     "name": "stdout",
     "output_type": "stream",
     "text": [
      "DG FUTURETECH INDIA PRIVATE LIMITED_MOM.docx\n"
     ]
    },
    {
     "name": "stderr",
     "output_type": "stream",
     "text": [
      "  8%|▊         | 42/538 [02:06<22:42,  2.75s/it]"
     ]
    },
    {
     "name": "stdout",
     "output_type": "stream",
     "text": [
      "ASIOT_MOM.docx\n"
     ]
    },
    {
     "name": "stderr",
     "output_type": "stream",
     "text": [
      "  8%|▊         | 43/538 [02:09<23:38,  2.87s/it]"
     ]
    },
    {
     "name": "stdout",
     "output_type": "stream",
     "text": [
      "EARTHBRAIN_MOM.docx\n"
     ]
    },
    {
     "name": "stderr",
     "output_type": "stream",
     "text": [
      "  8%|▊         | 44/538 [02:14<29:32,  3.59s/it]"
     ]
    },
    {
     "name": "stdout",
     "output_type": "stream",
     "text": [
      "日本ビジネスシステムズ／JBS_議事録.docx\n"
     ]
    },
    {
     "name": "stderr",
     "output_type": "stream",
     "text": [
      "  8%|▊         | 45/538 [02:17<28:58,  3.53s/it]"
     ]
    },
    {
     "name": "stdout",
     "output_type": "stream",
     "text": [
      "Frontier Field_MOM.docx\n"
     ]
    },
    {
     "name": "stderr",
     "output_type": "stream",
     "text": [
      "  9%|▊         | 46/538 [02:20<27:22,  3.34s/it]"
     ]
    },
    {
     "name": "stdout",
     "output_type": "stream",
     "text": [
      "WeStyle_MOM.docx\n"
     ]
    },
    {
     "name": "stderr",
     "output_type": "stream",
     "text": [
      "  9%|▊         | 47/538 [02:23<25:56,  3.17s/it]"
     ]
    },
    {
     "name": "stdout",
     "output_type": "stream",
     "text": [
      "Shimizu Corporation／清水建設_MOM.docx\n"
     ]
    },
    {
     "name": "stderr",
     "output_type": "stream",
     "text": [
      "  9%|▉         | 48/538 [02:26<26:29,  3.24s/it]"
     ]
    },
    {
     "name": "stdout",
     "output_type": "stream",
     "text": [
      "Garage Bank__MOM.docx\n"
     ]
    },
    {
     "name": "stderr",
     "output_type": "stream",
     "text": [
      "  9%|▉         | 49/538 [02:29<25:05,  3.08s/it]"
     ]
    },
    {
     "name": "stdout",
     "output_type": "stream",
     "text": [
      "QTnet_MOM.docx\n"
     ]
    },
    {
     "name": "stderr",
     "output_type": "stream",
     "text": [
      "  9%|▉         | 50/538 [02:32<23:45,  2.92s/it]"
     ]
    },
    {
     "name": "stdout",
     "output_type": "stream",
     "text": [
      "RamaDBK_MOM.docx\n"
     ]
    },
    {
     "name": "stderr",
     "output_type": "stream",
     "text": [
      "  9%|▉         | 51/538 [02:35<25:56,  3.20s/it]"
     ]
    },
    {
     "name": "stdout",
     "output_type": "stream",
     "text": [
      "LabBase_MOM.docx\n"
     ]
    },
    {
     "name": "stderr",
     "output_type": "stream",
     "text": [
      " 10%|▉         | 52/538 [02:39<27:04,  3.34s/it]"
     ]
    },
    {
     "name": "stdout",
     "output_type": "stream",
     "text": [
      "野村證券_MOM.docx\n"
     ]
    },
    {
     "name": "stderr",
     "output_type": "stream",
     "text": [
      " 10%|▉         | 53/538 [02:42<25:13,  3.12s/it]"
     ]
    },
    {
     "name": "stdout",
     "output_type": "stream",
     "text": [
      "BULL_MOM.docx\n"
     ]
    },
    {
     "name": "stderr",
     "output_type": "stream",
     "text": [
      " 10%|█         | 54/538 [02:45<25:11,  3.12s/it]"
     ]
    },
    {
     "name": "stdout",
     "output_type": "stream",
     "text": [
      "AEONNEXT／イオンネクストAEONNEXT／イオンネクストト_MOM.docx\n"
     ]
    },
    {
     "name": "stderr",
     "output_type": "stream",
     "text": [
      " 10%|█         | 55/538 [02:49<27:00,  3.35s/it]"
     ]
    },
    {
     "name": "stdout",
     "output_type": "stream",
     "text": [
      "TIS_MOM.docx\n"
     ]
    },
    {
     "name": "stderr",
     "output_type": "stream",
     "text": [
      " 10%|█         | 56/538 [02:52<27:27,  3.42s/it]"
     ]
    },
    {
     "name": "stdout",
     "output_type": "stream",
     "text": [
      "Hitachi Systems／日立システムズ_MOM.docx\n"
     ]
    },
    {
     "name": "stderr",
     "output_type": "stream",
     "text": [
      " 11%|█         | 57/538 [02:57<30:19,  3.78s/it]"
     ]
    },
    {
     "name": "stdout",
     "output_type": "stream",
     "text": [
      "Honda R&D_MOM.docx\n"
     ]
    },
    {
     "name": "stderr",
     "output_type": "stream",
     "text": [
      " 11%|█         | 58/538 [02:59<27:10,  3.40s/it]"
     ]
    },
    {
     "name": "stdout",
     "output_type": "stream",
     "text": [
      "SYSTEM RESEARCH_MOM.docx\n"
     ]
    },
    {
     "name": "stderr",
     "output_type": "stream",
     "text": [
      " 11%|█         | 59/538 [03:03<26:28,  3.32s/it]"
     ]
    },
    {
     "name": "stdout",
     "output_type": "stream",
     "text": [
      "SONAS／ソナス_MOM.docx\n"
     ]
    },
    {
     "name": "stderr",
     "output_type": "stream",
     "text": [
      " 11%|█         | 60/538 [03:05<25:21,  3.18s/it]"
     ]
    },
    {
     "name": "stdout",
     "output_type": "stream",
     "text": [
      "Glocalist_MOM.docx\n"
     ]
    },
    {
     "name": "stderr",
     "output_type": "stream",
     "text": [
      " 11%|█▏        | 61/538 [03:10<27:37,  3.48s/it]"
     ]
    },
    {
     "name": "stdout",
     "output_type": "stream",
     "text": [
      "COMAS_MOM.docx\n"
     ]
    },
    {
     "name": "stderr",
     "output_type": "stream",
     "text": [
      " 12%|█▏        | 62/538 [03:13<26:31,  3.34s/it]"
     ]
    },
    {
     "name": "stdout",
     "output_type": "stream",
     "text": [
      "Palette_MOM.docx\n"
     ]
    },
    {
     "name": "stderr",
     "output_type": "stream",
     "text": [
      " 12%|█▏        | 63/538 [03:15<24:25,  3.08s/it]"
     ]
    },
    {
     "name": "stdout",
     "output_type": "stream",
     "text": [
      "TOKUITEN_MOM.docx\n"
     ]
    },
    {
     "name": "stderr",
     "output_type": "stream",
     "text": [
      " 12%|█▏        | 64/538 [03:18<24:17,  3.07s/it]"
     ]
    },
    {
     "name": "stdout",
     "output_type": "stream",
     "text": [
      "BLUE BEES_MOM.docx\n"
     ]
    },
    {
     "name": "stderr",
     "output_type": "stream",
     "text": [
      " 12%|█▏        | 65/538 [03:21<23:34,  2.99s/it]"
     ]
    },
    {
     "name": "stdout",
     "output_type": "stream",
     "text": [
      "Carb Coin_MOM.docx\n"
     ]
    },
    {
     "name": "stderr",
     "output_type": "stream",
     "text": [
      " 12%|█▏        | 66/538 [03:24<23:06,  2.94s/it]"
     ]
    },
    {
     "name": "stdout",
     "output_type": "stream",
     "text": [
      "AppBrew_MOM.docx\n"
     ]
    },
    {
     "name": "stderr",
     "output_type": "stream",
     "text": [
      " 12%|█▏        | 67/538 [03:27<22:45,  2.90s/it]"
     ]
    },
    {
     "name": "stdout",
     "output_type": "stream",
     "text": [
      "Oyraa_MOM.docx\n"
     ]
    },
    {
     "name": "stderr",
     "output_type": "stream",
     "text": [
      " 13%|█▎        | 68/538 [03:30<23:12,  2.96s/it]"
     ]
    },
    {
     "name": "stdout",
     "output_type": "stream",
     "text": [
      "沖縄テクノス_MOM.docx\n"
     ]
    },
    {
     "name": "stderr",
     "output_type": "stream",
     "text": [
      " 13%|█▎        | 69/538 [03:32<22:30,  2.88s/it]"
     ]
    },
    {
     "name": "stdout",
     "output_type": "stream",
     "text": [
      "LIG_MOM.docx\n"
     ]
    },
    {
     "name": "stderr",
     "output_type": "stream",
     "text": [
      " 13%|█▎        | 70/538 [03:35<22:20,  2.86s/it]"
     ]
    },
    {
     "name": "stdout",
     "output_type": "stream",
     "text": [
      "Universal Materials Incubator_MOM.docx\n"
     ]
    },
    {
     "name": "stderr",
     "output_type": "stream",
     "text": [
      " 13%|█▎        | 71/538 [03:38<21:48,  2.80s/it]"
     ]
    },
    {
     "name": "stdout",
     "output_type": "stream",
     "text": [
      "ScienceEdge_MOM.docx\n"
     ]
    },
    {
     "name": "stderr",
     "output_type": "stream",
     "text": [
      " 13%|█▎        | 72/538 [03:41<21:23,  2.76s/it]"
     ]
    },
    {
     "name": "stdout",
     "output_type": "stream",
     "text": [
      "DG Daiwa Ventures__MOM.docx\n"
     ]
    },
    {
     "name": "stderr",
     "output_type": "stream",
     "text": [
      " 14%|█▎        | 73/538 [03:44<22:13,  2.87s/it]"
     ]
    },
    {
     "name": "stdout",
     "output_type": "stream",
     "text": [
      "東京エレクトロン九州_MOM.docx\n"
     ]
    },
    {
     "name": "stderr",
     "output_type": "stream",
     "text": [
      " 14%|█▍        | 74/538 [03:47<22:25,  2.90s/it]"
     ]
    },
    {
     "name": "stdout",
     "output_type": "stream",
     "text": [
      "SPLYZA _スプライザ_MOM.docx\n"
     ]
    },
    {
     "name": "stderr",
     "output_type": "stream",
     "text": [
      " 14%|█▍        | 75/538 [03:50<22:56,  2.97s/it]"
     ]
    },
    {
     "name": "stdout",
     "output_type": "stream",
     "text": [
      "Guide Robotics_MOM.docx\n"
     ]
    },
    {
     "name": "stderr",
     "output_type": "stream",
     "text": [
      " 14%|█▍        | 76/538 [03:53<22:36,  2.94s/it]"
     ]
    },
    {
     "name": "stdout",
     "output_type": "stream",
     "text": [
      "Kagawa Prefecture_MOM.docx\n"
     ]
    },
    {
     "name": "stderr",
     "output_type": "stream",
     "text": [
      " 14%|█▍        | 77/538 [03:57<24:42,  3.22s/it]"
     ]
    },
    {
     "name": "stdout",
     "output_type": "stream",
     "text": [
      "JMC Data_MOM.docx\n"
     ]
    },
    {
     "name": "stderr",
     "output_type": "stream",
     "text": [
      " 14%|█▍        | 78/538 [03:59<23:33,  3.07s/it]"
     ]
    },
    {
     "name": "stdout",
     "output_type": "stream",
     "text": [
      "Archaic_MOM.docx\n"
     ]
    },
    {
     "name": "stderr",
     "output_type": "stream",
     "text": [
      " 15%|█▍        | 79/538 [04:03<24:20,  3.18s/it]"
     ]
    },
    {
     "name": "stdout",
     "output_type": "stream",
     "text": [
      "DUMSCO_MOM.docx\n"
     ]
    },
    {
     "name": "stderr",
     "output_type": "stream",
     "text": [
      " 15%|█▍        | 80/538 [04:06<23:26,  3.07s/it]"
     ]
    },
    {
     "name": "stdout",
     "output_type": "stream",
     "text": [
      "FCC_MOM.docx\n"
     ]
    },
    {
     "name": "stderr",
     "output_type": "stream",
     "text": [
      " 15%|█▌        | 81/538 [04:08<22:16,  2.92s/it]"
     ]
    },
    {
     "name": "stdout",
     "output_type": "stream",
     "text": [
      "Commerce Robotics／コマースロボティクス_MOM.docx\n"
     ]
    },
    {
     "name": "stderr",
     "output_type": "stream",
     "text": [
      " 15%|█▌        | 82/538 [04:12<23:36,  3.11s/it]"
     ]
    },
    {
     "name": "stdout",
     "output_type": "stream",
     "text": [
      "MUSE__MOM.docx\n"
     ]
    },
    {
     "name": "stderr",
     "output_type": "stream",
     "text": [
      " 15%|█▌        | 83/538 [04:15<23:07,  3.05s/it]"
     ]
    },
    {
     "name": "stdout",
     "output_type": "stream",
     "text": [
      "SMHC_MOM.docx\n"
     ]
    },
    {
     "name": "stderr",
     "output_type": "stream",
     "text": [
      " 16%|█▌        | 84/538 [04:17<21:58,  2.90s/it]"
     ]
    },
    {
     "name": "stdout",
     "output_type": "stream",
     "text": [
      "Takuma／タクマ_MOM.docx\n"
     ]
    },
    {
     "name": "stderr",
     "output_type": "stream",
     "text": [
      " 16%|█▌        | 85/538 [04:20<21:36,  2.86s/it]"
     ]
    },
    {
     "name": "stdout",
     "output_type": "stream",
     "text": [
      "Globis__MOM.docx\n"
     ]
    },
    {
     "name": "stderr",
     "output_type": "stream",
     "text": [
      " 16%|█▌        | 86/538 [04:22<20:32,  2.73s/it]"
     ]
    },
    {
     "name": "stdout",
     "output_type": "stream",
     "text": [
      "Asia Quest_MOM.docx\n"
     ]
    },
    {
     "name": "stderr",
     "output_type": "stream",
     "text": [
      " 16%|█▌        | 87/538 [04:25<20:21,  2.71s/it]"
     ]
    },
    {
     "name": "stdout",
     "output_type": "stream",
     "text": [
      "HACHIJUNI BANK_MOM.docx\n"
     ]
    },
    {
     "name": "stderr",
     "output_type": "stream",
     "text": [
      " 16%|█▋        | 88/538 [04:28<21:41,  2.89s/it]"
     ]
    },
    {
     "name": "stdout",
     "output_type": "stream",
     "text": [
      "メルカリ_議事録.docx\n"
     ]
    },
    {
     "name": "stderr",
     "output_type": "stream",
     "text": [
      " 17%|█▋        | 89/538 [04:33<25:11,  3.37s/it]"
     ]
    },
    {
     "name": "stdout",
     "output_type": "stream",
     "text": [
      "Bcorp認証_MOM.docx\n"
     ]
    },
    {
     "name": "stderr",
     "output_type": "stream",
     "text": [
      " 17%|█▋        | 90/538 [04:35<23:16,  3.12s/it]"
     ]
    },
    {
     "name": "stdout",
     "output_type": "stream",
     "text": [
      "Jinjib_MOM.docx\n"
     ]
    },
    {
     "name": "stderr",
     "output_type": "stream",
     "text": [
      " 17%|█▋        | 91/538 [04:38<23:05,  3.10s/it]"
     ]
    },
    {
     "name": "stdout",
     "output_type": "stream",
     "text": [
      "Plaid_MOM.docx\n"
     ]
    },
    {
     "name": "stderr",
     "output_type": "stream",
     "text": [
      " 17%|█▋        | 92/538 [04:43<26:41,  3.59s/it]"
     ]
    },
    {
     "name": "stdout",
     "output_type": "stream",
     "text": [
      "RUTILEA_MOM.docx\n"
     ]
    },
    {
     "name": "stderr",
     "output_type": "stream",
     "text": [
      " 17%|█▋        | 93/538 [04:46<25:35,  3.45s/it]"
     ]
    },
    {
     "name": "stdout",
     "output_type": "stream",
     "text": [
      "Fukuoka City_MOM.docx\n"
     ]
    },
    {
     "name": "stderr",
     "output_type": "stream",
     "text": [
      " 17%|█▋        | 94/538 [04:50<25:24,  3.43s/it]"
     ]
    },
    {
     "name": "stdout",
     "output_type": "stream",
     "text": [
      "Denso India_MOM.docx\n"
     ]
    },
    {
     "name": "stderr",
     "output_type": "stream",
     "text": [
      " 18%|█▊        | 95/538 [04:53<24:22,  3.30s/it]"
     ]
    },
    {
     "name": "stdout",
     "output_type": "stream",
     "text": [
      "KSK_MOM.docx\n"
     ]
    },
    {
     "name": "stderr",
     "output_type": "stream",
     "text": [
      " 18%|█▊        | 96/538 [04:55<22:33,  3.06s/it]"
     ]
    },
    {
     "name": "stdout",
     "output_type": "stream",
     "text": [
      "Donut Robotics_MOM.docx\n"
     ]
    },
    {
     "name": "stderr",
     "output_type": "stream",
     "text": [
      " 18%|█▊        | 97/538 [04:59<24:07,  3.28s/it]"
     ]
    },
    {
     "name": "stdout",
     "output_type": "stream",
     "text": [
      "Memory Lab_MOM.docx\n"
     ]
    },
    {
     "name": "stderr",
     "output_type": "stream",
     "text": [
      " 18%|█▊        | 98/538 [05:02<23:18,  3.18s/it]"
     ]
    },
    {
     "name": "stdout",
     "output_type": "stream",
     "text": [
      "STANDAGE／スタンデージ_MOM.docx\n"
     ]
    },
    {
     "name": "stderr",
     "output_type": "stream",
     "text": [
      " 18%|█▊        | 99/538 [05:04<22:05,  3.02s/it]"
     ]
    },
    {
     "name": "stdout",
     "output_type": "stream",
     "text": [
      "Jij_MOM.docx\n"
     ]
    },
    {
     "name": "stderr",
     "output_type": "stream",
     "text": [
      " 19%|█▊        | 100/538 [05:08<22:09,  3.04s/it]"
     ]
    },
    {
     "name": "stdout",
     "output_type": "stream",
     "text": [
      "Credit Engine_MOM.docx\n"
     ]
    },
    {
     "name": "stderr",
     "output_type": "stream",
     "text": [
      " 19%|█▉        | 101/538 [05:11<23:30,  3.23s/it]"
     ]
    },
    {
     "name": "stdout",
     "output_type": "stream",
     "text": [
      "Kansai Electric Power_MOM.docx\n"
     ]
    },
    {
     "name": "stderr",
     "output_type": "stream",
     "text": [
      " 19%|█▉        | 102/538 [05:14<23:26,  3.23s/it]"
     ]
    },
    {
     "name": "stdout",
     "output_type": "stream",
     "text": [
      "GoComet_MOM.docx\n"
     ]
    },
    {
     "name": "stderr",
     "output_type": "stream",
     "text": [
      " 19%|█▉        | 103/538 [05:17<22:50,  3.15s/it]"
     ]
    },
    {
     "name": "stdout",
     "output_type": "stream",
     "text": [
      "帝国データバンク_議事録.docx\n"
     ]
    },
    {
     "name": "stderr",
     "output_type": "stream",
     "text": [
      " 19%|█▉        | 104/538 [05:20<22:20,  3.09s/it]"
     ]
    },
    {
     "name": "stdout",
     "output_type": "stream",
     "text": [
      "ビーマップ_MOM.docx\n"
     ]
    },
    {
     "name": "stderr",
     "output_type": "stream",
     "text": [
      " 20%|█▉        | 105/538 [05:23<21:28,  2.98s/it]"
     ]
    },
    {
     "name": "stdout",
     "output_type": "stream",
     "text": [
      "Inet・アイネット_MOM.docx\n"
     ]
    },
    {
     "name": "stderr",
     "output_type": "stream",
     "text": [
      " 20%|█▉        | 106/538 [05:26<21:20,  2.96s/it]"
     ]
    },
    {
     "name": "stdout",
     "output_type": "stream",
     "text": [
      "Panasonic Life Solutions India_MOM.docx\n"
     ]
    },
    {
     "name": "stderr",
     "output_type": "stream",
     "text": [
      " 20%|█▉        | 107/538 [05:29<21:21,  2.97s/it]"
     ]
    },
    {
     "name": "stdout",
     "output_type": "stream",
     "text": [
      "Yamaha_MOM.docx\n"
     ]
    },
    {
     "name": "stderr",
     "output_type": "stream",
     "text": [
      " 20%|██        | 108/538 [05:32<20:28,  2.86s/it]"
     ]
    },
    {
     "name": "stdout",
     "output_type": "stream",
     "text": [
      "Leap Mind_議事録.docx\n"
     ]
    },
    {
     "name": "stderr",
     "output_type": "stream",
     "text": [
      " 20%|██        | 109/538 [05:35<22:21,  3.13s/it]"
     ]
    },
    {
     "name": "stdout",
     "output_type": "stream",
     "text": [
      "電気事業連合会_MOM.docx\n"
     ]
    },
    {
     "name": "stderr",
     "output_type": "stream",
     "text": [
      " 20%|██        | 110/538 [05:38<22:03,  3.09s/it]"
     ]
    },
    {
     "name": "stdout",
     "output_type": "stream",
     "text": [
      "Canly／カンリー_MOM.docx\n"
     ]
    },
    {
     "name": "stderr",
     "output_type": "stream",
     "text": [
      " 21%|██        | 111/538 [05:42<23:37,  3.32s/it]"
     ]
    },
    {
     "name": "stdout",
     "output_type": "stream",
     "text": [
      "Bankware Japan／バンクウェアジャパン_MOM.docx\n"
     ]
    },
    {
     "name": "stderr",
     "output_type": "stream",
     "text": [
      " 21%|██        | 112/538 [05:45<21:26,  3.02s/it]"
     ]
    },
    {
     "name": "stdout",
     "output_type": "stream",
     "text": [
      "CBS Consulting_MOM.docx\n"
     ]
    },
    {
     "name": "stderr",
     "output_type": "stream",
     "text": [
      " 21%|██        | 113/538 [05:48<22:09,  3.13s/it]"
     ]
    },
    {
     "name": "stdout",
     "output_type": "stream",
     "text": [
      "Holoway_MOM.docx\n"
     ]
    },
    {
     "name": "stderr",
     "output_type": "stream",
     "text": [
      " 21%|██        | 114/538 [05:51<21:14,  3.00s/it]"
     ]
    },
    {
     "name": "stdout",
     "output_type": "stream",
     "text": [
      "RECEPTIONIST_MOM.docx\n"
     ]
    },
    {
     "name": "stderr",
     "output_type": "stream",
     "text": [
      " 21%|██▏       | 115/538 [05:54<22:11,  3.15s/it]"
     ]
    },
    {
     "name": "stdout",
     "output_type": "stream",
     "text": [
      "MIMS_MOM.docx\n"
     ]
    },
    {
     "name": "stderr",
     "output_type": "stream",
     "text": [
      " 22%|██▏       | 116/538 [05:58<23:17,  3.31s/it]"
     ]
    },
    {
     "name": "stdout",
     "output_type": "stream",
     "text": [
      "Kepler_MOM.docx\n"
     ]
    },
    {
     "name": "stderr",
     "output_type": "stream",
     "text": [
      " 22%|██▏       | 117/538 [06:01<22:36,  3.22s/it]"
     ]
    },
    {
     "name": "stdout",
     "output_type": "stream",
     "text": [
      "FALTEC_MOM.docx\n"
     ]
    },
    {
     "name": "stderr",
     "output_type": "stream",
     "text": [
      " 22%|██▏       | 118/538 [06:04<22:02,  3.15s/it]"
     ]
    },
    {
     "name": "stdout",
     "output_type": "stream",
     "text": [
      "Sotas_MOM.docx\n"
     ]
    },
    {
     "name": "stderr",
     "output_type": "stream",
     "text": [
      " 22%|██▏       | 119/538 [06:07<22:37,  3.24s/it]"
     ]
    },
    {
     "name": "stdout",
     "output_type": "stream",
     "text": [
      "metaps_MOM.docx\n"
     ]
    },
    {
     "name": "stderr",
     "output_type": "stream",
     "text": [
      " 22%|██▏       | 120/538 [06:11<23:43,  3.40s/it]"
     ]
    },
    {
     "name": "stdout",
     "output_type": "stream",
     "text": [
      "Def tribe_MOM.docx\n"
     ]
    },
    {
     "name": "stderr",
     "output_type": "stream",
     "text": [
      " 22%|██▏       | 121/538 [06:14<22:17,  3.21s/it]"
     ]
    },
    {
     "name": "stdout",
     "output_type": "stream",
     "text": [
      "UMITRON__MOM.docx\n"
     ]
    },
    {
     "name": "stderr",
     "output_type": "stream",
     "text": [
      " 23%|██▎       | 122/538 [06:17<21:22,  3.08s/it]"
     ]
    },
    {
     "name": "stdout",
     "output_type": "stream",
     "text": [
      "Sooon_MOM.docx\n"
     ]
    },
    {
     "name": "stderr",
     "output_type": "stream",
     "text": [
      " 23%|██▎       | 123/538 [06:19<20:04,  2.90s/it]"
     ]
    },
    {
     "name": "stdout",
     "output_type": "stream",
     "text": [
      "楽天グループ_Japan_議事録.docx\n"
     ]
    },
    {
     "name": "stderr",
     "output_type": "stream",
     "text": [
      " 23%|██▎       | 124/538 [06:24<25:07,  3.64s/it]"
     ]
    },
    {
     "name": "stdout",
     "output_type": "stream",
     "text": [
      "楽天グループ_India_議事録.docx\n"
     ]
    },
    {
     "name": "stderr",
     "output_type": "stream",
     "text": [
      " 23%|██▎       | 125/538 [06:28<23:56,  3.48s/it]"
     ]
    },
    {
     "name": "stdout",
     "output_type": "stream",
     "text": [
      "sustainacraft_MOM.docx\n"
     ]
    },
    {
     "name": "stderr",
     "output_type": "stream",
     "text": [
      " 23%|██▎       | 126/538 [06:31<23:36,  3.44s/it]"
     ]
    },
    {
     "name": "stdout",
     "output_type": "stream",
     "text": [
      "Green chemical／グリーンケミカル_MOM.docx\n"
     ]
    },
    {
     "name": "stderr",
     "output_type": "stream",
     "text": [
      " 24%|██▎       | 127/538 [06:34<22:34,  3.30s/it]"
     ]
    },
    {
     "name": "stdout",
     "output_type": "stream",
     "text": [
      "Living Robot／リビングロボット_MOM.docx\n"
     ]
    },
    {
     "name": "stderr",
     "output_type": "stream",
     "text": [
      " 24%|██▍       | 128/538 [06:37<23:09,  3.39s/it]"
     ]
    },
    {
     "name": "stdout",
     "output_type": "stream",
     "text": [
      "RapyutaRobotics_MOM.docx\n"
     ]
    },
    {
     "name": "stderr",
     "output_type": "stream",
     "text": [
      " 24%|██▍       | 129/538 [06:41<22:51,  3.35s/it]"
     ]
    },
    {
     "name": "stdout",
     "output_type": "stream",
     "text": [
      "アビシット_MOM.docx\n"
     ]
    },
    {
     "name": "stderr",
     "output_type": "stream",
     "text": [
      " 24%|██▍       | 130/538 [06:44<21:47,  3.21s/it]"
     ]
    },
    {
     "name": "stdout",
     "output_type": "stream",
     "text": [
      "IDOM CaaS Technology_MOM.docx\n"
     ]
    },
    {
     "name": "stderr",
     "output_type": "stream",
     "text": [
      " 24%|██▍       | 131/538 [06:46<20:34,  3.03s/it]"
     ]
    },
    {
     "name": "stdout",
     "output_type": "stream",
     "text": [
      "SPONTO_MOM.docx\n"
     ]
    },
    {
     "name": "stderr",
     "output_type": "stream",
     "text": [
      " 25%|██▍       | 132/538 [06:49<19:19,  2.86s/it]"
     ]
    },
    {
     "name": "stdout",
     "output_type": "stream",
     "text": [
      "Tsumiki Tech_MOM.docx\n"
     ]
    },
    {
     "name": "stderr",
     "output_type": "stream",
     "text": [
      " 25%|██▍       | 133/538 [06:51<19:17,  2.86s/it]"
     ]
    },
    {
     "name": "stdout",
     "output_type": "stream",
     "text": [
      "JIC_MOM.docx\n"
     ]
    },
    {
     "name": "stderr",
     "output_type": "stream",
     "text": [
      " 25%|██▍       | 134/538 [06:54<18:33,  2.76s/it]"
     ]
    },
    {
     "name": "stdout",
     "output_type": "stream",
     "text": [
      "Inter Action_MOM.docx\n"
     ]
    },
    {
     "name": "stderr",
     "output_type": "stream",
     "text": [
      " 25%|██▌       | 135/538 [06:57<18:21,  2.73s/it]"
     ]
    },
    {
     "name": "stdout",
     "output_type": "stream",
     "text": [
      "Panasonic Holdings_MOM.docx\n"
     ]
    },
    {
     "name": "stderr",
     "output_type": "stream",
     "text": [
      " 25%|██▌       | 136/538 [06:59<18:17,  2.73s/it]"
     ]
    },
    {
     "name": "stdout",
     "output_type": "stream",
     "text": [
      "みずほイノベーション企業支援部_MOM.docx\n"
     ]
    },
    {
     "name": "stderr",
     "output_type": "stream",
     "text": [
      " 25%|██▌       | 137/538 [07:03<20:16,  3.03s/it]"
     ]
    },
    {
     "name": "stdout",
     "output_type": "stream",
     "text": [
      "TeamSpirit／チームスピリット_MOM.docx\n"
     ]
    },
    {
     "name": "stderr",
     "output_type": "stream",
     "text": [
      " 26%|██▌       | 138/538 [07:06<20:09,  3.02s/it]"
     ]
    },
    {
     "name": "stdout",
     "output_type": "stream",
     "text": [
      "CLPS_MOM.docx\n"
     ]
    },
    {
     "name": "stderr",
     "output_type": "stream",
     "text": [
      " 26%|██▌       | 139/538 [07:09<20:04,  3.02s/it]"
     ]
    },
    {
     "name": "stdout",
     "output_type": "stream",
     "text": [
      "AssistMotion_MOM.docx\n"
     ]
    },
    {
     "name": "stderr",
     "output_type": "stream",
     "text": [
      " 26%|██▌       | 140/538 [07:12<19:06,  2.88s/it]"
     ]
    },
    {
     "name": "stdout",
     "output_type": "stream",
     "text": [
      "大阪府商工労働部_MOM.docx\n"
     ]
    },
    {
     "name": "stderr",
     "output_type": "stream",
     "text": [
      " 26%|██▌       | 141/538 [07:14<18:39,  2.82s/it]"
     ]
    },
    {
     "name": "stdout",
     "output_type": "stream",
     "text": [
      "AutoTechnicJapan_MOM.docx\n"
     ]
    },
    {
     "name": "stderr",
     "output_type": "stream",
     "text": [
      " 26%|██▋       | 142/538 [07:19<21:34,  3.27s/it]"
     ]
    },
    {
     "name": "stdout",
     "output_type": "stream",
     "text": [
      "CYBO_MOM.docx\n"
     ]
    },
    {
     "name": "stderr",
     "output_type": "stream",
     "text": [
      " 27%|██▋       | 143/538 [07:22<21:12,  3.22s/it]"
     ]
    },
    {
     "name": "stdout",
     "output_type": "stream",
     "text": [
      "Bionics_MOM.docx\n"
     ]
    },
    {
     "name": "stderr",
     "output_type": "stream",
     "text": [
      " 27%|██▋       | 144/538 [07:24<19:45,  3.01s/it]"
     ]
    },
    {
     "name": "stdout",
     "output_type": "stream",
     "text": [
      "HARTi_MOM.docx\n"
     ]
    },
    {
     "name": "stderr",
     "output_type": "stream",
     "text": [
      " 27%|██▋       | 145/538 [07:27<18:01,  2.75s/it]"
     ]
    },
    {
     "name": "stdout",
     "output_type": "stream",
     "text": [
      "パイオラックス_議事録.docx\n"
     ]
    },
    {
     "name": "stderr",
     "output_type": "stream",
     "text": [
      " 27%|██▋       | 146/538 [07:31<20:27,  3.13s/it]"
     ]
    },
    {
     "name": "stdout",
     "output_type": "stream",
     "text": [
      "Liberaware_MOM.docx\n"
     ]
    },
    {
     "name": "stderr",
     "output_type": "stream",
     "text": [
      " 27%|██▋       | 147/538 [07:33<19:00,  2.92s/it]"
     ]
    },
    {
     "name": "stdout",
     "output_type": "stream",
     "text": [
      "Medical System Network_MOM..docx\n"
     ]
    },
    {
     "name": "stderr",
     "output_type": "stream",
     "text": [
      " 28%|██▊       | 148/538 [07:36<18:28,  2.84s/it]"
     ]
    },
    {
     "name": "stdout",
     "output_type": "stream",
     "text": [
      "TATA Consultancy Services_MOM.docx\n"
     ]
    },
    {
     "name": "stderr",
     "output_type": "stream",
     "text": [
      " 28%|██▊       | 149/538 [07:39<18:51,  2.91s/it]"
     ]
    },
    {
     "name": "stdout",
     "output_type": "stream",
     "text": [
      "LEVERAGE_MOM.docx\n"
     ]
    },
    {
     "name": "stderr",
     "output_type": "stream",
     "text": [
      " 28%|██▊       | 150/538 [07:42<19:23,  3.00s/it]"
     ]
    },
    {
     "name": "stdout",
     "output_type": "stream",
     "text": [
      "UZABASE_MOM.docx\n"
     ]
    },
    {
     "name": "stderr",
     "output_type": "stream",
     "text": [
      " 28%|██▊       | 151/538 [07:44<18:31,  2.87s/it]"
     ]
    },
    {
     "name": "stdout",
     "output_type": "stream",
     "text": [
      "I-TEC_MOM.docx\n"
     ]
    },
    {
     "name": "stderr",
     "output_type": "stream",
     "text": [
      " 28%|██▊       | 152/538 [07:47<17:46,  2.76s/it]"
     ]
    },
    {
     "name": "stdout",
     "output_type": "stream",
     "text": [
      "CAJS_MOM.docx\n"
     ]
    },
    {
     "name": "stderr",
     "output_type": "stream",
     "text": [
      " 28%|██▊       | 153/538 [07:49<16:52,  2.63s/it]"
     ]
    },
    {
     "name": "stdout",
     "output_type": "stream",
     "text": [
      "Arcadia Systems／アルカディア・システムズ_MOM.docx\n"
     ]
    },
    {
     "name": "stderr",
     "output_type": "stream",
     "text": [
      " 29%|██▊       | 154/538 [07:52<17:05,  2.67s/it]"
     ]
    },
    {
     "name": "stdout",
     "output_type": "stream",
     "text": [
      "シグノス_MOM.docx\n"
     ]
    },
    {
     "name": "stderr",
     "output_type": "stream",
     "text": [
      " 29%|██▉       | 155/538 [07:55<17:23,  2.73s/it]"
     ]
    },
    {
     "name": "stdout",
     "output_type": "stream",
     "text": [
      "PenMyPlan_MOM.docx\n"
     ]
    },
    {
     "name": "stderr",
     "output_type": "stream",
     "text": [
      " 29%|██▉       | 156/538 [07:58<17:13,  2.71s/it]"
     ]
    },
    {
     "name": "stdout",
     "output_type": "stream",
     "text": [
      "e-Grid_MOM.docx\n"
     ]
    },
    {
     "name": "stderr",
     "output_type": "stream",
     "text": [
      " 29%|██▉       | 157/538 [08:01<19:00,  2.99s/it]"
     ]
    },
    {
     "name": "stdout",
     "output_type": "stream",
     "text": [
      "H&Company_MOM.docx\n"
     ]
    },
    {
     "name": "stderr",
     "output_type": "stream",
     "text": [
      " 29%|██▉       | 158/538 [08:04<18:49,  2.97s/it]"
     ]
    },
    {
     "name": "stdout",
     "output_type": "stream",
     "text": [
      "HOUSEI_MOM.docx\n"
     ]
    },
    {
     "name": "stderr",
     "output_type": "stream",
     "text": [
      " 30%|██▉       | 159/538 [08:07<18:23,  2.91s/it]"
     ]
    },
    {
     "name": "stdout",
     "output_type": "stream",
     "text": [
      "DG TAKANO_MOM (Yabuoshi さんの変更 2024-08-13).docx\n"
     ]
    },
    {
     "name": "stderr",
     "output_type": "stream",
     "text": [
      " 30%|██▉       | 160/538 [08:12<22:18,  3.54s/it]"
     ]
    },
    {
     "name": "stdout",
     "output_type": "stream",
     "text": [
      "DG TAKANO_MOM.docx\n"
     ]
    },
    {
     "name": "stderr",
     "output_type": "stream",
     "text": [
      " 30%|██▉       | 161/538 [08:19<28:57,  4.61s/it]"
     ]
    },
    {
     "name": "stdout",
     "output_type": "stream",
     "text": [
      "gumi_MOM.docx\n"
     ]
    },
    {
     "name": "stderr",
     "output_type": "stream",
     "text": [
      " 30%|███       | 162/538 [08:22<25:28,  4.06s/it]"
     ]
    },
    {
     "name": "stdout",
     "output_type": "stream",
     "text": [
      "OZVISION_MOM.docx\n"
     ]
    },
    {
     "name": "stderr",
     "output_type": "stream",
     "text": [
      " 30%|███       | 163/538 [08:25<24:20,  3.89s/it]"
     ]
    },
    {
     "name": "stdout",
     "output_type": "stream",
     "text": [
      "Univearth_MOM.docx\n"
     ]
    },
    {
     "name": "stderr",
     "output_type": "stream",
     "text": [
      " 30%|███       | 164/538 [08:28<22:49,  3.66s/it]"
     ]
    },
    {
     "name": "stdout",
     "output_type": "stream",
     "text": [
      "Space Alpha System_MOM.docx\n"
     ]
    },
    {
     "name": "stderr",
     "output_type": "stream",
     "text": [
      " 31%|███       | 165/538 [08:31<20:41,  3.33s/it]"
     ]
    },
    {
     "name": "stdout",
     "output_type": "stream",
     "text": [
      "Rebirthel_MOM.docx\n"
     ]
    },
    {
     "name": "stderr",
     "output_type": "stream",
     "text": [
      " 31%|███       | 166/538 [08:33<19:05,  3.08s/it]"
     ]
    },
    {
     "name": "stdout",
     "output_type": "stream",
     "text": [
      "TG Japan_MOM.docx\n"
     ]
    },
    {
     "name": "stderr",
     "output_type": "stream",
     "text": [
      " 31%|███       | 167/538 [08:36<18:34,  3.00s/it]"
     ]
    },
    {
     "name": "stdout",
     "output_type": "stream",
     "text": [
      "TAKUMA＿MOM.docx\n"
     ]
    },
    {
     "name": "stderr",
     "output_type": "stream",
     "text": [
      " 31%|███       | 168/538 [08:39<17:58,  2.92s/it]"
     ]
    },
    {
     "name": "stdout",
     "output_type": "stream",
     "text": [
      "Makino_MOM.docx\n"
     ]
    },
    {
     "name": "stderr",
     "output_type": "stream",
     "text": [
      " 31%|███▏      | 169/538 [08:42<18:46,  3.05s/it]"
     ]
    },
    {
     "name": "stdout",
     "output_type": "stream",
     "text": [
      "NEMTUS_MOM.docx\n"
     ]
    },
    {
     "name": "stderr",
     "output_type": "stream",
     "text": [
      " 32%|███▏      | 170/538 [08:45<17:38,  2.88s/it]"
     ]
    },
    {
     "name": "stdout",
     "output_type": "stream",
     "text": [
      "Co-graph／コグラフ_MOM.docx\n"
     ]
    },
    {
     "name": "stderr",
     "output_type": "stream",
     "text": [
      " 32%|███▏      | 171/538 [08:48<17:14,  2.82s/it]"
     ]
    },
    {
     "name": "stdout",
     "output_type": "stream",
     "text": [
      "Biz Freak_MOM.docx\n"
     ]
    },
    {
     "name": "stderr",
     "output_type": "stream",
     "text": [
      " 32%|███▏      | 172/538 [08:50<17:06,  2.80s/it]"
     ]
    },
    {
     "name": "stdout",
     "output_type": "stream",
     "text": [
      "mikata__MOM.docx\n"
     ]
    },
    {
     "name": "stderr",
     "output_type": "stream",
     "text": [
      " 32%|███▏      | 173/538 [08:53<16:53,  2.78s/it]"
     ]
    },
    {
     "name": "stdout",
     "output_type": "stream",
     "text": [
      "Linkwiz_MOM.docx\n"
     ]
    },
    {
     "name": "stderr",
     "output_type": "stream",
     "text": [
      " 32%|███▏      | 174/538 [08:55<16:16,  2.68s/it]"
     ]
    },
    {
     "name": "stdout",
     "output_type": "stream",
     "text": [
      "NRI／野村総合研究所_MOM.docx\n"
     ]
    },
    {
     "name": "stderr",
     "output_type": "stream",
     "text": [
      " 33%|███▎      | 175/538 [08:58<15:48,  2.61s/it]"
     ]
    },
    {
     "name": "stdout",
     "output_type": "stream",
     "text": [
      "WHILL／ウィル_MOM.docx\n"
     ]
    },
    {
     "name": "stderr",
     "output_type": "stream",
     "text": [
      " 33%|███▎      | 176/538 [09:01<16:39,  2.76s/it]"
     ]
    },
    {
     "name": "stdout",
     "output_type": "stream",
     "text": [
      "GreenEnergy & Company_MOM.docx\n"
     ]
    },
    {
     "name": "stderr",
     "output_type": "stream",
     "text": [
      " 33%|███▎      | 177/538 [09:04<16:29,  2.74s/it]"
     ]
    },
    {
     "name": "stdout",
     "output_type": "stream",
     "text": [
      "LocationMind_MOM.docx\n"
     ]
    },
    {
     "name": "stderr",
     "output_type": "stream",
     "text": [
      " 33%|███▎      | 178/538 [09:06<16:16,  2.71s/it]"
     ]
    },
    {
     "name": "stdout",
     "output_type": "stream",
     "text": [
      "Retail AI__MOM.docx\n"
     ]
    },
    {
     "name": "stderr",
     "output_type": "stream",
     "text": [
      " 33%|███▎      | 179/538 [09:11<19:55,  3.33s/it]"
     ]
    },
    {
     "name": "stdout",
     "output_type": "stream",
     "text": [
      "Mitsuba_MOM.docx\n"
     ]
    },
    {
     "name": "stderr",
     "output_type": "stream",
     "text": [
      " 33%|███▎      | 180/538 [09:15<20:22,  3.42s/it]"
     ]
    },
    {
     "name": "stdout",
     "output_type": "stream",
     "text": [
      "TOKAI ELECTRONICS_MOM.docx\n"
     ]
    },
    {
     "name": "stderr",
     "output_type": "stream",
     "text": [
      " 34%|███▎      | 181/538 [09:19<22:32,  3.79s/it]"
     ]
    },
    {
     "name": "stdout",
     "output_type": "stream",
     "text": [
      "Autify_MOM.docx\n"
     ]
    },
    {
     "name": "stderr",
     "output_type": "stream",
     "text": [
      " 34%|███▍      | 182/538 [09:24<23:44,  4.00s/it]"
     ]
    },
    {
     "name": "stdout",
     "output_type": "stream",
     "text": [
      "NTT docomo_MOM.docx\n"
     ]
    },
    {
     "name": "stderr",
     "output_type": "stream",
     "text": [
      " 34%|███▍      | 183/538 [09:27<21:19,  3.61s/it]"
     ]
    },
    {
     "name": "stdout",
     "output_type": "stream",
     "text": [
      "YMIRLINK_MOM.docx\n"
     ]
    },
    {
     "name": "stderr",
     "output_type": "stream",
     "text": [
      " 34%|███▍      | 184/538 [09:29<19:27,  3.30s/it]"
     ]
    },
    {
     "name": "stdout",
     "output_type": "stream",
     "text": [
      "pocket change_MOM.docx\n"
     ]
    },
    {
     "name": "stderr",
     "output_type": "stream",
     "text": [
      " 34%|███▍      | 185/538 [09:33<19:38,  3.34s/it]"
     ]
    },
    {
     "name": "stdout",
     "output_type": "stream",
     "text": [
      "Gulfnet_MOM.docx\n"
     ]
    },
    {
     "name": "stderr",
     "output_type": "stream",
     "text": [
      " 35%|███▍      | 186/538 [09:36<20:07,  3.43s/it]"
     ]
    },
    {
     "name": "stdout",
     "output_type": "stream",
     "text": [
      "日本光電_MOM.docx\n"
     ]
    },
    {
     "name": "stderr",
     "output_type": "stream",
     "text": [
      " 35%|███▍      | 187/538 [09:39<18:17,  3.13s/it]"
     ]
    },
    {
     "name": "stdout",
     "output_type": "stream",
     "text": [
      "AIOI SYSTEMS_MOM.docx\n"
     ]
    },
    {
     "name": "stderr",
     "output_type": "stream",
     "text": [
      " 35%|███▍      | 188/538 [09:41<16:46,  2.87s/it]"
     ]
    },
    {
     "name": "stdout",
     "output_type": "stream",
     "text": [
      "MAYEKAWA MFG／前川製作所_MOM.docx\n"
     ]
    },
    {
     "name": "stderr",
     "output_type": "stream",
     "text": [
      " 35%|███▌      | 189/538 [09:44<17:00,  2.92s/it]"
     ]
    },
    {
     "name": "stdout",
     "output_type": "stream",
     "text": [
      "Pittan_MOM.docx\n"
     ]
    },
    {
     "name": "stderr",
     "output_type": "stream",
     "text": [
      " 35%|███▌      | 190/538 [09:47<16:54,  2.92s/it]"
     ]
    },
    {
     "name": "stdout",
     "output_type": "stream",
     "text": [
      "ETHOS AI／エートスAI_MOM.docx\n"
     ]
    },
    {
     "name": "stderr",
     "output_type": "stream",
     "text": [
      " 36%|███▌      | 191/538 [09:50<16:28,  2.85s/it]"
     ]
    },
    {
     "name": "stdout",
     "output_type": "stream",
     "text": [
      "SHIFT_MOM.docx\n"
     ]
    },
    {
     "name": "stderr",
     "output_type": "stream",
     "text": [
      " 36%|███▌      | 192/538 [09:53<17:26,  3.02s/it]"
     ]
    },
    {
     "name": "stdout",
     "output_type": "stream",
     "text": [
      "UPSIDER_MOM.docx\n"
     ]
    },
    {
     "name": "stderr",
     "output_type": "stream",
     "text": [
      " 36%|███▌      | 193/538 [09:55<16:25,  2.86s/it]"
     ]
    },
    {
     "name": "stdout",
     "output_type": "stream",
     "text": [
      "ヴァンテージマネジメント_MOM.docx\n"
     ]
    },
    {
     "name": "stderr",
     "output_type": "stream",
     "text": [
      " 36%|███▌      | 194/538 [09:58<16:06,  2.81s/it]"
     ]
    },
    {
     "name": "stdout",
     "output_type": "stream",
     "text": [
      "Korea Deep Learning_MOM.docx\n"
     ]
    },
    {
     "name": "stderr",
     "output_type": "stream",
     "text": [
      " 36%|███▌      | 195/538 [10:01<15:53,  2.78s/it]"
     ]
    },
    {
     "name": "stdout",
     "output_type": "stream",
     "text": [
      "HowTelevision_MOM.docx\n"
     ]
    },
    {
     "name": "stderr",
     "output_type": "stream",
     "text": [
      " 36%|███▋      | 196/538 [10:04<17:07,  3.00s/it]"
     ]
    },
    {
     "name": "stdout",
     "output_type": "stream",
     "text": [
      "TriOrb_MOM.docx\n"
     ]
    },
    {
     "name": "stderr",
     "output_type": "stream",
     "text": [
      " 37%|███▋      | 197/538 [10:10<20:57,  3.69s/it]"
     ]
    },
    {
     "name": "stdout",
     "output_type": "stream",
     "text": [
      "NORITAKE_MOM.docx\n"
     ]
    },
    {
     "name": "stderr",
     "output_type": "stream",
     "text": [
      " 37%|███▋      | 198/538 [10:13<19:21,  3.42s/it]"
     ]
    },
    {
     "name": "stdout",
     "output_type": "stream",
     "text": [
      "New Innovations _MOM.docx\n"
     ]
    },
    {
     "name": "stderr",
     "output_type": "stream",
     "text": [
      " 37%|███▋      | 199/538 [10:16<19:14,  3.41s/it]"
     ]
    },
    {
     "name": "stdout",
     "output_type": "stream",
     "text": [
      "Cybercore／サイバーコア_MOM.docx\n"
     ]
    },
    {
     "name": "stderr",
     "output_type": "stream",
     "text": [
      " 37%|███▋      | 200/538 [10:19<18:15,  3.24s/it]"
     ]
    },
    {
     "name": "stdout",
     "output_type": "stream",
     "text": [
      "D-Standing_議事録.docx\n"
     ]
    },
    {
     "name": "stderr",
     "output_type": "stream",
     "text": [
      " 37%|███▋      | 201/538 [10:22<18:56,  3.37s/it]"
     ]
    },
    {
     "name": "stdout",
     "output_type": "stream",
     "text": [
      "Light&Hope_MOM.docx\n"
     ]
    },
    {
     "name": "stderr",
     "output_type": "stream",
     "text": [
      " 38%|███▊      | 202/538 [10:25<17:28,  3.12s/it]"
     ]
    },
    {
     "name": "stdout",
     "output_type": "stream",
     "text": [
      "Spiral_MOM.docx\n"
     ]
    },
    {
     "name": "stderr",
     "output_type": "stream",
     "text": [
      " 38%|███▊      | 203/538 [10:28<17:05,  3.06s/it]"
     ]
    },
    {
     "name": "stdout",
     "output_type": "stream",
     "text": [
      "Fermelanta／ファーメランタ_MOM.docx\n"
     ]
    },
    {
     "name": "stderr",
     "output_type": "stream",
     "text": [
      " 38%|███▊      | 204/538 [10:31<17:26,  3.13s/it]"
     ]
    },
    {
     "name": "stdout",
     "output_type": "stream",
     "text": [
      "GeekOut_MOM.docx\n"
     ]
    },
    {
     "name": "stderr",
     "output_type": "stream",
     "text": [
      " 38%|███▊      | 205/538 [10:33<15:49,  2.85s/it]"
     ]
    },
    {
     "name": "stdout",
     "output_type": "stream",
     "text": [
      "International Systems Development_MOM.docx\n"
     ]
    },
    {
     "name": "stderr",
     "output_type": "stream",
     "text": [
      " 38%|███▊      | 206/538 [10:36<15:17,  2.76s/it]"
     ]
    },
    {
     "name": "stdout",
     "output_type": "stream",
     "text": [
      "パーサヴィアランステック_MOM.docx\n"
     ]
    },
    {
     "name": "stderr",
     "output_type": "stream",
     "text": [
      " 38%|███▊      | 207/538 [10:39<15:18,  2.77s/it]"
     ]
    },
    {
     "name": "stdout",
     "output_type": "stream",
     "text": [
      "QualiTech_MOM.docx\n"
     ]
    },
    {
     "name": "stderr",
     "output_type": "stream",
     "text": [
      " 39%|███▊      | 208/538 [10:42<16:52,  3.07s/it]"
     ]
    },
    {
     "name": "stdout",
     "output_type": "stream",
     "text": [
      "Astellas Pharma／アステラス製薬_議事録.docx\n"
     ]
    },
    {
     "name": "stderr",
     "output_type": "stream",
     "text": [
      " 39%|███▉      | 209/538 [10:45<16:42,  3.05s/it]"
     ]
    },
    {
     "name": "stdout",
     "output_type": "stream",
     "text": [
      "AirTrip／エアトリ_MOM.docx\n"
     ]
    },
    {
     "name": "stderr",
     "output_type": "stream",
     "text": [
      " 39%|███▉      | 210/538 [10:49<17:05,  3.13s/it]"
     ]
    },
    {
     "name": "stdout",
     "output_type": "stream",
     "text": [
      "TAIYO INFORMATION CORP._MOM.docx\n"
     ]
    },
    {
     "name": "stderr",
     "output_type": "stream",
     "text": [
      " 39%|███▉      | 211/538 [10:51<15:56,  2.92s/it]"
     ]
    },
    {
     "name": "stdout",
     "output_type": "stream",
     "text": [
      "Sales Marker _MOM.docx\n"
     ]
    },
    {
     "name": "stderr",
     "output_type": "stream",
     "text": [
      " 39%|███▉      | 212/538 [10:56<18:17,  3.37s/it]"
     ]
    },
    {
     "name": "stdout",
     "output_type": "stream",
     "text": [
      "VLC HOLDINGS_MOM.docx\n"
     ]
    },
    {
     "name": "stderr",
     "output_type": "stream",
     "text": [
      " 40%|███▉      | 213/538 [10:59<18:47,  3.47s/it]"
     ]
    },
    {
     "name": "stdout",
     "output_type": "stream",
     "text": [
      "Woven Planet Holdings／ウーブン・プラネット・ホールディングス_MOM.docx\n"
     ]
    },
    {
     "name": "stderr",
     "output_type": "stream",
     "text": [
      " 40%|███▉      | 214/538 [11:02<17:20,  3.21s/it]"
     ]
    },
    {
     "name": "stdout",
     "output_type": "stream",
     "text": [
      "Prime Strategy_MOM.docx\n"
     ]
    },
    {
     "name": "stderr",
     "output_type": "stream",
     "text": [
      " 40%|███▉      | 215/538 [11:05<16:21,  3.04s/it]"
     ]
    },
    {
     "name": "stdout",
     "output_type": "stream",
     "text": [
      "オークファン_議事録.docx\n"
     ]
    },
    {
     "name": "stderr",
     "output_type": "stream",
     "text": [
      " 40%|████      | 216/538 [11:07<15:37,  2.91s/it]"
     ]
    },
    {
     "name": "stdout",
     "output_type": "stream",
     "text": [
      "Allgrow_MOM.docx\n"
     ]
    },
    {
     "name": "stderr",
     "output_type": "stream",
     "text": [
      " 40%|████      | 217/538 [11:10<15:01,  2.81s/it]"
     ]
    },
    {
     "name": "stdout",
     "output_type": "stream",
     "text": [
      "Hupodea／ヒューポディア_MOM.docx\n"
     ]
    },
    {
     "name": "stderr",
     "output_type": "stream",
     "text": [
      " 41%|████      | 218/538 [11:13<16:12,  3.04s/it]"
     ]
    },
    {
     "name": "stdout",
     "output_type": "stream",
     "text": [
      "Mujin_議事録.docx\n"
     ]
    },
    {
     "name": "stderr",
     "output_type": "stream",
     "text": [
      " 41%|████      | 219/538 [11:17<16:19,  3.07s/it]"
     ]
    },
    {
     "name": "stdout",
     "output_type": "stream",
     "text": [
      "Tangerine_MOM.docx\n"
     ]
    },
    {
     "name": "stderr",
     "output_type": "stream",
     "text": [
      " 41%|████      | 220/538 [11:20<16:21,  3.09s/it]"
     ]
    },
    {
     "name": "stdout",
     "output_type": "stream",
     "text": [
      "DXHR_MOM.docx\n"
     ]
    },
    {
     "name": "stderr",
     "output_type": "stream",
     "text": [
      " 41%|████      | 221/538 [11:23<16:18,  3.09s/it]"
     ]
    },
    {
     "name": "stdout",
     "output_type": "stream",
     "text": [
      "AISIN_MOM.docx\n"
     ]
    },
    {
     "name": "stderr",
     "output_type": "stream",
     "text": [
      " 41%|████▏     | 222/538 [11:26<16:34,  3.15s/it]"
     ]
    },
    {
     "name": "stdout",
     "output_type": "stream",
     "text": [
      "MetaLogos_MOM.docx\n"
     ]
    },
    {
     "name": "stderr",
     "output_type": "stream",
     "text": [
      " 41%|████▏     | 223/538 [11:29<16:27,  3.14s/it]"
     ]
    },
    {
     "name": "stdout",
     "output_type": "stream",
     "text": [
      "NIHON PLAST_MOM.docx\n"
     ]
    },
    {
     "name": "stderr",
     "output_type": "stream",
     "text": [
      " 42%|████▏     | 224/538 [11:32<15:45,  3.01s/it]"
     ]
    },
    {
     "name": "stdout",
     "output_type": "stream",
     "text": [
      "新経済連盟_MOM.docx\n"
     ]
    },
    {
     "name": "stderr",
     "output_type": "stream",
     "text": [
      " 42%|████▏     | 225/538 [11:34<14:54,  2.86s/it]"
     ]
    },
    {
     "name": "stdout",
     "output_type": "stream",
     "text": [
      "大和証券_MOM.docx\n"
     ]
    },
    {
     "name": "stderr",
     "output_type": "stream",
     "text": [
      " 42%|████▏     | 226/538 [11:37<14:20,  2.76s/it]"
     ]
    },
    {
     "name": "stdout",
     "output_type": "stream",
     "text": [
      "SUMITOMO FORESTRY_MOM.docx\n"
     ]
    },
    {
     "name": "stderr",
     "output_type": "stream",
     "text": [
      " 42%|████▏     | 227/538 [11:40<14:09,  2.73s/it]"
     ]
    },
    {
     "name": "stdout",
     "output_type": "stream",
     "text": [
      "飯塚零／PREISM_MOM.docx\n"
     ]
    },
    {
     "name": "stderr",
     "output_type": "stream",
     "text": [
      " 42%|████▏     | 228/538 [11:43<15:12,  2.94s/it]"
     ]
    },
    {
     "name": "stdout",
     "output_type": "stream",
     "text": [
      "Space quarters_MOM.docx\n"
     ]
    },
    {
     "name": "stderr",
     "output_type": "stream",
     "text": [
      " 43%|████▎     | 229/538 [11:46<14:48,  2.87s/it]"
     ]
    },
    {
     "name": "stdout",
     "output_type": "stream",
     "text": [
      "AIOI Systems_MOM.docx\n"
     ]
    },
    {
     "name": "stderr",
     "output_type": "stream",
     "text": [
      " 43%|████▎     | 230/538 [11:49<15:08,  2.95s/it]"
     ]
    },
    {
     "name": "stdout",
     "output_type": "stream",
     "text": [
      "Wamazing_MOM.docx\n"
     ]
    },
    {
     "name": "stderr",
     "output_type": "stream",
     "text": [
      " 43%|████▎     | 231/538 [11:52<15:22,  3.00s/it]"
     ]
    },
    {
     "name": "stdout",
     "output_type": "stream",
     "text": [
      "Deepcraft_MOM.docx\n"
     ]
    },
    {
     "name": "stderr",
     "output_type": "stream",
     "text": [
      " 43%|████▎     | 232/538 [11:54<14:37,  2.87s/it]"
     ]
    },
    {
     "name": "stdout",
     "output_type": "stream",
     "text": [
      "日研トータルソーシング_MOM.docx\n"
     ]
    },
    {
     "name": "stderr",
     "output_type": "stream",
     "text": [
      " 43%|████▎     | 233/538 [12:00<18:08,  3.57s/it]"
     ]
    },
    {
     "name": "stdout",
     "output_type": "stream",
     "text": [
      "Bach Tech_MOM.docx\n"
     ]
    },
    {
     "name": "stderr",
     "output_type": "stream",
     "text": [
      " 43%|████▎     | 234/538 [12:02<16:47,  3.31s/it]"
     ]
    },
    {
     "name": "stdout",
     "output_type": "stream",
     "text": [
      "日立製作所_議事録.docx\n"
     ]
    },
    {
     "name": "stderr",
     "output_type": "stream",
     "text": [
      " 44%|████▎     | 235/538 [12:05<15:44,  3.12s/it]"
     ]
    },
    {
     "name": "stdout",
     "output_type": "stream",
     "text": [
      "内定ブリッジ_議事録.docx\n"
     ]
    },
    {
     "name": "stderr",
     "output_type": "stream",
     "text": [
      " 44%|████▍     | 236/538 [12:10<18:12,  3.62s/it]"
     ]
    },
    {
     "name": "stdout",
     "output_type": "stream",
     "text": [
      "Nissin FULFIL_MOM.docx\n"
     ]
    },
    {
     "name": "stderr",
     "output_type": "stream",
     "text": [
      " 44%|████▍     | 237/538 [12:13<16:55,  3.37s/it]"
     ]
    },
    {
     "name": "stdout",
     "output_type": "stream",
     "text": [
      "OCS_MOM.docx\n"
     ]
    },
    {
     "name": "stderr",
     "output_type": "stream",
     "text": [
      " 44%|████▍     | 238/538 [12:16<16:20,  3.27s/it]"
     ]
    },
    {
     "name": "stdout",
     "output_type": "stream",
     "text": [
      "UpNext__MOM.docx\n"
     ]
    },
    {
     "name": "stderr",
     "output_type": "stream",
     "text": [
      " 44%|████▍     | 239/538 [12:19<16:07,  3.24s/it]"
     ]
    },
    {
     "name": "stdout",
     "output_type": "stream",
     "text": [
      "TOKYU HOTELS_MOM.docx\n"
     ]
    },
    {
     "name": "stderr",
     "output_type": "stream",
     "text": [
      " 45%|████▍     | 240/538 [12:21<15:00,  3.02s/it]"
     ]
    },
    {
     "name": "stdout",
     "output_type": "stream",
     "text": [
      "ITSO_MOM.docx\n"
     ]
    },
    {
     "name": "stderr",
     "output_type": "stream",
     "text": [
      " 45%|████▍     | 241/538 [12:24<14:11,  2.87s/it]"
     ]
    },
    {
     "name": "stdout",
     "output_type": "stream",
     "text": [
      "dely_MOM.docx\n"
     ]
    },
    {
     "name": "stderr",
     "output_type": "stream",
     "text": [
      " 45%|████▍     | 242/538 [12:28<15:26,  3.13s/it]"
     ]
    },
    {
     "name": "stdout",
     "output_type": "stream",
     "text": [
      "TOKYO GAS_MOM.docx\n"
     ]
    },
    {
     "name": "stderr",
     "output_type": "stream",
     "text": [
      " 45%|████▌     | 243/538 [12:31<16:09,  3.29s/it]"
     ]
    },
    {
     "name": "stdout",
     "output_type": "stream",
     "text": [
      "GRINDA_MOM.docx\n"
     ]
    },
    {
     "name": "stderr",
     "output_type": "stream",
     "text": [
      " 45%|████▌     | 244/538 [12:35<16:13,  3.31s/it]"
     ]
    },
    {
     "name": "stdout",
     "output_type": "stream",
     "text": [
      "Ekitan_MOM.docx\n"
     ]
    },
    {
     "name": "stderr",
     "output_type": "stream",
     "text": [
      " 46%|████▌     | 245/538 [12:37<15:04,  3.09s/it]"
     ]
    },
    {
     "name": "stdout",
     "output_type": "stream",
     "text": [
      "Asisuto_MOM.docx\n"
     ]
    },
    {
     "name": "stderr",
     "output_type": "stream",
     "text": [
      " 46%|████▌     | 246/538 [12:40<14:01,  2.88s/it]"
     ]
    },
    {
     "name": "stdout",
     "output_type": "stream",
     "text": [
      "Ubie／ユビー_議事録.docx\n"
     ]
    },
    {
     "name": "stderr",
     "output_type": "stream",
     "text": [
      " 46%|████▌     | 247/538 [12:43<14:35,  3.01s/it]"
     ]
    },
    {
     "name": "stdout",
     "output_type": "stream",
     "text": [
      "ACTUAL_MOM.docx\n"
     ]
    },
    {
     "name": "stderr",
     "output_type": "stream",
     "text": [
      " 46%|████▌     | 248/538 [12:45<13:42,  2.84s/it]"
     ]
    },
    {
     "name": "stdout",
     "output_type": "stream",
     "text": [
      "Nippon Dynamic Systems_MOM.docx\n"
     ]
    },
    {
     "name": "stderr",
     "output_type": "stream",
     "text": [
      " 46%|████▋     | 249/538 [12:48<13:41,  2.84s/it]"
     ]
    },
    {
     "name": "stdout",
     "output_type": "stream",
     "text": [
      "ASTO System_MOM.docx\n"
     ]
    },
    {
     "name": "stderr",
     "output_type": "stream",
     "text": [
      " 46%|████▋     | 250/538 [12:51<13:15,  2.76s/it]"
     ]
    },
    {
     "name": "stdout",
     "output_type": "stream",
     "text": [
      "Kawasaki Railway Manufacturing_MOM.docx\n"
     ]
    },
    {
     "name": "stderr",
     "output_type": "stream",
     "text": [
      " 47%|████▋     | 251/538 [12:54<13:18,  2.78s/it]"
     ]
    },
    {
     "name": "stdout",
     "output_type": "stream",
     "text": [
      "Dioptra_MOM.docx\n"
     ]
    },
    {
     "name": "stderr",
     "output_type": "stream",
     "text": [
      " 47%|████▋     | 252/538 [12:56<12:47,  2.69s/it]"
     ]
    },
    {
     "name": "stdout",
     "output_type": "stream",
     "text": [
      "AICHI STEEL_MOM (1).docx\n"
     ]
    },
    {
     "name": "stderr",
     "output_type": "stream",
     "text": [
      " 47%|████▋     | 253/538 [12:59<12:42,  2.67s/it]"
     ]
    },
    {
     "name": "stdout",
     "output_type": "stream",
     "text": [
      "AICHI STEEL_MOM.docx\n"
     ]
    },
    {
     "name": "stderr",
     "output_type": "stream",
     "text": [
      " 47%|████▋     | 254/538 [13:01<12:25,  2.63s/it]"
     ]
    },
    {
     "name": "stdout",
     "output_type": "stream",
     "text": [
      "Y&P_MOM.docx\n"
     ]
    },
    {
     "name": "stderr",
     "output_type": "stream",
     "text": [
      " 47%|████▋     | 255/538 [13:04<12:29,  2.65s/it]"
     ]
    },
    {
     "name": "stdout",
     "output_type": "stream",
     "text": [
      "SHION__MOM.docx\n"
     ]
    },
    {
     "name": "stderr",
     "output_type": "stream",
     "text": [
      " 48%|████▊     | 256/538 [13:07<13:27,  2.86s/it]"
     ]
    },
    {
     "name": "stdout",
     "output_type": "stream",
     "text": [
      "Finatextホールディングス_MOM.docx\n"
     ]
    },
    {
     "name": "stderr",
     "output_type": "stream",
     "text": [
      " 48%|████▊     | 257/538 [13:12<15:25,  3.29s/it]"
     ]
    },
    {
     "name": "stdout",
     "output_type": "stream",
     "text": [
      "M-DAQ_MOM.docx\n"
     ]
    },
    {
     "name": "stderr",
     "output_type": "stream",
     "text": [
      " 48%|████▊     | 258/538 [13:15<15:20,  3.29s/it]"
     ]
    },
    {
     "name": "stdout",
     "output_type": "stream",
     "text": [
      "STREET SMART_MOM.docx\n"
     ]
    },
    {
     "name": "stderr",
     "output_type": "stream",
     "text": [
      " 48%|████▊     | 259/538 [13:18<14:48,  3.18s/it]"
     ]
    },
    {
     "name": "stdout",
     "output_type": "stream",
     "text": [
      "Fast Retailing_MOM.docx\n"
     ]
    },
    {
     "name": "stderr",
     "output_type": "stream",
     "text": [
      " 48%|████▊     | 260/538 [13:21<14:05,  3.04s/it]"
     ]
    },
    {
     "name": "stdout",
     "output_type": "stream",
     "text": [
      "TechMatrix_MOM.docx\n"
     ]
    },
    {
     "name": "stderr",
     "output_type": "stream",
     "text": [
      " 49%|████▊     | 261/538 [13:24<14:56,  3.24s/it]"
     ]
    },
    {
     "name": "stdout",
     "output_type": "stream",
     "text": [
      "Nakakita Seisakusho_MOM.docx\n"
     ]
    },
    {
     "name": "stderr",
     "output_type": "stream",
     "text": [
      " 49%|████▊     | 262/538 [13:27<14:33,  3.17s/it]"
     ]
    },
    {
     "name": "stdout",
     "output_type": "stream",
     "text": [
      "Veritus_MOM.docx\n"
     ]
    },
    {
     "name": "stderr",
     "output_type": "stream",
     "text": [
      " 49%|████▉     | 263/538 [13:30<13:45,  3.00s/it]"
     ]
    },
    {
     "name": "stdout",
     "output_type": "stream",
     "text": [
      "ムラカミ__MOM.docx\n"
     ]
    },
    {
     "name": "stderr",
     "output_type": "stream",
     "text": [
      " 49%|████▉     | 264/538 [13:32<13:03,  2.86s/it]"
     ]
    },
    {
     "name": "stdout",
     "output_type": "stream",
     "text": [
      "FOVE_MOM.docx\n"
     ]
    },
    {
     "name": "stderr",
     "output_type": "stream",
     "text": [
      " 49%|████▉     | 265/538 [13:35<13:07,  2.88s/it]"
     ]
    },
    {
     "name": "stdout",
     "output_type": "stream",
     "text": [
      "newmo _MOM.docx\n"
     ]
    },
    {
     "name": "stderr",
     "output_type": "stream",
     "text": [
      " 49%|████▉     | 266/538 [13:38<12:44,  2.81s/it]"
     ]
    },
    {
     "name": "stdout",
     "output_type": "stream",
     "text": [
      "Kiyo Bank_MOM.docx\n"
     ]
    },
    {
     "name": "stderr",
     "output_type": "stream",
     "text": [
      " 50%|████▉     | 267/538 [13:41<12:48,  2.84s/it]"
     ]
    },
    {
     "name": "stdout",
     "output_type": "stream",
     "text": [
      "Cocone_MOM.docx\n"
     ]
    },
    {
     "name": "stderr",
     "output_type": "stream",
     "text": [
      " 50%|████▉     | 268/538 [13:44<12:43,  2.83s/it]"
     ]
    },
    {
     "name": "stdout",
     "output_type": "stream",
     "text": [
      "フルノシステムズ／FURUNO SYSTEMS_MOM.docx\n"
     ]
    },
    {
     "name": "stderr",
     "output_type": "stream",
     "text": [
      " 50%|█████     | 269/538 [13:47<13:31,  3.02s/it]"
     ]
    },
    {
     "name": "stdout",
     "output_type": "stream",
     "text": [
      "Greenphard Energy_MOM.docx\n"
     ]
    },
    {
     "name": "stderr",
     "output_type": "stream",
     "text": [
      " 50%|█████     | 270/538 [13:49<12:37,  2.83s/it]"
     ]
    },
    {
     "name": "stdout",
     "output_type": "stream",
     "text": [
      "GMS_MOM.docx\n"
     ]
    },
    {
     "name": "stderr",
     "output_type": "stream",
     "text": [
      " 50%|█████     | 271/538 [13:52<11:53,  2.67s/it]"
     ]
    },
    {
     "name": "stdout",
     "output_type": "stream",
     "text": [
      "NTTデータ経営研究所_MOM.docx\n"
     ]
    },
    {
     "name": "stderr",
     "output_type": "stream",
     "text": [
      " 51%|█████     | 272/538 [13:54<11:23,  2.57s/it]"
     ]
    },
    {
     "name": "stdout",
     "output_type": "stream",
     "text": [
      "Ashirase_議事録.docx\n"
     ]
    },
    {
     "name": "stderr",
     "output_type": "stream",
     "text": [
      " 51%|█████     | 273/538 [13:57<12:23,  2.81s/it]"
     ]
    },
    {
     "name": "stdout",
     "output_type": "stream",
     "text": [
      "J Trust group_MOM.docx\n"
     ]
    },
    {
     "name": "stderr",
     "output_type": "stream",
     "text": [
      " 51%|█████     | 274/538 [14:00<12:15,  2.79s/it]"
     ]
    },
    {
     "name": "stdout",
     "output_type": "stream",
     "text": [
      "ジャパニアス_MOM.docx\n"
     ]
    },
    {
     "name": "stderr",
     "output_type": "stream",
     "text": [
      " 51%|█████     | 275/538 [14:03<12:17,  2.80s/it]"
     ]
    },
    {
     "name": "stdout",
     "output_type": "stream",
     "text": [
      "The Shizuoka Bank／静岡銀行_MOM.docx\n"
     ]
    },
    {
     "name": "stderr",
     "output_type": "stream",
     "text": [
      " 51%|█████     | 275/538 [14:04<13:28,  3.07s/it]\n"
     ]
    },
    {
     "ename": "AttributeError",
     "evalue": "'DummyProcess' object has no attribute 'terminate'",
     "output_type": "error",
     "traceback": [
      "\u001b[0;31m---------------------------------------------------------------------------\u001b[0m",
      "\u001b[0;31mRuntimeError\u001b[0m                              Traceback (most recent call last)",
      "File \u001b[0;32m/Library/Frameworks/Python.framework/Versions/3.12/lib/python3.12/multiprocessing/pool.py:215\u001b[0m, in \u001b[0;36mPool.__init__\u001b[0;34m(self, processes, initializer, initargs, maxtasksperchild, context)\u001b[0m\n\u001b[1;32m    214\u001b[0m \u001b[38;5;28;01mtry\u001b[39;00m:\n\u001b[0;32m--> 215\u001b[0m     \u001b[38;5;28;43mself\u001b[39;49m\u001b[38;5;241;43m.\u001b[39;49m\u001b[43m_repopulate_pool\u001b[49m\u001b[43m(\u001b[49m\u001b[43m)\u001b[49m\n\u001b[1;32m    216\u001b[0m \u001b[38;5;28;01mexcept\u001b[39;00m \u001b[38;5;167;01mException\u001b[39;00m:\n",
      "File \u001b[0;32m/Library/Frameworks/Python.framework/Versions/3.12/lib/python3.12/multiprocessing/pool.py:306\u001b[0m, in \u001b[0;36mPool._repopulate_pool\u001b[0;34m(self)\u001b[0m\n\u001b[1;32m    305\u001b[0m \u001b[38;5;28;01mdef\u001b[39;00m \u001b[38;5;21m_repopulate_pool\u001b[39m(\u001b[38;5;28mself\u001b[39m):\n\u001b[0;32m--> 306\u001b[0m     \u001b[38;5;28;01mreturn\u001b[39;00m \u001b[38;5;28;43mself\u001b[39;49m\u001b[38;5;241;43m.\u001b[39;49m\u001b[43m_repopulate_pool_static\u001b[49m\u001b[43m(\u001b[49m\u001b[38;5;28;43mself\u001b[39;49m\u001b[38;5;241;43m.\u001b[39;49m\u001b[43m_ctx\u001b[49m\u001b[43m,\u001b[49m\u001b[43m \u001b[49m\u001b[38;5;28;43mself\u001b[39;49m\u001b[38;5;241;43m.\u001b[39;49m\u001b[43mProcess\u001b[49m\u001b[43m,\u001b[49m\n\u001b[1;32m    307\u001b[0m \u001b[43m                                        \u001b[49m\u001b[38;5;28;43mself\u001b[39;49m\u001b[38;5;241;43m.\u001b[39;49m\u001b[43m_processes\u001b[49m\u001b[43m,\u001b[49m\n\u001b[1;32m    308\u001b[0m \u001b[43m                                        \u001b[49m\u001b[38;5;28;43mself\u001b[39;49m\u001b[38;5;241;43m.\u001b[39;49m\u001b[43m_pool\u001b[49m\u001b[43m,\u001b[49m\u001b[43m \u001b[49m\u001b[38;5;28;43mself\u001b[39;49m\u001b[38;5;241;43m.\u001b[39;49m\u001b[43m_inqueue\u001b[49m\u001b[43m,\u001b[49m\n\u001b[1;32m    309\u001b[0m \u001b[43m                                        \u001b[49m\u001b[38;5;28;43mself\u001b[39;49m\u001b[38;5;241;43m.\u001b[39;49m\u001b[43m_outqueue\u001b[49m\u001b[43m,\u001b[49m\u001b[43m \u001b[49m\u001b[38;5;28;43mself\u001b[39;49m\u001b[38;5;241;43m.\u001b[39;49m\u001b[43m_initializer\u001b[49m\u001b[43m,\u001b[49m\n\u001b[1;32m    310\u001b[0m \u001b[43m                                        \u001b[49m\u001b[38;5;28;43mself\u001b[39;49m\u001b[38;5;241;43m.\u001b[39;49m\u001b[43m_initargs\u001b[49m\u001b[43m,\u001b[49m\n\u001b[1;32m    311\u001b[0m \u001b[43m                                        \u001b[49m\u001b[38;5;28;43mself\u001b[39;49m\u001b[38;5;241;43m.\u001b[39;49m\u001b[43m_maxtasksperchild\u001b[49m\u001b[43m,\u001b[49m\n\u001b[1;32m    312\u001b[0m \u001b[43m                                        \u001b[49m\u001b[38;5;28;43mself\u001b[39;49m\u001b[38;5;241;43m.\u001b[39;49m\u001b[43m_wrap_exception\u001b[49m\u001b[43m)\u001b[49m\n",
      "File \u001b[0;32m/Library/Frameworks/Python.framework/Versions/3.12/lib/python3.12/multiprocessing/pool.py:329\u001b[0m, in \u001b[0;36mPool._repopulate_pool_static\u001b[0;34m(ctx, Process, processes, pool, inqueue, outqueue, initializer, initargs, maxtasksperchild, wrap_exception)\u001b[0m\n\u001b[1;32m    328\u001b[0m w\u001b[38;5;241m.\u001b[39mdaemon \u001b[38;5;241m=\u001b[39m \u001b[38;5;28;01mTrue\u001b[39;00m\n\u001b[0;32m--> 329\u001b[0m \u001b[43mw\u001b[49m\u001b[38;5;241;43m.\u001b[39;49m\u001b[43mstart\u001b[49m\u001b[43m(\u001b[49m\u001b[43m)\u001b[49m\n\u001b[1;32m    330\u001b[0m pool\u001b[38;5;241m.\u001b[39mappend(w)\n",
      "File \u001b[0;32m/Library/Frameworks/Python.framework/Versions/3.12/lib/python3.12/multiprocessing/dummy/__init__.py:51\u001b[0m, in \u001b[0;36mDummyProcess.start\u001b[0;34m(self)\u001b[0m\n\u001b[1;32m     50\u001b[0m     \u001b[38;5;28mself\u001b[39m\u001b[38;5;241m.\u001b[39m_parent\u001b[38;5;241m.\u001b[39m_children[\u001b[38;5;28mself\u001b[39m] \u001b[38;5;241m=\u001b[39m \u001b[38;5;28;01mNone\u001b[39;00m\n\u001b[0;32m---> 51\u001b[0m \u001b[43mthreading\u001b[49m\u001b[38;5;241;43m.\u001b[39;49m\u001b[43mThread\u001b[49m\u001b[38;5;241;43m.\u001b[39;49m\u001b[43mstart\u001b[49m\u001b[43m(\u001b[49m\u001b[38;5;28;43mself\u001b[39;49m\u001b[43m)\u001b[49m\n",
      "File \u001b[0;32m/Library/Frameworks/Python.framework/Versions/3.12/lib/python3.12/threading.py:992\u001b[0m, in \u001b[0;36mThread.start\u001b[0;34m(self)\u001b[0m\n\u001b[1;32m    991\u001b[0m \u001b[38;5;28;01mtry\u001b[39;00m:\n\u001b[0;32m--> 992\u001b[0m     \u001b[43m_start_new_thread\u001b[49m\u001b[43m(\u001b[49m\u001b[38;5;28;43mself\u001b[39;49m\u001b[38;5;241;43m.\u001b[39;49m\u001b[43m_bootstrap\u001b[49m\u001b[43m,\u001b[49m\u001b[43m \u001b[49m\u001b[43m(\u001b[49m\u001b[43m)\u001b[49m\u001b[43m)\u001b[49m\n\u001b[1;32m    993\u001b[0m \u001b[38;5;28;01mexcept\u001b[39;00m \u001b[38;5;167;01mException\u001b[39;00m:\n",
      "\u001b[0;31mRuntimeError\u001b[0m: can't start new thread",
      "\nDuring handling of the above exception, another exception occurred:\n",
      "\u001b[0;31mAttributeError\u001b[0m                            Traceback (most recent call last)",
      "Cell \u001b[0;32mIn[32], line 16\u001b[0m\n\u001b[1;32m     13\u001b[0m \u001b[38;5;28;01mfor\u001b[39;00m d \u001b[38;5;129;01min\u001b[39;00m docs:\n\u001b[1;32m     14\u001b[0m     d\u001b[38;5;241m.\u001b[39mpage_content \u001b[38;5;241m=\u001b[39m \u001b[38;5;124m'\u001b[39m\u001b[38;5;124mClient:\u001b[39m\u001b[38;5;132;01m{}\u001b[39;00m\u001b[38;5;130;01m\\n\u001b[39;00m\u001b[38;5;124mSource Filename:\u001b[39m\u001b[38;5;132;01m{}\u001b[39;00m\u001b[38;5;130;01m\\n\u001b[39;00m\u001b[38;5;130;01m\\n\u001b[39;00m\u001b[38;5;132;01m{}\u001b[39;00m\u001b[38;5;124m'\u001b[39m\u001b[38;5;241m.\u001b[39mformat(client, file_path, d\u001b[38;5;241m.\u001b[39mpage_content)\n\u001b[0;32m---> 16\u001b[0m vectorstore_from_docs \u001b[38;5;241m=\u001b[39m \u001b[43mPineconeVectorStore\u001b[49m\u001b[38;5;241;43m.\u001b[39;49m\u001b[43mfrom_documents\u001b[49m\u001b[43m(\u001b[49m\n\u001b[1;32m     17\u001b[0m \u001b[43m    \u001b[49m\u001b[43mdocs\u001b[49m\u001b[43m,\u001b[49m\n\u001b[1;32m     18\u001b[0m \u001b[43m    \u001b[49m\u001b[43mindex_name\u001b[49m\u001b[38;5;241;43m=\u001b[39;49m\u001b[43mindex_name\u001b[49m\u001b[43m,\u001b[49m\n\u001b[1;32m     19\u001b[0m \u001b[43m    \u001b[49m\u001b[43membedding\u001b[49m\u001b[38;5;241;43m=\u001b[39;49m\u001b[43membeddings\u001b[49m\u001b[43m,\u001b[49m\n\u001b[1;32m     20\u001b[0m \u001b[43m    \u001b[49m\u001b[43mnamespace\u001b[49m\u001b[38;5;241;43m=\u001b[39;49m\u001b[38;5;124;43m'\u001b[39;49m\u001b[38;5;124;43msalesmom\u001b[39;49m\u001b[38;5;124;43m'\u001b[39;49m\n\u001b[1;32m     21\u001b[0m \u001b[43m\u001b[49m\u001b[43m)\u001b[49m\n",
      "File \u001b[0;32m/Library/Frameworks/Python.framework/Versions/3.12/lib/python3.12/site-packages/langchain_core/vectorstores/base.py:835\u001b[0m, in \u001b[0;36mVectorStore.from_documents\u001b[0;34m(cls, documents, embedding, **kwargs)\u001b[0m\n\u001b[1;32m    833\u001b[0m texts \u001b[38;5;241m=\u001b[39m [d\u001b[38;5;241m.\u001b[39mpage_content \u001b[38;5;28;01mfor\u001b[39;00m d \u001b[38;5;129;01min\u001b[39;00m documents]\n\u001b[1;32m    834\u001b[0m metadatas \u001b[38;5;241m=\u001b[39m [d\u001b[38;5;241m.\u001b[39mmetadata \u001b[38;5;28;01mfor\u001b[39;00m d \u001b[38;5;129;01min\u001b[39;00m documents]\n\u001b[0;32m--> 835\u001b[0m \u001b[38;5;28;01mreturn\u001b[39;00m \u001b[38;5;28;43mcls\u001b[39;49m\u001b[38;5;241;43m.\u001b[39;49m\u001b[43mfrom_texts\u001b[49m\u001b[43m(\u001b[49m\u001b[43mtexts\u001b[49m\u001b[43m,\u001b[49m\u001b[43m \u001b[49m\u001b[43membedding\u001b[49m\u001b[43m,\u001b[49m\u001b[43m \u001b[49m\u001b[43mmetadatas\u001b[49m\u001b[38;5;241;43m=\u001b[39;49m\u001b[43mmetadatas\u001b[49m\u001b[43m,\u001b[49m\u001b[43m \u001b[49m\u001b[38;5;241;43m*\u001b[39;49m\u001b[38;5;241;43m*\u001b[39;49m\u001b[43mkwargs\u001b[49m\u001b[43m)\u001b[49m\n",
      "File \u001b[0;32m/Library/Frameworks/Python.framework/Versions/3.12/lib/python3.12/site-packages/langchain_pinecone/vectorstores.py:456\u001b[0m, in \u001b[0;36mPineconeVectorStore.from_texts\u001b[0;34m(cls, texts, embedding, metadatas, ids, batch_size, text_key, namespace, index_name, upsert_kwargs, pool_threads, embeddings_chunk_size, async_req, id_prefix, **kwargs)\u001b[0m\n\u001b[1;32m    453\u001b[0m pinecone_index \u001b[38;5;241m=\u001b[39m \u001b[38;5;28mcls\u001b[39m\u001b[38;5;241m.\u001b[39mget_pinecone_index(index_name, pool_threads)\n\u001b[1;32m    454\u001b[0m pinecone \u001b[38;5;241m=\u001b[39m \u001b[38;5;28mcls\u001b[39m(pinecone_index, embedding, text_key, namespace, \u001b[38;5;241m*\u001b[39m\u001b[38;5;241m*\u001b[39mkwargs)\n\u001b[0;32m--> 456\u001b[0m \u001b[43mpinecone\u001b[49m\u001b[38;5;241;43m.\u001b[39;49m\u001b[43madd_texts\u001b[49m\u001b[43m(\u001b[49m\n\u001b[1;32m    457\u001b[0m \u001b[43m    \u001b[49m\u001b[43mtexts\u001b[49m\u001b[43m,\u001b[49m\n\u001b[1;32m    458\u001b[0m \u001b[43m    \u001b[49m\u001b[43mmetadatas\u001b[49m\u001b[38;5;241;43m=\u001b[39;49m\u001b[43mmetadatas\u001b[49m\u001b[43m,\u001b[49m\n\u001b[1;32m    459\u001b[0m \u001b[43m    \u001b[49m\u001b[43mids\u001b[49m\u001b[38;5;241;43m=\u001b[39;49m\u001b[43mids\u001b[49m\u001b[43m,\u001b[49m\n\u001b[1;32m    460\u001b[0m \u001b[43m    \u001b[49m\u001b[43mnamespace\u001b[49m\u001b[38;5;241;43m=\u001b[39;49m\u001b[43mnamespace\u001b[49m\u001b[43m,\u001b[49m\n\u001b[1;32m    461\u001b[0m \u001b[43m    \u001b[49m\u001b[43mbatch_size\u001b[49m\u001b[38;5;241;43m=\u001b[39;49m\u001b[43mbatch_size\u001b[49m\u001b[43m,\u001b[49m\n\u001b[1;32m    462\u001b[0m \u001b[43m    \u001b[49m\u001b[43membedding_chunk_size\u001b[49m\u001b[38;5;241;43m=\u001b[39;49m\u001b[43membeddings_chunk_size\u001b[49m\u001b[43m,\u001b[49m\n\u001b[1;32m    463\u001b[0m \u001b[43m    \u001b[49m\u001b[43masync_req\u001b[49m\u001b[38;5;241;43m=\u001b[39;49m\u001b[43masync_req\u001b[49m\u001b[43m,\u001b[49m\n\u001b[1;32m    464\u001b[0m \u001b[43m    \u001b[49m\u001b[43mid_prefix\u001b[49m\u001b[38;5;241;43m=\u001b[39;49m\u001b[43mid_prefix\u001b[49m\u001b[43m,\u001b[49m\n\u001b[1;32m    465\u001b[0m \u001b[43m    \u001b[49m\u001b[38;5;241;43m*\u001b[39;49m\u001b[38;5;241;43m*\u001b[39;49m\u001b[43m(\u001b[49m\u001b[43mupsert_kwargs\u001b[49m\u001b[43m \u001b[49m\u001b[38;5;129;43;01mor\u001b[39;49;00m\u001b[43m \u001b[49m\u001b[43m{\u001b[49m\u001b[43m}\u001b[49m\u001b[43m)\u001b[49m\u001b[43m,\u001b[49m\n\u001b[1;32m    466\u001b[0m \u001b[43m\u001b[49m\u001b[43m)\u001b[49m\n\u001b[1;32m    467\u001b[0m \u001b[38;5;28;01mreturn\u001b[39;00m pinecone\n",
      "File \u001b[0;32m/Library/Frameworks/Python.framework/Versions/3.12/lib/python3.12/site-packages/langchain_pinecone/vectorstores.py:167\u001b[0m, in \u001b[0;36mPineconeVectorStore.add_texts\u001b[0;34m(self, texts, metadatas, ids, namespace, batch_size, embedding_chunk_size, async_req, id_prefix, **kwargs)\u001b[0m\n\u001b[1;32m    163\u001b[0m vector_tuples \u001b[38;5;241m=\u001b[39m \u001b[38;5;28mzip\u001b[39m(chunk_ids, embeddings, chunk_metadatas)\n\u001b[1;32m    164\u001b[0m \u001b[38;5;28;01mif\u001b[39;00m async_req:\n\u001b[1;32m    165\u001b[0m     \u001b[38;5;66;03m# Runs the pinecone upsert asynchronously.\u001b[39;00m\n\u001b[1;32m    166\u001b[0m     async_res \u001b[38;5;241m=\u001b[39m [\n\u001b[0;32m--> 167\u001b[0m         \u001b[38;5;28;43mself\u001b[39;49m\u001b[38;5;241;43m.\u001b[39;49m\u001b[43m_index\u001b[49m\u001b[38;5;241;43m.\u001b[39;49m\u001b[43mupsert\u001b[49m\u001b[43m(\u001b[49m\n\u001b[1;32m    168\u001b[0m \u001b[43m            \u001b[49m\u001b[43mvectors\u001b[49m\u001b[38;5;241;43m=\u001b[39;49m\u001b[43mbatch_vector_tuples\u001b[49m\u001b[43m,\u001b[49m\n\u001b[1;32m    169\u001b[0m \u001b[43m            \u001b[49m\u001b[43mnamespace\u001b[49m\u001b[38;5;241;43m=\u001b[39;49m\u001b[43mnamespace\u001b[49m\u001b[43m,\u001b[49m\n\u001b[1;32m    170\u001b[0m \u001b[43m            \u001b[49m\u001b[43masync_req\u001b[49m\u001b[38;5;241;43m=\u001b[39;49m\u001b[43masync_req\u001b[49m\u001b[43m,\u001b[49m\n\u001b[1;32m    171\u001b[0m \u001b[43m            \u001b[49m\u001b[38;5;241;43m*\u001b[39;49m\u001b[38;5;241;43m*\u001b[39;49m\u001b[43mkwargs\u001b[49m\u001b[43m,\u001b[49m\n\u001b[1;32m    172\u001b[0m \u001b[43m        \u001b[49m\u001b[43m)\u001b[49m\n\u001b[1;32m    173\u001b[0m         \u001b[38;5;28;01mfor\u001b[39;00m batch_vector_tuples \u001b[38;5;129;01min\u001b[39;00m batch_iterate(batch_size, vector_tuples)\n\u001b[1;32m    174\u001b[0m     ]\n\u001b[1;32m    175\u001b[0m     [res\u001b[38;5;241m.\u001b[39mget() \u001b[38;5;28;01mfor\u001b[39;00m res \u001b[38;5;129;01min\u001b[39;00m async_res]\n\u001b[1;32m    176\u001b[0m \u001b[38;5;28;01melse\u001b[39;00m:\n",
      "File \u001b[0;32m/Library/Frameworks/Python.framework/Versions/3.12/lib/python3.12/site-packages/pinecone/utils/error_handling.py:11\u001b[0m, in \u001b[0;36mvalidate_and_convert_errors.<locals>.inner_func\u001b[0;34m(*args, **kwargs)\u001b[0m\n\u001b[1;32m      8\u001b[0m \u001b[38;5;129m@wraps\u001b[39m(func)\n\u001b[1;32m      9\u001b[0m \u001b[38;5;28;01mdef\u001b[39;00m \u001b[38;5;21minner_func\u001b[39m(\u001b[38;5;241m*\u001b[39margs, \u001b[38;5;241m*\u001b[39m\u001b[38;5;241m*\u001b[39mkwargs):\n\u001b[1;32m     10\u001b[0m     \u001b[38;5;28;01mtry\u001b[39;00m:\n\u001b[0;32m---> 11\u001b[0m         \u001b[38;5;28;01mreturn\u001b[39;00m \u001b[43mfunc\u001b[49m\u001b[43m(\u001b[49m\u001b[38;5;241;43m*\u001b[39;49m\u001b[43margs\u001b[49m\u001b[43m,\u001b[49m\u001b[43m \u001b[49m\u001b[38;5;241;43m*\u001b[39;49m\u001b[38;5;241;43m*\u001b[39;49m\u001b[43mkwargs\u001b[49m\u001b[43m)\u001b[49m\n\u001b[1;32m     12\u001b[0m     \u001b[38;5;28;01mexcept\u001b[39;00m MaxRetryError \u001b[38;5;28;01mas\u001b[39;00m e:\n\u001b[1;32m     13\u001b[0m         \u001b[38;5;28;01mif\u001b[39;00m \u001b[38;5;28misinstance\u001b[39m(e\u001b[38;5;241m.\u001b[39mreason, ProtocolError):\n",
      "File \u001b[0;32m/Library/Frameworks/Python.framework/Versions/3.12/lib/python3.12/site-packages/pinecone/data/index.py:175\u001b[0m, in \u001b[0;36mIndex.upsert\u001b[0;34m(self, vectors, namespace, batch_size, show_progress, **kwargs)\u001b[0m\n\u001b[1;32m    168\u001b[0m     \u001b[38;5;28;01mraise\u001b[39;00m \u001b[38;5;167;01mValueError\u001b[39;00m(\n\u001b[1;32m    169\u001b[0m         \u001b[38;5;124m\"\u001b[39m\u001b[38;5;124masync_req is not supported when batch_size is provided.\u001b[39m\u001b[38;5;124m\"\u001b[39m\n\u001b[1;32m    170\u001b[0m         \u001b[38;5;124m\"\u001b[39m\u001b[38;5;124mTo upsert in parallel, please follow: \u001b[39m\u001b[38;5;124m\"\u001b[39m\n\u001b[1;32m    171\u001b[0m         \u001b[38;5;124m\"\u001b[39m\u001b[38;5;124mhttps://docs.pinecone.io/docs/insert-data#sending-upserts-in-parallel\u001b[39m\u001b[38;5;124m\"\u001b[39m\n\u001b[1;32m    172\u001b[0m     )\n\u001b[1;32m    174\u001b[0m \u001b[38;5;28;01mif\u001b[39;00m batch_size \u001b[38;5;129;01mis\u001b[39;00m \u001b[38;5;28;01mNone\u001b[39;00m:\n\u001b[0;32m--> 175\u001b[0m     \u001b[38;5;28;01mreturn\u001b[39;00m \u001b[38;5;28;43mself\u001b[39;49m\u001b[38;5;241;43m.\u001b[39;49m\u001b[43m_upsert_batch\u001b[49m\u001b[43m(\u001b[49m\u001b[43mvectors\u001b[49m\u001b[43m,\u001b[49m\u001b[43m \u001b[49m\u001b[43mnamespace\u001b[49m\u001b[43m,\u001b[49m\u001b[43m \u001b[49m\u001b[43m_check_type\u001b[49m\u001b[43m,\u001b[49m\u001b[43m \u001b[49m\u001b[38;5;241;43m*\u001b[39;49m\u001b[38;5;241;43m*\u001b[39;49m\u001b[43mkwargs\u001b[49m\u001b[43m)\u001b[49m\n\u001b[1;32m    177\u001b[0m \u001b[38;5;28;01mif\u001b[39;00m \u001b[38;5;129;01mnot\u001b[39;00m \u001b[38;5;28misinstance\u001b[39m(batch_size, \u001b[38;5;28mint\u001b[39m) \u001b[38;5;129;01mor\u001b[39;00m batch_size \u001b[38;5;241m<\u001b[39m\u001b[38;5;241m=\u001b[39m \u001b[38;5;241m0\u001b[39m:\n\u001b[1;32m    178\u001b[0m     \u001b[38;5;28;01mraise\u001b[39;00m \u001b[38;5;167;01mValueError\u001b[39;00m(\u001b[38;5;124m\"\u001b[39m\u001b[38;5;124mbatch_size must be a positive integer\u001b[39m\u001b[38;5;124m\"\u001b[39m)\n",
      "File \u001b[0;32m/Library/Frameworks/Python.framework/Versions/3.12/lib/python3.12/site-packages/pinecone/data/index.py:204\u001b[0m, in \u001b[0;36mIndex._upsert_batch\u001b[0;34m(self, vectors, namespace, _check_type, **kwargs)\u001b[0m\n\u001b[1;32m    201\u001b[0m args_dict \u001b[38;5;241m=\u001b[39m \u001b[38;5;28mself\u001b[39m\u001b[38;5;241m.\u001b[39m_parse_non_empty_args([(\u001b[38;5;124m\"\u001b[39m\u001b[38;5;124mnamespace\u001b[39m\u001b[38;5;124m\"\u001b[39m, namespace)])\n\u001b[1;32m    202\u001b[0m vec_builder \u001b[38;5;241m=\u001b[39m \u001b[38;5;28;01mlambda\u001b[39;00m v: VectorFactory\u001b[38;5;241m.\u001b[39mbuild(v, check_type\u001b[38;5;241m=\u001b[39m_check_type)\n\u001b[0;32m--> 204\u001b[0m \u001b[38;5;28;01mreturn\u001b[39;00m \u001b[38;5;28;43mself\u001b[39;49m\u001b[38;5;241;43m.\u001b[39;49m\u001b[43m_vector_api\u001b[49m\u001b[38;5;241;43m.\u001b[39;49m\u001b[43mupsert\u001b[49m\u001b[43m(\u001b[49m\n\u001b[1;32m    205\u001b[0m \u001b[43m    \u001b[49m\u001b[43mUpsertRequest\u001b[49m\u001b[43m(\u001b[49m\n\u001b[1;32m    206\u001b[0m \u001b[43m        \u001b[49m\u001b[43mvectors\u001b[49m\u001b[38;5;241;43m=\u001b[39;49m\u001b[38;5;28;43mlist\u001b[39;49m\u001b[43m(\u001b[49m\u001b[38;5;28;43mmap\u001b[39;49m\u001b[43m(\u001b[49m\u001b[43mvec_builder\u001b[49m\u001b[43m,\u001b[49m\u001b[43m \u001b[49m\u001b[43mvectors\u001b[49m\u001b[43m)\u001b[49m\u001b[43m)\u001b[49m\u001b[43m,\u001b[49m\n\u001b[1;32m    207\u001b[0m \u001b[43m        \u001b[49m\u001b[38;5;241;43m*\u001b[39;49m\u001b[38;5;241;43m*\u001b[39;49m\u001b[43margs_dict\u001b[49m\u001b[43m,\u001b[49m\n\u001b[1;32m    208\u001b[0m \u001b[43m        \u001b[49m\u001b[43m_check_type\u001b[49m\u001b[38;5;241;43m=\u001b[39;49m\u001b[43m_check_type\u001b[49m\u001b[43m,\u001b[49m\n\u001b[1;32m    209\u001b[0m \u001b[43m        \u001b[49m\u001b[38;5;241;43m*\u001b[39;49m\u001b[38;5;241;43m*\u001b[39;49m\u001b[43m{\u001b[49m\u001b[43mk\u001b[49m\u001b[43m:\u001b[49m\u001b[43m \u001b[49m\u001b[43mv\u001b[49m\u001b[43m \u001b[49m\u001b[38;5;28;43;01mfor\u001b[39;49;00m\u001b[43m \u001b[49m\u001b[43mk\u001b[49m\u001b[43m,\u001b[49m\u001b[43m \u001b[49m\u001b[43mv\u001b[49m\u001b[43m \u001b[49m\u001b[38;5;129;43;01min\u001b[39;49;00m\u001b[43m \u001b[49m\u001b[43mkwargs\u001b[49m\u001b[38;5;241;43m.\u001b[39;49m\u001b[43mitems\u001b[49m\u001b[43m(\u001b[49m\u001b[43m)\u001b[49m\u001b[43m \u001b[49m\u001b[38;5;28;43;01mif\u001b[39;49;00m\u001b[43m \u001b[49m\u001b[43mk\u001b[49m\u001b[43m \u001b[49m\u001b[38;5;129;43;01mnot\u001b[39;49;00m\u001b[43m \u001b[49m\u001b[38;5;129;43;01min\u001b[39;49;00m\u001b[43m \u001b[49m\u001b[43m_OPENAPI_ENDPOINT_PARAMS\u001b[49m\u001b[43m}\u001b[49m\u001b[43m,\u001b[49m\n\u001b[1;32m    210\u001b[0m \u001b[43m    \u001b[49m\u001b[43m)\u001b[49m\u001b[43m,\u001b[49m\n\u001b[1;32m    211\u001b[0m \u001b[43m    \u001b[49m\u001b[38;5;241;43m*\u001b[39;49m\u001b[38;5;241;43m*\u001b[39;49m\u001b[43m{\u001b[49m\u001b[43mk\u001b[49m\u001b[43m:\u001b[49m\u001b[43m \u001b[49m\u001b[43mv\u001b[49m\u001b[43m \u001b[49m\u001b[38;5;28;43;01mfor\u001b[39;49;00m\u001b[43m \u001b[49m\u001b[43mk\u001b[49m\u001b[43m,\u001b[49m\u001b[43m \u001b[49m\u001b[43mv\u001b[49m\u001b[43m \u001b[49m\u001b[38;5;129;43;01min\u001b[39;49;00m\u001b[43m \u001b[49m\u001b[43mkwargs\u001b[49m\u001b[38;5;241;43m.\u001b[39;49m\u001b[43mitems\u001b[49m\u001b[43m(\u001b[49m\u001b[43m)\u001b[49m\u001b[43m \u001b[49m\u001b[38;5;28;43;01mif\u001b[39;49;00m\u001b[43m \u001b[49m\u001b[43mk\u001b[49m\u001b[43m \u001b[49m\u001b[38;5;129;43;01min\u001b[39;49;00m\u001b[43m \u001b[49m\u001b[43m_OPENAPI_ENDPOINT_PARAMS\u001b[49m\u001b[43m}\u001b[49m\u001b[43m,\u001b[49m\n\u001b[1;32m    212\u001b[0m \u001b[43m\u001b[49m\u001b[43m)\u001b[49m\n",
      "File \u001b[0;32m/Library/Frameworks/Python.framework/Versions/3.12/lib/python3.12/site-packages/pinecone/core/openapi/shared/api_client.py:761\u001b[0m, in \u001b[0;36mEndpoint.__call__\u001b[0;34m(self, *args, **kwargs)\u001b[0m\n\u001b[1;32m    750\u001b[0m \u001b[38;5;28;01mdef\u001b[39;00m \u001b[38;5;21m__call__\u001b[39m(\u001b[38;5;28mself\u001b[39m, \u001b[38;5;241m*\u001b[39margs, \u001b[38;5;241m*\u001b[39m\u001b[38;5;241m*\u001b[39mkwargs):\n\u001b[1;32m    751\u001b[0m \u001b[38;5;250m    \u001b[39m\u001b[38;5;124;03m\"\"\"This method is invoked when endpoints are called\u001b[39;00m\n\u001b[1;32m    752\u001b[0m \u001b[38;5;124;03m    Example:\u001b[39;00m\n\u001b[1;32m    753\u001b[0m \n\u001b[0;32m   (...)\u001b[0m\n\u001b[1;32m    759\u001b[0m \n\u001b[1;32m    760\u001b[0m \u001b[38;5;124;03m    \"\"\"\u001b[39;00m\n\u001b[0;32m--> 761\u001b[0m     \u001b[38;5;28;01mreturn\u001b[39;00m \u001b[38;5;28;43mself\u001b[39;49m\u001b[38;5;241;43m.\u001b[39;49m\u001b[43mcallable\u001b[49m\u001b[43m(\u001b[49m\u001b[38;5;28;43mself\u001b[39;49m\u001b[43m,\u001b[49m\u001b[43m \u001b[49m\u001b[38;5;241;43m*\u001b[39;49m\u001b[43margs\u001b[49m\u001b[43m,\u001b[49m\u001b[43m \u001b[49m\u001b[38;5;241;43m*\u001b[39;49m\u001b[38;5;241;43m*\u001b[39;49m\u001b[43mkwargs\u001b[49m\u001b[43m)\u001b[49m\n",
      "File \u001b[0;32m/Library/Frameworks/Python.framework/Versions/3.12/lib/python3.12/site-packages/pinecone/core/openapi/data/api/data_plane_api.py:811\u001b[0m, in \u001b[0;36mDataPlaneApi.__init__.<locals>.__upsert\u001b[0;34m(self, upsert_request, **kwargs)\u001b[0m\n\u001b[1;32m    809\u001b[0m kwargs[\u001b[38;5;124m\"\u001b[39m\u001b[38;5;124m_host_index\u001b[39m\u001b[38;5;124m\"\u001b[39m] \u001b[38;5;241m=\u001b[39m kwargs\u001b[38;5;241m.\u001b[39mget(\u001b[38;5;124m\"\u001b[39m\u001b[38;5;124m_host_index\u001b[39m\u001b[38;5;124m\"\u001b[39m)\n\u001b[1;32m    810\u001b[0m kwargs[\u001b[38;5;124m\"\u001b[39m\u001b[38;5;124mupsert_request\u001b[39m\u001b[38;5;124m\"\u001b[39m] \u001b[38;5;241m=\u001b[39m upsert_request\n\u001b[0;32m--> 811\u001b[0m \u001b[38;5;28;01mreturn\u001b[39;00m \u001b[38;5;28;43mself\u001b[39;49m\u001b[38;5;241;43m.\u001b[39;49m\u001b[43mcall_with_http_info\u001b[49m\u001b[43m(\u001b[49m\u001b[38;5;241;43m*\u001b[39;49m\u001b[38;5;241;43m*\u001b[39;49m\u001b[43mkwargs\u001b[49m\u001b[43m)\u001b[49m\n",
      "File \u001b[0;32m/Library/Frameworks/Python.framework/Versions/3.12/lib/python3.12/site-packages/pinecone/core/openapi/shared/api_client.py:819\u001b[0m, in \u001b[0;36mEndpoint.call_with_http_info\u001b[0;34m(self, **kwargs)\u001b[0m\n\u001b[1;32m    816\u001b[0m     header_list \u001b[38;5;241m=\u001b[39m \u001b[38;5;28mself\u001b[39m\u001b[38;5;241m.\u001b[39mapi_client\u001b[38;5;241m.\u001b[39mselect_header_content_type(content_type_headers_list)\n\u001b[1;32m    817\u001b[0m     params[\u001b[38;5;124m\"\u001b[39m\u001b[38;5;124mheader\u001b[39m\u001b[38;5;124m\"\u001b[39m][\u001b[38;5;124m\"\u001b[39m\u001b[38;5;124mContent-Type\u001b[39m\u001b[38;5;124m\"\u001b[39m] \u001b[38;5;241m=\u001b[39m header_list\n\u001b[0;32m--> 819\u001b[0m \u001b[38;5;28;01mreturn\u001b[39;00m \u001b[38;5;28;43mself\u001b[39;49m\u001b[38;5;241;43m.\u001b[39;49m\u001b[43mapi_client\u001b[49m\u001b[38;5;241;43m.\u001b[39;49m\u001b[43mcall_api\u001b[49m\u001b[43m(\u001b[49m\n\u001b[1;32m    820\u001b[0m \u001b[43m    \u001b[49m\u001b[38;5;28;43mself\u001b[39;49m\u001b[38;5;241;43m.\u001b[39;49m\u001b[43msettings\u001b[49m\u001b[43m[\u001b[49m\u001b[38;5;124;43m\"\u001b[39;49m\u001b[38;5;124;43mendpoint_path\u001b[39;49m\u001b[38;5;124;43m\"\u001b[39;49m\u001b[43m]\u001b[49m\u001b[43m,\u001b[49m\n\u001b[1;32m    821\u001b[0m \u001b[43m    \u001b[49m\u001b[38;5;28;43mself\u001b[39;49m\u001b[38;5;241;43m.\u001b[39;49m\u001b[43msettings\u001b[49m\u001b[43m[\u001b[49m\u001b[38;5;124;43m\"\u001b[39;49m\u001b[38;5;124;43mhttp_method\u001b[39;49m\u001b[38;5;124;43m\"\u001b[39;49m\u001b[43m]\u001b[49m\u001b[43m,\u001b[49m\n\u001b[1;32m    822\u001b[0m \u001b[43m    \u001b[49m\u001b[43mparams\u001b[49m\u001b[43m[\u001b[49m\u001b[38;5;124;43m\"\u001b[39;49m\u001b[38;5;124;43mpath\u001b[39;49m\u001b[38;5;124;43m\"\u001b[39;49m\u001b[43m]\u001b[49m\u001b[43m,\u001b[49m\n\u001b[1;32m    823\u001b[0m \u001b[43m    \u001b[49m\u001b[43mparams\u001b[49m\u001b[43m[\u001b[49m\u001b[38;5;124;43m\"\u001b[39;49m\u001b[38;5;124;43mquery\u001b[39;49m\u001b[38;5;124;43m\"\u001b[39;49m\u001b[43m]\u001b[49m\u001b[43m,\u001b[49m\n\u001b[1;32m    824\u001b[0m \u001b[43m    \u001b[49m\u001b[43mparams\u001b[49m\u001b[43m[\u001b[49m\u001b[38;5;124;43m\"\u001b[39;49m\u001b[38;5;124;43mheader\u001b[39;49m\u001b[38;5;124;43m\"\u001b[39;49m\u001b[43m]\u001b[49m\u001b[43m,\u001b[49m\n\u001b[1;32m    825\u001b[0m \u001b[43m    \u001b[49m\u001b[43mbody\u001b[49m\u001b[38;5;241;43m=\u001b[39;49m\u001b[43mparams\u001b[49m\u001b[43m[\u001b[49m\u001b[38;5;124;43m\"\u001b[39;49m\u001b[38;5;124;43mbody\u001b[39;49m\u001b[38;5;124;43m\"\u001b[39;49m\u001b[43m]\u001b[49m\u001b[43m,\u001b[49m\n\u001b[1;32m    826\u001b[0m \u001b[43m    \u001b[49m\u001b[43mpost_params\u001b[49m\u001b[38;5;241;43m=\u001b[39;49m\u001b[43mparams\u001b[49m\u001b[43m[\u001b[49m\u001b[38;5;124;43m\"\u001b[39;49m\u001b[38;5;124;43mform\u001b[39;49m\u001b[38;5;124;43m\"\u001b[39;49m\u001b[43m]\u001b[49m\u001b[43m,\u001b[49m\n\u001b[1;32m    827\u001b[0m \u001b[43m    \u001b[49m\u001b[43mfiles\u001b[49m\u001b[38;5;241;43m=\u001b[39;49m\u001b[43mparams\u001b[49m\u001b[43m[\u001b[49m\u001b[38;5;124;43m\"\u001b[39;49m\u001b[38;5;124;43mfile\u001b[39;49m\u001b[38;5;124;43m\"\u001b[39;49m\u001b[43m]\u001b[49m\u001b[43m,\u001b[49m\n\u001b[1;32m    828\u001b[0m \u001b[43m    \u001b[49m\u001b[43mresponse_type\u001b[49m\u001b[38;5;241;43m=\u001b[39;49m\u001b[38;5;28;43mself\u001b[39;49m\u001b[38;5;241;43m.\u001b[39;49m\u001b[43msettings\u001b[49m\u001b[43m[\u001b[49m\u001b[38;5;124;43m\"\u001b[39;49m\u001b[38;5;124;43mresponse_type\u001b[39;49m\u001b[38;5;124;43m\"\u001b[39;49m\u001b[43m]\u001b[49m\u001b[43m,\u001b[49m\n\u001b[1;32m    829\u001b[0m \u001b[43m    \u001b[49m\u001b[43mauth_settings\u001b[49m\u001b[38;5;241;43m=\u001b[39;49m\u001b[38;5;28;43mself\u001b[39;49m\u001b[38;5;241;43m.\u001b[39;49m\u001b[43msettings\u001b[49m\u001b[43m[\u001b[49m\u001b[38;5;124;43m\"\u001b[39;49m\u001b[38;5;124;43mauth\u001b[39;49m\u001b[38;5;124;43m\"\u001b[39;49m\u001b[43m]\u001b[49m\u001b[43m,\u001b[49m\n\u001b[1;32m    830\u001b[0m \u001b[43m    \u001b[49m\u001b[43masync_req\u001b[49m\u001b[38;5;241;43m=\u001b[39;49m\u001b[43mkwargs\u001b[49m\u001b[43m[\u001b[49m\u001b[38;5;124;43m\"\u001b[39;49m\u001b[38;5;124;43masync_req\u001b[39;49m\u001b[38;5;124;43m\"\u001b[39;49m\u001b[43m]\u001b[49m\u001b[43m,\u001b[49m\n\u001b[1;32m    831\u001b[0m \u001b[43m    \u001b[49m\u001b[43m_check_type\u001b[49m\u001b[38;5;241;43m=\u001b[39;49m\u001b[43mkwargs\u001b[49m\u001b[43m[\u001b[49m\u001b[38;5;124;43m\"\u001b[39;49m\u001b[38;5;124;43m_check_return_type\u001b[39;49m\u001b[38;5;124;43m\"\u001b[39;49m\u001b[43m]\u001b[49m\u001b[43m,\u001b[49m\n\u001b[1;32m    832\u001b[0m \u001b[43m    \u001b[49m\u001b[43m_return_http_data_only\u001b[49m\u001b[38;5;241;43m=\u001b[39;49m\u001b[43mkwargs\u001b[49m\u001b[43m[\u001b[49m\u001b[38;5;124;43m\"\u001b[39;49m\u001b[38;5;124;43m_return_http_data_only\u001b[39;49m\u001b[38;5;124;43m\"\u001b[39;49m\u001b[43m]\u001b[49m\u001b[43m,\u001b[49m\n\u001b[1;32m    833\u001b[0m \u001b[43m    \u001b[49m\u001b[43m_preload_content\u001b[49m\u001b[38;5;241;43m=\u001b[39;49m\u001b[43mkwargs\u001b[49m\u001b[43m[\u001b[49m\u001b[38;5;124;43m\"\u001b[39;49m\u001b[38;5;124;43m_preload_content\u001b[39;49m\u001b[38;5;124;43m\"\u001b[39;49m\u001b[43m]\u001b[49m\u001b[43m,\u001b[49m\n\u001b[1;32m    834\u001b[0m \u001b[43m    \u001b[49m\u001b[43m_request_timeout\u001b[49m\u001b[38;5;241;43m=\u001b[39;49m\u001b[43mkwargs\u001b[49m\u001b[43m[\u001b[49m\u001b[38;5;124;43m\"\u001b[39;49m\u001b[38;5;124;43m_request_timeout\u001b[39;49m\u001b[38;5;124;43m\"\u001b[39;49m\u001b[43m]\u001b[49m\u001b[43m,\u001b[49m\n\u001b[1;32m    835\u001b[0m \u001b[43m    \u001b[49m\u001b[43m_host\u001b[49m\u001b[38;5;241;43m=\u001b[39;49m\u001b[43m_host\u001b[49m\u001b[43m,\u001b[49m\n\u001b[1;32m    836\u001b[0m \u001b[43m    \u001b[49m\u001b[43mcollection_formats\u001b[49m\u001b[38;5;241;43m=\u001b[39;49m\u001b[43mparams\u001b[49m\u001b[43m[\u001b[49m\u001b[38;5;124;43m\"\u001b[39;49m\u001b[38;5;124;43mcollection_format\u001b[39;49m\u001b[38;5;124;43m\"\u001b[39;49m\u001b[43m]\u001b[49m\u001b[43m,\u001b[49m\n\u001b[1;32m    837\u001b[0m \u001b[43m\u001b[49m\u001b[43m)\u001b[49m\n",
      "File \u001b[0;32m/Library/Frameworks/Python.framework/Versions/3.12/lib/python3.12/site-packages/pinecone/core/openapi/shared/api_client.py:399\u001b[0m, in \u001b[0;36mApiClient.call_api\u001b[0;34m(self, resource_path, method, path_params, query_params, header_params, body, post_params, files, response_type, auth_settings, async_req, _return_http_data_only, collection_formats, _preload_content, _request_timeout, _host, _check_type)\u001b[0m\n\u001b[1;32m    379\u001b[0m \u001b[38;5;28;01mif\u001b[39;00m \u001b[38;5;129;01mnot\u001b[39;00m async_req:\n\u001b[1;32m    380\u001b[0m     \u001b[38;5;28;01mreturn\u001b[39;00m \u001b[38;5;28mself\u001b[39m\u001b[38;5;241m.\u001b[39m__call_api(\n\u001b[1;32m    381\u001b[0m         resource_path,\n\u001b[1;32m    382\u001b[0m         method,\n\u001b[0;32m   (...)\u001b[0m\n\u001b[1;32m    396\u001b[0m         _check_type,\n\u001b[1;32m    397\u001b[0m     )\n\u001b[0;32m--> 399\u001b[0m \u001b[38;5;28;01mreturn\u001b[39;00m \u001b[38;5;28;43mself\u001b[39;49m\u001b[38;5;241;43m.\u001b[39;49m\u001b[43mpool\u001b[49m\u001b[38;5;241m.\u001b[39mapply_async(\n\u001b[1;32m    400\u001b[0m     \u001b[38;5;28mself\u001b[39m\u001b[38;5;241m.\u001b[39m__call_api,\n\u001b[1;32m    401\u001b[0m     (\n\u001b[1;32m    402\u001b[0m         resource_path,\n\u001b[1;32m    403\u001b[0m         method,\n\u001b[1;32m    404\u001b[0m         path_params,\n\u001b[1;32m    405\u001b[0m         query_params,\n\u001b[1;32m    406\u001b[0m         header_params,\n\u001b[1;32m    407\u001b[0m         body,\n\u001b[1;32m    408\u001b[0m         post_params,\n\u001b[1;32m    409\u001b[0m         files,\n\u001b[1;32m    410\u001b[0m         response_type,\n\u001b[1;32m    411\u001b[0m         auth_settings,\n\u001b[1;32m    412\u001b[0m         _return_http_data_only,\n\u001b[1;32m    413\u001b[0m         collection_formats,\n\u001b[1;32m    414\u001b[0m         _preload_content,\n\u001b[1;32m    415\u001b[0m         _request_timeout,\n\u001b[1;32m    416\u001b[0m         _host,\n\u001b[1;32m    417\u001b[0m         _check_type,\n\u001b[1;32m    418\u001b[0m     ),\n\u001b[1;32m    419\u001b[0m )\n",
      "File \u001b[0;32m/Library/Frameworks/Python.framework/Versions/3.12/lib/python3.12/site-packages/pinecone/core/openapi/shared/api_client.py:91\u001b[0m, in \u001b[0;36mApiClient.pool\u001b[0;34m(self)\u001b[0m\n\u001b[1;32m     89\u001b[0m \u001b[38;5;28;01mif\u001b[39;00m \u001b[38;5;28mself\u001b[39m\u001b[38;5;241m.\u001b[39m_pool \u001b[38;5;129;01mis\u001b[39;00m \u001b[38;5;28;01mNone\u001b[39;00m:\n\u001b[1;32m     90\u001b[0m     atexit\u001b[38;5;241m.\u001b[39mregister(\u001b[38;5;28mself\u001b[39m\u001b[38;5;241m.\u001b[39mclose)\n\u001b[0;32m---> 91\u001b[0m     \u001b[38;5;28mself\u001b[39m\u001b[38;5;241m.\u001b[39m_pool \u001b[38;5;241m=\u001b[39m \u001b[43mThreadPool\u001b[49m\u001b[43m(\u001b[49m\u001b[38;5;28;43mself\u001b[39;49m\u001b[38;5;241;43m.\u001b[39;49m\u001b[43mpool_threads\u001b[49m\u001b[43m)\u001b[49m\n\u001b[1;32m     92\u001b[0m \u001b[38;5;28;01mreturn\u001b[39;00m \u001b[38;5;28mself\u001b[39m\u001b[38;5;241m.\u001b[39m_pool\n",
      "File \u001b[0;32m/Library/Frameworks/Python.framework/Versions/3.12/lib/python3.12/multiprocessing/pool.py:930\u001b[0m, in \u001b[0;36mThreadPool.__init__\u001b[0;34m(self, processes, initializer, initargs)\u001b[0m\n\u001b[1;32m    929\u001b[0m \u001b[38;5;28;01mdef\u001b[39;00m \u001b[38;5;21m__init__\u001b[39m(\u001b[38;5;28mself\u001b[39m, processes\u001b[38;5;241m=\u001b[39m\u001b[38;5;28;01mNone\u001b[39;00m, initializer\u001b[38;5;241m=\u001b[39m\u001b[38;5;28;01mNone\u001b[39;00m, initargs\u001b[38;5;241m=\u001b[39m()):\n\u001b[0;32m--> 930\u001b[0m     \u001b[43mPool\u001b[49m\u001b[38;5;241;43m.\u001b[39;49m\u001b[38;5;21;43m__init__\u001b[39;49m\u001b[43m(\u001b[49m\u001b[38;5;28;43mself\u001b[39;49m\u001b[43m,\u001b[49m\u001b[43m \u001b[49m\u001b[43mprocesses\u001b[49m\u001b[43m,\u001b[49m\u001b[43m \u001b[49m\u001b[43minitializer\u001b[49m\u001b[43m,\u001b[49m\u001b[43m \u001b[49m\u001b[43minitargs\u001b[49m\u001b[43m)\u001b[49m\n",
      "File \u001b[0;32m/Library/Frameworks/Python.framework/Versions/3.12/lib/python3.12/multiprocessing/pool.py:219\u001b[0m, in \u001b[0;36mPool.__init__\u001b[0;34m(self, processes, initializer, initargs, maxtasksperchild, context)\u001b[0m\n\u001b[1;32m    217\u001b[0m \u001b[38;5;28;01mfor\u001b[39;00m p \u001b[38;5;129;01min\u001b[39;00m \u001b[38;5;28mself\u001b[39m\u001b[38;5;241m.\u001b[39m_pool:\n\u001b[1;32m    218\u001b[0m     \u001b[38;5;28;01mif\u001b[39;00m p\u001b[38;5;241m.\u001b[39mexitcode \u001b[38;5;129;01mis\u001b[39;00m \u001b[38;5;28;01mNone\u001b[39;00m:\n\u001b[0;32m--> 219\u001b[0m         \u001b[43mp\u001b[49m\u001b[38;5;241;43m.\u001b[39;49m\u001b[43mterminate\u001b[49m()\n\u001b[1;32m    220\u001b[0m \u001b[38;5;28;01mfor\u001b[39;00m p \u001b[38;5;129;01min\u001b[39;00m \u001b[38;5;28mself\u001b[39m\u001b[38;5;241m.\u001b[39m_pool:\n\u001b[1;32m    221\u001b[0m     p\u001b[38;5;241m.\u001b[39mjoin()\n",
      "\u001b[0;31mAttributeError\u001b[0m: 'DummyProcess' object has no attribute 'terminate'"
     ]
    }
   ],
   "source": [
    "\n",
    "for docx in tqdm(docx_file_names):\n",
    "    client= docx.split(\"/\")[-2]\n",
    "    file_path = docx.split(\"/\")[-1]\n",
    "    print(file_path)\n",
    "    count = 1\n",
    "    loader = Docx2txtLoader(docx)\n",
    "    documents = loader.load()\n",
    "    for doc in documents:\n",
    "        doc.metadata['source'] = os.path.basename(doc.metadata['source'])\n",
    "\n",
    "    text_splitter = CharacterTextSplitter(chunk_size=1000, chunk_overlap=100)\n",
    "    docs = text_splitter.split_documents(documents)\n",
    "    for d in docs:\n",
    "        d.page_content = 'Client:{}\\nSource Filename:{}\\n\\n{}'.format(client, file_path, d.page_content)\n",
    "\n",
    "    vectorstore_from_docs = PineconeVectorStore.from_documents(\n",
    "        docs,\n",
    "        index_name=index_name,\n",
    "        embedding=embeddings,\n",
    "        namespace='salesmom'\n",
    "    )"
   ]
  },
  {
   "cell_type": "code",
   "execution_count": 16,
   "id": "a2cdf623",
   "metadata": {},
   "outputs": [
    {
     "data": {
      "text/plain": [
       "[Document(metadata={'source': 'PAI-R_MOM.docx'}, page_content='Client:PAI-R／パイ・アール\\nSource Filename:PAI-R_MOM.docx\\n\\nPAI-R_MOM\\n\\n\\n―――――――――――――――――\\n20240913／新規商談\\n\\n▼参加者\\n\\n\\n▼事前情報\\n\\n・20240909、福島さんから紹介\\n\\n▼概要\\n\\n▼Next Step\\n\\n・')]"
      ]
     },
     "execution_count": 16,
     "metadata": {},
     "output_type": "execute_result"
    }
   ],
   "source": [
    "docs\n"
   ]
  },
  {
   "cell_type": "code",
   "execution_count": 33,
   "id": "bf9258fc",
   "metadata": {},
   "outputs": [
    {
     "data": {
      "text/plain": [
       "[Document(metadata={'source': 'The Shizuoka Bank／静岡銀行_MOM.docx', 'text': 'Client:The Shizuoka Bank／静岡銀行\\nSource Filename:The Shizuoka Bank／静岡銀行_MOM.docx\\n\\nThe Shizuoka Bank／静岡銀行\\n\\n――――――――――――――――――――\\n\\n▼担当情報\\n\\n・国際営業部\\u3000小林G長、工藤さん\\n\\n・経営企画部\\u3000成宮課長、澤野さん\\n\\n▼事前情報\\n・背景：VC経由で静岡銀行が訪印するため面談対応して欲しいと紹介される。\\n\\n9月に訪印し、11月に再度彼らの支援先企業を複数社連れて訪印を予定している。\\n\\n・担当：静岡銀行国際営業部 国際営業統括グループ グループ長 小林氏\\n\\nネクストステップ：私が9月で彼らと都合が合わなかったので、別途私が日本帰国時にお会いすることになります。\\n\\n・相談：どなたかご担当ください。丈さんが東京来るタイミングで静岡で途中下車してもらうのが良いですかね？\\n\\n\\n▼議論\\n・国際営業部→今後インドに視察などに赴くため情報収集の位置づけで参加\\n\\n・経営企画→ベンチャーサポート、VC支援、投資先への対応含めて出席\\n\\n・2014, 17, 19 にもインドに派遣した実績あり、今回５年ぶりに社員派遣\\n\\n・現地法人は出資受けてる？→No\\n\\n・出資法上、現地法人は単独で作れる？→業態による\\n\\n・日本企業に魅力感じる？→Yes\\n\\n・静岡県も県知事が川勝氏から鈴木氏に交代、12月にグジャラート州とアーメダバードが協定を結ぶ、そこに視察にいく。それを機に交流が活発化するのではと予想。\\n\\n・静岡の取引先のインド開拓の支援が国際部としては主目的\\n\\n・一方、銀行全体は日系企業（スタートアップ）の視察\\n\\n・社長の柴田さんがバンガロール訪問予定\\u3000（11月下旬、26～28日頃）\\n\\n・スタートアップ支援の出資、ベンチャーのサポート、海外のスタートアップの動きも見る\\n\\n・海外に出ている日本のスタートアップ（アンディッシュ？）の支援もしている\\n\\n・システム開発は社内と外注が割と分かれている\\n\\n・GCCなどの可能性、子会社でエンジニアを抱えているが英語使えないのがネック\\n\\n・まずはベンチャー支援と投融資機会の模索\\n\\n・フィリピンから人を受入れて、彼らの支度金を静銀が保証するという仕組み、業態としては介護系、フィリピン以外にも検討進める。\\n\\n・静銀は外国籍25人いる、中韓越フィリピン。銀行口座開設には苦労。\\n\\n・楽天はクレジットカード作れる、色々な書類などなくても\\n\\n・今後、インド・インドネシアを増やす\\n\\n・スズキにはインドの人が多くいるらしい'}, page_content='Client:The Shizuoka Bank／静岡銀行\\nSource Filename:The Shizuoka Bank／静岡銀行_MOM.docx\\n\\nThe Shizuoka Bank／静岡銀行\\n\\n――――――――――――――――――――\\n\\n▼担当情報\\n\\n・国際営業部\\u3000小林G長、工藤さん\\n\\n・経営企画部\\u3000成宮課長、澤野さん\\n\\n▼事前情報\\n・背景：VC経由で静岡銀行が訪印するため面談対応して欲しいと紹介される。\\n\\n9月に訪印し、11月に再度彼らの支援先企業を複数社連れて訪印を予定している。\\n\\n・担当：静岡銀行国際営業部 国際営業統括グループ グループ長 小林氏\\n\\nネクストステップ：私が9月で彼らと都合が合わなかったので、別途私が日本帰国時にお会いすることになります。\\n\\n・相談：どなたかご担当ください。丈さんが東京来るタイミングで静岡で途中下車してもらうのが良いですかね？\\n\\n\\n▼議論\\n・国際営業部→今後インドに視察などに赴くため情報収集の位置づけで参加\\n\\n・経営企画→ベンチャーサポート、VC支援、投資先への対応含めて出席\\n\\n・2014, 17, 19 にもインドに派遣した実績あり、今回５年ぶりに社員派遣\\n\\n・現地法人は出資受けてる？→No\\n\\n・出資法上、現地法人は単独で作れる？→業態による\\n\\n・日本企業に魅力感じる？→Yes\\n\\n・静岡県も県知事が川勝氏から鈴木氏に交代、12月にグジャラート州とアーメダバードが協定を結ぶ、そこに視察にいく。それを機に交流が活発化するのではと予想。\\n\\n・静岡の取引先のインド開拓の支援が国際部としては主目的\\n\\n・一方、銀行全体は日系企業（スタートアップ）の視察\\n\\n・社長の柴田さんがバンガロール訪問予定\\u3000（11月下旬、26～28日頃）\\n\\n・スタートアップ支援の出資、ベンチャーのサポート、海外のスタートアップの動きも見る\\n\\n・海外に出ている日本のスタートアップ（アンディッシュ？）の支援もしている\\n\\n・システム開発は社内と外注が割と分かれている\\n\\n・GCCなどの可能性、子会社でエンジニアを抱えているが英語使えないのがネック\\n\\n・まずはベンチャー支援と投融資機会の模索\\n\\n・フィリピンから人を受入れて、彼らの支度金を静銀が保証するという仕組み、業態としては介護系、フィリピン以外にも検討進める。\\n\\n・静銀は外国籍25人いる、中韓越フィリピン。銀行口座開設には苦労。\\n\\n・楽天はクレジットカード作れる、色々な書類などなくても\\n\\n・今後、インド・インドネシアを増やす\\n\\n・スズキにはインドの人が多くいるらしい'),\n",
       " Document(metadata={'source': 'The Shizuoka Bank／静岡銀行_MOM.docx', 'text': 'Client:The Shizuoka Bank／静岡銀行\\nSource Filename:The Shizuoka Bank／静岡銀行_MOM.docx\\n\\n・楽天はクレジットカード作れる、色々な書類などなくても\\n\\n・今後、インド・インドネシアを増やす\\n\\n・スズキにはインドの人が多くいるらしい\\n\\n・Tech Beat、インドブースもやってる\\u3000（引き合わせてくれるとのこと、念押し）\\n\\n・SaaS出資などが支援多いがどちらかというとVCへの出資\\n\\n・Debtは東京の事業部\\n\\n・スガイさんへの出資は本店でやってるが、比較的外れ値扱い、中長期的な関係の構築が主要目的\\n\\n・五常さん（スガイさん）は出資以外でも繋がりが深く重宝している\\n\\n▼Next Action\\n\\n・御礼メール送付、Tech Beat主催者への繋ぎ\\n\\n・11月の柴田頭取訪印時の調整など\\n\\n――――――――――――――――――――'}, page_content='Client:The Shizuoka Bank／静岡銀行\\nSource Filename:The Shizuoka Bank／静岡銀行_MOM.docx\\n\\n・楽天はクレジットカード作れる、色々な書類などなくても\\n\\n・今後、インド・インドネシアを増やす\\n\\n・スズキにはインドの人が多くいるらしい\\n\\n・Tech Beat、インドブースもやってる\\u3000（引き合わせてくれるとのこと、念押し）\\n\\n・SaaS出資などが支援多いがどちらかというとVCへの出資\\n\\n・Debtは東京の事業部\\n\\n・スガイさんへの出資は本店でやってるが、比較的外れ値扱い、中長期的な関係の構築が主要目的\\n\\n・五常さん（スガイさん）は出資以外でも繋がりが深く重宝している\\n\\n▼Next Action\\n\\n・御礼メール送付、Tech Beat主催者への繋ぎ\\n\\n・11月の柴田頭取訪印時の調整など\\n\\n――――――――――――――――――――')]"
      ]
     },
     "execution_count": 33,
     "metadata": {},
     "output_type": "execute_result"
    }
   ],
   "source": [
    "docs"
   ]
  },
  {
   "cell_type": "code",
   "execution_count": 106,
   "id": "0eef1a2b",
   "metadata": {},
   "outputs": [
    {
     "data": {
      "text/plain": [
       "str"
      ]
     },
     "execution_count": 106,
     "metadata": {},
     "output_type": "execute_result"
    }
   ],
   "source": [
    "type(doc.page_content)\n"
   ]
  },
  {
   "cell_type": "code",
   "execution_count": null,
   "id": "17e67a50",
   "metadata": {},
   "outputs": [],
   "source": []
  },
  {
   "cell_type": "code",
   "execution_count": 10,
   "id": "17553046",
   "metadata": {},
   "outputs": [
    {
     "data": {
      "text/plain": [
       "['/Users/nita/Desktop/TJDOCS/DB_CL情報一覧.docx',\n",
       " '/Users/nita/Desktop/TJDOCS/Touch to Go/Touch to Go_MOM.docx',\n",
       " '/Users/nita/Desktop/TJDOCS/TechnoMix／テクノミックス/TechnoMix_MOM.docx',\n",
       " '/Users/nita/Desktop/TJDOCS/SMSDataTech/SMSDataTech_MOM.docx',\n",
       " '/Users/nita/Desktop/TJDOCS/PAI-R／パイ・アール/PAI-R_MOM.docx',\n",
       " '/Users/nita/Desktop/TJDOCS/FUJI/FUJI_MOM.docx',\n",
       " '/Users/nita/Desktop/TJDOCS/AIxtal／アイクリスタル/AIxtal_MOM.docx',\n",
       " '/Users/nita/Desktop/TJDOCS/AIxtal／アイクリスタル/Hub/AIxtal様_Hub契約書.docx',\n",
       " '/Users/nita/Desktop/TJDOCS/nanameue／ナナメウエ/nanameue／ナナメウエ_MOM.docx',\n",
       " '/Users/nita/Desktop/TJDOCS/nanameue／ナナメウエ/Job/Contract/nanameue_日英比較表 1014.docx',\n",
       " '/Users/nita/Desktop/TJDOCS/nanameue／ナナメウエ/Job/Contract/Recruitment Service Agreement_draft_TechJapan_20231023.docx',\n",
       " '/Users/nita/Desktop/TJDOCS/nanameue／ナナメウエ/Job/Contract/Recruitment Service Agreement_draft_nanameue_TechJapan Final Clean.docx',\n",
       " '/Users/nita/Desktop/TJDOCS/nanameue／ナナメウエ/Job/Contract/作業資料/Recruitment Service Agreement_draft_TechJapan_20231016.docx',\n",
       " '/Users/nita/Desktop/TJDOCS/nanameue／ナナメウエ/Job/Contract/作業資料/ナナメウエ様_JOB契約書ドラフト - internal.docx',\n",
       " '/Users/nita/Desktop/TJDOCS/nanameue／ナナメウエ/Job/Contract/作業資料/nanameue_日英比較表 1012.docx',\n",
       " '/Users/nita/Desktop/TJDOCS/nanameue／ナナメウエ/Job/Contract/作業資料/nanameue_日英比較表 1013.docx',\n",
       " '/Users/nita/Desktop/TJDOCS/nanameue／ナナメウエ/Job/Contract/作業資料/Recruitment Service Agreement_draft_TechJapan_20231006.docx',\n",
       " '/Users/nita/Desktop/TJDOCS/nanameue／ナナメウエ/Job/Contract/作業資料/nanameue_日英比較表.docx',\n",
       " '/Users/nita/Desktop/TJDOCS/nanameue／ナナメウエ/Job/Contract/作業資料/Recruitment Service Agreement_draft_TechJapan_20231013.docx',\n",
       " '/Users/nita/Desktop/TJDOCS/nanameue／ナナメウエ/Job/Contract/作業資料/Recruitment Service Agreement_draft_TechJapan_20231005.docx',\n",
       " '/Users/nita/Desktop/TJDOCS/nanameue／ナナメウエ/Job/Contract/作業資料/Reference employment_placement_contract.docx',\n",
       " '/Users/nita/Desktop/TJDOCS/nanameue／ナナメウエ/Job/Contract/作業資料/Recruitment Service Agreement_draft_TechJapan_20231012.docx',\n",
       " '/Users/nita/Desktop/TJDOCS/nanameue／ナナメウエ/Job/Contract/作業資料/Recruitment Service Agreement_draft_nanameue 1016 internal.docx',\n",
       " '/Users/nita/Desktop/TJDOCS/nanameue／ナナメウエ/Job/Contract/作業資料/Recruitment Service Agreement_draft_nanameue_20231005.docx',\n",
       " '/Users/nita/Desktop/TJDOCS/nanameue／ナナメウエ/Job/Contract/作業資料/ナナメウエ様_JOB契約書ドラフト.docx',\n",
       " '/Users/nita/Desktop/TJDOCS/nanameue／ナナメウエ/Job/Contract/作業資料/Recruitment Service Agreement_draft_nanameue.docx',\n",
       " '/Users/nita/Desktop/TJDOCS/nanameue／ナナメウエ/Job/Contract/作業資料/Recruitment Service Agreement_draft_nanameue 20231014.docx',\n",
       " '/Users/nita/Desktop/TJDOCS/Agnie Consulting/Agnie Consulting_MOM.docx',\n",
       " '/Users/nita/Desktop/TJDOCS/Hitachi Solutions／日立ソリューションズ/日立ソリューションズ_MOM.docx',\n",
       " '/Users/nita/Desktop/TJDOCS/SyncMOF/SyncMOF_MOM.docx',\n",
       " '/Users/nita/Desktop/TJDOCS/SyncMOF/Hub/contract/20231205_Hub契約書_SyncMOF_FIX.docx',\n",
       " '/Users/nita/Desktop/TJDOCS/WithLIVE／ウィズライブ/WithLIVE_MOM.docx',\n",
       " '/Users/nita/Desktop/TJDOCS/IHI/IHI_MOM.docx',\n",
       " '/Users/nita/Desktop/TJDOCS/IHI/Hub/20231020_Hub契約書_JP_IHI様.docx',\n",
       " '/Users/nita/Desktop/TJDOCS/IHI/Hub/20231026pm_Hub契約書_JP_IHI様.docx',\n",
       " '/Users/nita/Desktop/TJDOCS/IHI/Hub/20231026_Hub契約書_JP_IHI様.docx',\n",
       " '/Users/nita/Desktop/TJDOCS/IHI/Hub/Fixed Hub契約書_JP_IHI様.docx',\n",
       " '/Users/nita/Desktop/TJDOCS/IHI/Hub/Contract/Fixed Hub契約書_JP_IHI様(IHI記入).docx',\n",
       " '/Users/nita/Desktop/TJDOCS/IHI/Hub/Contract/Fixed Hub契約書_JP_IHI様.docx',\n",
       " '/Users/nita/Desktop/TJDOCS/IHI/Hub/Contract/Fixed Hub契約書_JP_IHI様(Final_Clean).docx',\n",
       " '/Users/nita/Desktop/TJDOCS/Pocketalk／ポケトーク/Pocketalk／ポケトーク_MOM.docx',\n",
       " '/Users/nita/Desktop/TJDOCS/Eight-Japan Engineering Consultants／エイト日本技術開発/Eight-Japan Engineering Consultants_MOM.docx',\n",
       " '/Users/nita/Desktop/TJDOCS/American Engineering Corporation/American Engineering Corporation_MOM.docx',\n",
       " '/Users/nita/Desktop/TJDOCS/bitFlyer／ビットフライヤー/bitFlyer／ビットフライヤー_MOM.docx',\n",
       " '/Users/nita/Desktop/TJDOCS/bitFlyer／ビットフライヤー/Job/contract/締結途中の保存ファイル/20230307_人材紹介基本契約書_bitFlyerグループ_v1.docx',\n",
       " '/Users/nita/Desktop/TJDOCS/bitFlyer／ビットフライヤー/Job/contract/締結途中の保存ファイル/20230327_人材紹介基本契約書_bitFlyerグループ_FIX.docx',\n",
       " '/Users/nita/Desktop/TJDOCS/bitFlyer／ビットフライヤー/Job/contract/締結途中の保存ファイル/20240708_人材紹介基本契約書_bitFlyerグループ_FIX.docx',\n",
       " '/Users/nita/Desktop/TJDOCS/mirai md inc／未来MD/Mirai MD_MOM.docx',\n",
       " '/Users/nita/Desktop/TJDOCS/mirai md inc／未来MD/Job/Document.docx',\n",
       " '/Users/nita/Desktop/TJDOCS/Couger／クーガー/Couger_MOM.docx',\n",
       " '/Users/nita/Desktop/TJDOCS/Datacom／データコム/Datacom_MOM.docx',\n",
       " '/Users/nita/Desktop/TJDOCS/Datacom／データコム/Hub/contract/締結途中の保存ファイル/20240719_Hub契約書_データコム_FIX.docx',\n",
       " '/Users/nita/Desktop/TJDOCS/Datacom／データコム/Hub/contract/締結途中の保存ファイル/20240719_Hub契約書_データコム_TJ0719.docx',\n",
       " '/Users/nita/Desktop/TJDOCS/ALTURA X/ALTURA X_MOM.docx',\n",
       " '/Users/nita/Desktop/TJDOCS/VRAIN Solution／ブレインソリューション/VRAIN Solution／ブレインソリューション_MOM.docx',\n",
       " '/Users/nita/Desktop/TJDOCS/VRAIN Solution／ブレインソリューション/Hub/contract/締結途中の保存ファイル/20240628_Hub契約書_VRAIN Solution_TJ0628_VR0702_TJ0723.docx',\n",
       " '/Users/nita/Desktop/TJDOCS/VRAIN Solution／ブレインソリューション/Hub/contract/締結途中の保存ファイル/20240628_Hub契約書_VRAIN Solution_FIX.docx',\n",
       " '/Users/nita/Desktop/TJDOCS/VRAIN Solution／ブレインソリューション/Hub/contract/締結途中の保存ファイル/20240628_Hub契約書_VRAIN Solution_TJ0628.docx',\n",
       " '/Users/nita/Desktop/TJDOCS/VRAIN Solution／ブレインソリューション/Hub/contract/締結途中の保存ファイル/インド IT・デジタル⼈材特化型総合プラットフォーム利用契約書2022VRAIN Solution様.docx',\n",
       " '/Users/nita/Desktop/TJDOCS/The Bank of Yokohama／横浜銀行/The Bank of Yokohama／横浜銀行_MOM.docx',\n",
       " '/Users/nita/Desktop/TJDOCS/Cogent Labs／コージェントラボ/Cogent Labs_mom.docx',\n",
       " '/Users/nita/Desktop/TJDOCS/Rokken／ロッケン/Rokken_MOM.docx',\n",
       " '/Users/nita/Desktop/TJDOCS/2WINS／ツインズ/2WINS_MOM.docx',\n",
       " '/Users/nita/Desktop/TJDOCS/2WINS／ツインズ/Hub/20240605_25ISAインターンJD_先方資料キャプチャ.docx',\n",
       " '/Users/nita/Desktop/TJDOCS/2WINS／ツインズ/Hub/contract/契約途中の履歴ファイル/20240605_Hub契約書_2WINS_TJ0605_2W0623.docx',\n",
       " '/Users/nita/Desktop/TJDOCS/2WINS／ツインズ/Hub/contract/契約途中の履歴ファイル/20240605_Hub契約書_2WINS_FIX.docx',\n",
       " '/Users/nita/Desktop/TJDOCS/2WINS／ツインズ/Hub/contract/契約途中の履歴ファイル/20240605_Hub契約書_2WINS_TJ0605.docx',\n",
       " '/Users/nita/Desktop/TJDOCS/2WINS／ツインズ/Hub/contract/契約途中の履歴ファイル/20240605_Hub契約書_2WINS_TJ0605_2W0623_TJ0701.docx',\n",
       " '/Users/nita/Desktop/TJDOCS/NTT DATA／エヌ・ティ・ティ・データ/エヌ・ティ・ティ・データ_議事録.docx',\n",
       " '/Users/nita/Desktop/TJDOCS/TECH I.S.／テックアイエス/TECH I.S. _MOM.docx',\n",
       " '/Users/nita/Desktop/TJDOCS/TECH I.S.／テックアイエス/Hub/20221116_Hub契約書_テックアイエス_v1.docx',\n",
       " '/Users/nita/Desktop/TJDOCS/Scoville/Scoville_MOM.docx',\n",
       " '/Users/nita/Desktop/TJDOCS/Zeals／ジールス/Zeals／ジールス_MOM.docx',\n",
       " '/Users/nita/Desktop/TJDOCS/Zeals／ジールス/Job/contract/20230602_JOB契約書_Zeals社_FIX.docx',\n",
       " '/Users/nita/Desktop/TJDOCS/Zeals／ジールス/Job/blind resume/20230110_blind resume_小石.docx',\n",
       " '/Users/nita/Desktop/TJDOCS/SITE CATCHER／サイトキャッチャー/SITE CATCHER_MOM.docx',\n",
       " '/Users/nita/Desktop/TJDOCS/SALTO/SALTO_MOM.docx',\n",
       " '/Users/nita/Desktop/TJDOCS/IDAJ／アイディーエージェー/IDAJ_MOM.docx',\n",
       " '/Users/nita/Desktop/TJDOCS/IDAJ／アイディーエージェー/Job/contract/20230411_JOB契約書_IDAJ_v0411.docx',\n",
       " '/Users/nita/Desktop/TJDOCS/Daifuku／ダイフク/DAIFUKU_MOM.docx',\n",
       " '/Users/nita/Desktop/TJDOCS/Gbrain/Gbrain_MOM.docx',\n",
       " '/Users/nita/Desktop/TJDOCS/Gbrain/Hub/Gbrain Talendy Agreement Draft.docx',\n",
       " '/Users/nita/Desktop/TJDOCS/Riv/Riv_MOM.docx',\n",
       " '/Users/nita/Desktop/TJDOCS/Riv/Lab/contract/20240730_JOB×LAB契約書_Riv_TJ0730.docx',\n",
       " '/Users/nita/Desktop/TJDOCS/Riv/Hub/contract/締結中保存ファイル/20240730_JP_Hub契約書_Riv_TJ0730.docx',\n",
       " '/Users/nita/Desktop/TJDOCS/Riv/Hub/contract/締結中保存ファイル/20240730_JP_Hub契約書_Riv_FIX.docx',\n",
       " '/Users/nita/Desktop/TJDOCS/DIGITAL VORN／デジタルフォルン/DIGITAL VORN_MOM.docx',\n",
       " '/Users/nita/Desktop/TJDOCS/DIGITAL VORN／デジタルフォルン/DIGITAL VORN様_顧客事例紹介.docx',\n",
       " '/Users/nita/Desktop/TJDOCS/Kakuichi／カクイチ/Kakuichi／カクイチ.docx',\n",
       " '/Users/nita/Desktop/TJDOCS/Wayfarer/WAYFARER_議事録.docx',\n",
       " '/Users/nita/Desktop/TJDOCS/Wayfarer/Hub/20221221_Hub契約書_WAYfarer_.docx',\n",
       " '/Users/nita/Desktop/TJDOCS/Aight（Cuval）/Aight（Cuval）_MOM.docx',\n",
       " '/Users/nita/Desktop/TJDOCS/Sailboat／セイルボート/Sailboat_MOM.docx',\n",
       " '/Users/nita/Desktop/TJDOCS/Secure Innovation／セキュアイノベーション/Secure Innovation_MOM.docx',\n",
       " '/Users/nita/Desktop/TJDOCS/IR-Advanced Linguistic Technologies／アイアール・アクト/アイアール・アクト_MOM.docx',\n",
       " '/Users/nita/Desktop/TJDOCS/Muromachi-group/室町マネジメントサービス_MOM.docx',\n",
       " '/Users/nita/Desktop/TJDOCS/DG FUTURETECH INDIA PRIVATE LIMITED/DG FUTURETECH INDIA PRIVATE LIMITED_MOM.docx',\n",
       " '/Users/nita/Desktop/TJDOCS/ASIOT／アシオット/ASIOT_MOM.docx',\n",
       " '/Users/nita/Desktop/TJDOCS/EARTHBRAIN/EARTHBRAIN_MOM.docx',\n",
       " '/Users/nita/Desktop/TJDOCS/EARTHBRAIN/Job/contract/人材紹介契約書_ EARTHBRAIN様.docx',\n",
       " '/Users/nita/Desktop/TJDOCS/EARTHBRAIN/Job/オファーレター/Pass for Offer letter_Akhilesh Bhat様.docx',\n",
       " '/Users/nita/Desktop/TJDOCS/EARTHBRAIN/Job/オファーレター/Pass for offer letter_Paul Neculoiu-san.docx',\n",
       " '/Users/nita/Desktop/TJDOCS/EARTHBRAIN/Job/オファーレター/Pass for offer letter_Ankit-san.docx',\n",
       " '/Users/nita/Desktop/TJDOCS/EARTHBRAIN/Material/Logo/20231221_商標･著作物等使用申請書 兼 使用許諾書(EB)_Earth brain_TJ記入済.docx',\n",
       " '/Users/nita/Desktop/TJDOCS/Japan Business Systems／日本ビジネスシステムズ/日本ビジネスシステムズ／JBS_議事録.docx',\n",
       " '/Users/nita/Desktop/TJDOCS/Frontier Field／フロンティア・フィールド/Frontier Field_MOM.docx',\n",
       " '/Users/nita/Desktop/TJDOCS/WeStyle/WeStyle_MOM.docx',\n",
       " '/Users/nita/Desktop/TJDOCS/Shimiz corporation／清水建設/Shimizu Corporation／清水建設_MOM.docx',\n",
       " '/Users/nita/Desktop/TJDOCS/Garage Bank／ガレージバンク/Garage Bank__MOM.docx',\n",
       " '/Users/nita/Desktop/TJDOCS/The CXO/The CXO.docx',\n",
       " '/Users/nita/Desktop/TJDOCS/QTnet/QTnet_MOM.docx',\n",
       " '/Users/nita/Desktop/TJDOCS/RamaDBK/RamaDBK_MOM.docx',\n",
       " '/Users/nita/Desktop/TJDOCS/LabBase／ラボベース/LabBase_MOM.docx',\n",
       " '/Users/nita/Desktop/TJDOCS/LabBase／ラボベース/Job/Contract/20230914_JOB契約書_LabBase様.docx',\n",
       " '/Users/nita/Desktop/TJDOCS/Nomura Securities／野村證券/野村證券_MOM.docx',\n",
       " '/Users/nita/Desktop/TJDOCS/Nomura Securities／野村證券/Alliance・vender/20230724_サービス案内文面_野村證券様.docx',\n",
       " '/Users/nita/Desktop/TJDOCS/BULL/BULL_MOM.docx',\n",
       " '/Users/nita/Desktop/TJDOCS/AEONNEXT／イオンネクスト/AEONNEXT／イオンネクストAEONNEXT／イオンネクストト_MOM.docx',\n",
       " '/Users/nita/Desktop/TJDOCS/AEONNEXT／イオンネクスト/Job/請求書テンプレートラショリア-ニテッシュさま.docx',\n",
       " '/Users/nita/Desktop/TJDOCS/AEONNEXT／イオンネクスト/Job/contract/人材紹介契約書_ イオンネクスト様.docx',\n",
       " '/Users/nita/Desktop/TJDOCS/AEONNEXT／イオンネクスト/Job/contract/人材紹介契約書_覚書_イオンネクスト様20230128_draft.docx',\n",
       " '/Users/nita/Desktop/TJDOCS/AEONNEXT／イオンネクスト/Hub/2023 – Product Knowledge Base Engineer.docx',\n",
       " '/Users/nita/Desktop/TJDOCS/AEONNEXT／イオンネクスト/Hub/contract/20220909_Hub契約書_イオンネクスト_FIX.docx',\n",
       " '/Users/nita/Desktop/TJDOCS/TIS/TIS_MOM.docx',\n",
       " '/Users/nita/Desktop/TJDOCS/Hitachi Systems／日立システムズ/Hitachi Systems／日立システムズ_MOM.docx',\n",
       " '/Users/nita/Desktop/TJDOCS/Hitachi Systems／日立システムズ/Job/20221115_日立システムズ_紹介代理契約書.docx',\n",
       " '/Users/nita/Desktop/TJDOCS/Honda R&D／本田技術研究所/Honda R&D_MOM.docx',\n",
       " '/Users/nita/Desktop/TJDOCS/System Research／システムリサーチ/SYSTEM RESEARCH_MOM.docx',\n",
       " '/Users/nita/Desktop/TJDOCS/System Research／システムリサーチ/システムリサーチ様_SIer様顧客事例紹介.docx',\n",
       " '/Users/nita/Desktop/TJDOCS/SONAS／ソナス/SONAS／ソナス_MOM.docx',\n",
       " '/Users/nita/Desktop/TJDOCS/Glocalsit/Glocalist_MOM.docx',\n",
       " '/Users/nita/Desktop/TJDOCS/Glocalsit/Lab/Glocalist様Tech Jaan LAB業務委託_準委任基本契約書_0109TJコメント.docx',\n",
       " '/Users/nita/Desktop/TJDOCS/Glocalsit/Lab/Glocalist様Tech Jaan LAB業務委託_準委任基本契約書_Glo1220.docx',\n",
       " '/Users/nita/Desktop/TJDOCS/Glocalsit/Lab/Glocalist様Tech Jaan LAB業務委託_準委任基本契約書_0109.docx',\n",
       " '/Users/nita/Desktop/TJDOCS/Glocalsit/Lab/Contract/Glocalist様Tech Jaan LAB業務委託_準委任基本契約書_0119TJコメント.docx',\n",
       " '/Users/nita/Desktop/TJDOCS/Glocalsit/Lab/Contract/Glocalist様Tech Jaan LAB業務委託_準委任基本契約書_0119TJコメント_Glo0125.docx',\n",
       " '/Users/nita/Desktop/TJDOCS/Glocalsit/Lab/Contract/Glocalist様Tech Jaan LAB業務委託_準委任基本契約書.docx',\n",
       " '/Users/nita/Desktop/TJDOCS/Glocalsit/Lab/Contract/Glocalist様Tech Jaan LAB業務委託_準委任基本契約書_0109TJコメント_Glo0117.docx',\n",
       " '/Users/nita/Desktop/TJDOCS/Glocalsit/Lab/Contract/Glocalist様Tech Japan LAB業務委託_準委任個別契約書.docx',\n",
       " '/Users/nita/Desktop/TJDOCS/Glocalsit/Lab/Contract/Glocalist様Tech Jaan LAB業務委託_準委任基本契約書_Glo0125_TJ0126.docx',\n",
       " '/Users/nita/Desktop/TJDOCS/Glocalsit/Lab/Contract/Fixed Glocalist様Tech Jaan LAB業務委託_準委任基本契約書.docx',\n",
       " '/Users/nita/Desktop/TJDOCS/Glocalsit/Lab/Contract/Utkarsh-san/Utkarsh_san_Service Agreement.docx',\n",
       " '/Users/nita/Desktop/TJDOCS/Glocalsit/Lab/Contract/Kinebuchi-san/Kinebuchi_san_Service Agreement.docx',\n",
       " '/Users/nita/Desktop/TJDOCS/Glocalsit/Alliance/Glocalist Helps Tech Japan/業務提携契約書_Glocalist_TechJapan.docx',\n",
       " '/Users/nita/Desktop/TJDOCS/Glocalsit/Hub/Contract/Glocalist様_Tech Japan Hub契約書_Glo1220.docx',\n",
       " '/Users/nita/Desktop/TJDOCS/Glocalsit/Hub/Contract/Glocalist様_Tech Japan Hub契約書.docx',\n",
       " '/Users/nita/Desktop/TJDOCS/Glocalsit/Hub/Contract/Final_Glocalist様_Tech Japan Hub契約書.docx',\n",
       " '/Users/nita/Desktop/TJDOCS/COMAS／コマス/COMAS_MOM.docx',\n",
       " '/Users/nita/Desktop/TJDOCS/Palette／パレット/Palette_MOM.docx',\n",
       " '/Users/nita/Desktop/TJDOCS/Palette／パレット/Hub/Contract/20231011_Hub契約書_JP_Palette様.docx',\n",
       " '/Users/nita/Desktop/TJDOCS/TOKUITEN／トクイテン/TOKUITEN_MOM.docx',\n",
       " '/Users/nita/Desktop/TJDOCS/BLUE BEES/BLUE BEES_MOM.docx',\n",
       " '/Users/nita/Desktop/TJDOCS/Carb Coin/Carb Coin_MOM.docx',\n",
       " '/Users/nita/Desktop/TJDOCS/AppBrew/AppBrew_MOM.docx',\n",
       " '/Users/nita/Desktop/TJDOCS/Oyraa/Oyraa_MOM.docx',\n",
       " '/Users/nita/Desktop/TJDOCS/Okinawa tecnos／沖縄テクノス/沖縄テクノス_MOM.docx',\n",
       " '/Users/nita/Desktop/TJDOCS/LIG/LIG_MOM.docx',\n",
       " '/Users/nita/Desktop/TJDOCS/LIG/Hub/20230217_Hub契約書_LIG社_v1.docx',\n",
       " '/Users/nita/Desktop/TJDOCS/Universal Materials Incubator／ユニバーサルマテリアルズインキュベーター/Universal Materials Incubator_MOM.docx',\n",
       " '/Users/nita/Desktop/TJDOCS/スピカデザイン/Alliance/contract/20240425_WEBサイト業務委託契約書_Tech Japan-spiqa.design_FIX.docx',\n",
       " '/Users/nita/Desktop/TJDOCS/ScienceEdge／サイエンスエッジ/ScienceEdge_MOM.docx',\n",
       " '/Users/nita/Desktop/TJDOCS/DG Daiwa Ventures/DG Daiwa Ventures__MOM.docx',\n",
       " '/Users/nita/Desktop/TJDOCS/DG Daiwa Ventures/Alliance/提出資料／ブローシャー・案内文章・リストなど/20231108_サービス案内文面_DGDV様.docx',\n",
       " '/Users/nita/Desktop/TJDOCS/東京エレクトロン九州/東京エレクトロン九州_MOM.docx',\n",
       " '/Users/nita/Desktop/TJDOCS/SPLYZA/SPLYZA _スプライザ_MOM.docx',\n",
       " '/Users/nita/Desktop/TJDOCS/Guide Robotics／ガイドロボティクス/Guide Robotics_MOM.docx',\n",
       " '/Users/nita/Desktop/TJDOCS/Kagawa Prefecture／香川県/Kagawa Prefecture_MOM.docx',\n",
       " '/Users/nita/Desktop/TJDOCS/JMC Data/JMC Data_MOM.docx',\n",
       " '/Users/nita/Desktop/TJDOCS/JMC Data/Hub/JMC Data様_Tech Japan Hub契約書.docx',\n",
       " '/Users/nita/Desktop/TJDOCS/Archaic／アルカイック/Archaic_MOM.docx',\n",
       " '/Users/nita/Desktop/TJDOCS/DUMSCO/DUMSCO_MOM.docx',\n",
       " '/Users/nita/Desktop/TJDOCS/FCC／エフ・シー・シー/FCC_MOM.docx',\n",
       " '/Users/nita/Desktop/TJDOCS/Commerce Robotics Inc.／コマースロボティクス/Commerce Robotics／コマースロボティクス_MOM.docx',\n",
       " '/Users/nita/Desktop/TJDOCS/MUSE/MUSE__MOM.docx',\n",
       " '/Users/nita/Desktop/TJDOCS/MUSE/Hub/株式会社MUSE_Hub契約書.docx',\n",
       " '/Users/nita/Desktop/TJDOCS/SMHC Co., Ltd/SMHC_MOM.docx',\n",
       " '/Users/nita/Desktop/TJDOCS/タクマ/Takuma／タクマ_MOM.docx',\n",
       " '/Users/nita/Desktop/TJDOCS/Globis／グロービス/Globis__MOM.docx',\n",
       " '/Users/nita/Desktop/TJDOCS/Asia Quest／アジアクエスト/Asia Quest_MOM.docx',\n",
       " '/Users/nita/Desktop/TJDOCS/HACHIJUNI BANK／八十二銀行/HACHIJUNI BANK_MOM.docx',\n",
       " '/Users/nita/Desktop/TJDOCS/mercari／メルカリ/メルカリ_議事録.docx',\n",
       " '/Users/nita/Desktop/TJDOCS/mercari／メルカリ/Hub/contract/0826_インド IT・デジタル⼈材特化型総合プラットフォーム利用契約書2022_メルカリ様.docx',\n",
       " '/Users/nita/Desktop/TJDOCS/mercari／メルカリ/Hub/海外送金_相談案件/20230327_Additional inquiries regarding opinion.docx',\n",
       " '/Users/nita/Desktop/TJDOCS/mercari／メルカリ/Hub/海外送金_相談案件/20230320_Additional inquiries regarding opinion.docx',\n",
       " '/Users/nita/Desktop/TJDOCS/mercari／メルカリ/Material/Logo/Logoガイドライン＆ロゴデータ.docx',\n",
       " '/Users/nita/Desktop/TJDOCS/B Corp認証/Bcorp認証_MOM.docx',\n",
       " '/Users/nita/Desktop/TJDOCS/Jinjib／ジンジブ/Jinjib_MOM.docx',\n",
       " '/Users/nita/Desktop/TJDOCS/Plaid／プレイド/Plaid_MOM.docx',\n",
       " '/Users/nita/Desktop/TJDOCS/Plaid／プレイド/Job/Tech Lead JD.docx',\n",
       " '/Users/nita/Desktop/TJDOCS/Plaid／プレイド/Hub/24卒サマーインターンシップ/Reflection/Plaid, Balbir Prasad.docx',\n",
       " '/Users/nita/Desktop/TJDOCS/Plaid／プレイド/Hub/24卒サマーインターンシップ/Reflection/Plaid, Aditya Sanjay Rajput,.docx',\n",
       " '/Users/nita/Desktop/TJDOCS/Plaid／プレイド/Hub/contract/20230601_Hub契約書_Plaid_FIX.docx',\n",
       " '/Users/nita/Desktop/TJDOCS/Plaid／プレイド/EOR/Plaid_EOR_MSA/20240411_MSA_Plaid.docx',\n",
       " '/Users/nita/Desktop/TJDOCS/Plaid／プレイド/EOR/Plaid_EOR_MSA/20240313_MSA_Plaid.docx',\n",
       " '/Users/nita/Desktop/TJDOCS/Plaid／プレイド/EOR/SOW/20240313_SOW_Plaid.docx',\n",
       " '/Users/nita/Desktop/TJDOCS/Plaid／プレイド/EOR/Final documents for Plaid_EOR/20240703_FINAL_WORKING RULES_ADITYA.docx',\n",
       " '/Users/nita/Desktop/TJDOCS/Plaid／プレイド/EOR/Final documents for Plaid_EOR/20240703_MSA_Plaid_TJ add.docx',\n",
       " '/Users/nita/Desktop/TJDOCS/Plaid／プレイド/EOR/Final documents for Plaid_EOR/20240703_SOW_Plaid_TJ add.docx',\n",
       " '/Users/nita/Desktop/TJDOCS/Plaid／プレイド/EOR/Final documents for Plaid_EOR/20240703_Employment Agreement_ADITYA.docx',\n",
       " '/Users/nita/Desktop/TJDOCS/Plaid／プレイド/EOR/Final documents for Plaid_EOR/20240704_Employment Agreement_ADITYA.docx',\n",
       " '/Users/nita/Desktop/TJDOCS/RUTILEA/RUTILEA_MOM.docx',\n",
       " '/Users/nita/Desktop/TJDOCS/Fukuoka City／福岡市/Fukuoka City_MOM.docx',\n",
       " '/Users/nita/Desktop/TJDOCS/Fukuoka City／福岡市/福岡市様_セミナー実施に向けたディスカッション.docx',\n",
       " '/Users/nita/Desktop/TJDOCS/Denso India／デンソーインド/Denso India_MOM.docx',\n",
       " '/Users/nita/Desktop/TJDOCS/Denso India／デンソーインド/Hackathon/20230926_Audio Analytics_JP_DENSO INDIA.docx',\n",
       " '/Users/nita/Desktop/TJDOCS/Denso India／デンソーインド/Hackathon/20230926_Quality Classifier_JP_DENSO INDIA.docx',\n",
       " '/Users/nita/Desktop/TJDOCS/KSK/KSK_MOM.docx',\n",
       " '/Users/nita/Desktop/TJDOCS/Donut Robtics／ドーナッツロボティクス/Donut Robotics_MOM.docx',\n",
       " '/Users/nita/Desktop/TJDOCS/Memory Lab／Mlab/Memory Lab_MOM.docx',\n",
       " '/Users/nita/Desktop/TJDOCS/Memory Lab／Mlab/Hub/contract/20231207_Hub契約書_Mlab_v1207.docx',\n",
       " '/Users/nita/Desktop/TJDOCS/STANDAGE／スタンデージ/STANDAGE／スタンデージ_MOM.docx',\n",
       " '/Users/nita/Desktop/TJDOCS/Jij/Jij_MOM.docx',\n",
       " '/Users/nita/Desktop/TJDOCS/MOSAIQUE/モザイク_Mom.docx',\n",
       " '/Users/nita/Desktop/TJDOCS/Evo Ventures/Alliance・vender/contract/20240305_業務提携契約書_Evo ventures-TechJapan_v0312.docx',\n",
       " '/Users/nita/Desktop/TJDOCS/Credit Engine／クレジットエンジン/Credit Engine_MOM.docx',\n",
       " '/Users/nita/Desktop/TJDOCS/Credit Engine／クレジットエンジン/Job/contract/締結途中の保存ファイル/20240422_JOB契約書_Credit Engine_FIX.docx',\n",
       " '/Users/nita/Desktop/TJDOCS/Credit Engine／クレジットエンジン/Job/contract/締結途中の保存ファイル/20230706_JOB契約書_Credit Engine.docx',\n",
       " '/Users/nita/Desktop/TJDOCS/Credit Engine／クレジットエンジン/Job/contract/締結途中の保存ファイル/20230710_秘密保持契約_Credit Engine-Tech Japan.docx',\n",
       " '/Users/nita/Desktop/TJDOCS/Credit Engine／クレジットエンジン/Job/contract/締結途中の保存ファイル/20230706_JOB契約書_Credit Engine_tj0419修正反映.docx',\n",
       " '/Users/nita/Desktop/TJDOCS/Kansai Electric Power Co., Inc／関西電力/Kansai Electric Power_MOM.docx',\n",
       " '/Users/nita/Desktop/TJDOCS/Kansai Electric Power Co., Inc／関西電力/20231110_サービス案内文面_関西電力様／投資先各社様.docx',\n",
       " '/Users/nita/Desktop/TJDOCS/GoComet/GoComet_MOM.docx',\n",
       " '/Users/nita/Desktop/TJDOCS/Teikoku Databank／帝国データバンク/帝国データバンク_議事録.docx',\n",
       " '/Users/nita/Desktop/TJDOCS/BeMap／ビーマップ/ビーマップ_MOM.docx',\n",
       " '/Users/nita/Desktop/TJDOCS/BeMap／ビーマップ/Job/contract/締結途中の保存ファイル/20240820_JOB×LAB契約書_JP_ビーマップ_FIX.docx',\n",
       " '/Users/nita/Desktop/TJDOCS/BeMap／ビーマップ/Job/contract/締結途中の保存ファイル/20240624_JOB×LAB契約書_JP_ビーマップ.docx',\n",
       " '/Users/nita/Desktop/TJDOCS/BeMap／ビーマップ/Hub/contract/20231219_Hub契約書_bemap_v0218_FIX.docx',\n",
       " '/Users/nita/Desktop/TJDOCS/BeMap／ビーマップ/Hub/contract/20231219_Hub契約書_bemap_v1219.docx',\n",
       " '/Users/nita/Desktop/TJDOCS/Inet／アイネット/Inet・アイネット_MOM.docx',\n",
       " '/Users/nita/Desktop/TJDOCS/Panasonic Life Solutions India／パナソニック・ライフソリューションズ・インディア/Panasonic Life Solutions India_MOM.docx',\n",
       " '/Users/nita/Desktop/TJDOCS/Yamaha／ヤマハ/Yamaha_MOM.docx',\n",
       " '/Users/nita/Desktop/TJDOCS/LeapMind/Leap Mind_議事録.docx',\n",
       " '/Users/nita/Desktop/TJDOCS/LeapMind/Job/20230801_日経新聞.docx',\n",
       " '/Users/nita/Desktop/TJDOCS/FEPC／電気事業連合会/電気事業連合会_MOM.docx',\n",
       " '/Users/nita/Desktop/TJDOCS/Canly／カンリー/Canly／カンリー_MOM.docx',\n",
       " '/Users/nita/Desktop/TJDOCS/Bankware Japan／バンクウェアジャパン/Bankware Japan／バンクウェアジャパン_MOM.docx',\n",
       " '/Users/nita/Desktop/TJDOCS/CBS Corporate Business Solutions Japan/CBS Consulting_MOM.docx',\n",
       " '/Users/nita/Desktop/TJDOCS/CBS Corporate Business Solutions Japan/Job/Talent Requirement in Japan/JD Finance Principal or Senior Consultant (FI, CO)JP.docx',\n",
       " '/Users/nita/Desktop/TJDOCS/CBS Corporate Business Solutions Japan/Job/Talent Requirement in Japan/JD Finance Consultant (FI, CO)JP.docx',\n",
       " '/Users/nita/Desktop/TJDOCS/CBS Corporate Business Solutions Japan/Job/Talent Requirement in Japan/JD Logistics Consultant (SD, MM, PP, QM, WM, eWM)JP.docx',\n",
       " '/Users/nita/Desktop/TJDOCS/CBS Corporate Business Solutions Japan/Job/Talent Requirement in Japan/JD Logistics Principal or Senior Consultant (SD, MM, PP, QM, WM, eWM)JP.docx',\n",
       " '/Users/nita/Desktop/TJDOCS/CBS Corporate Business Solutions Japan/Job/contract/Internal Recruitment Service Agreement_draft_v20240117.docx',\n",
       " '/Users/nita/Desktop/TJDOCS/CBS Corporate Business Solutions Japan/Job/contract/Recruitment Service Agreement draft for CBS.docx',\n",
       " '/Users/nita/Desktop/TJDOCS/CBS Corporate Business Solutions Japan/Job/contract/Recruitment Service Agreement_draft_20240118.docx',\n",
       " '/Users/nita/Desktop/TJDOCS/CBS Corporate Business Solutions Japan/Job/contract/Final_Recruitment Service Agreement_draft.docx',\n",
       " '/Users/nita/Desktop/TJDOCS/CBS Corporate Business Solutions Japan/Hub/contract/Final_Tech Japan Hub Agreement Draft.docx',\n",
       " '/Users/nita/Desktop/TJDOCS/CBS Corporate Business Solutions Japan/Hub/contract/Tech Japan Hub Agreement Draft.docx',\n",
       " '/Users/nita/Desktop/TJDOCS/Holoway/Holoway_MOM.docx',\n",
       " '/Users/nita/Desktop/TJDOCS/RECEPTIONIST/RECEPTIONIST_MOM.docx',\n",
       " '/Users/nita/Desktop/TJDOCS/RECEPTIONIST/Job/contract/締結途中の保存ファイル/20240807_JOB×LAB契約書_RECEPTIONIST_TJ0807.docx',\n",
       " '/Users/nita/Desktop/TJDOCS/MIMS/MIMS_MOM.docx',\n",
       " '/Users/nita/Desktop/TJDOCS/MIMS/Job/contract/Recruitment Service Agreement_MIMS.docx',\n",
       " '/Users/nita/Desktop/TJDOCS/Kepler/Kepler_MOM.docx',\n",
       " '/Users/nita/Desktop/TJDOCS/Kepler/Job/JOB契約書_Kepler様.docx',\n",
       " '/Users/nita/Desktop/TJDOCS/Kepler/Hub/Hub契約書_Kepler様.docx',\n",
       " '/Users/nita/Desktop/TJDOCS/FALTEC／ファルテック/FALTEC_MOM.docx',\n",
       " '/Users/nita/Desktop/TJDOCS/Sotas/Sotas_MOM.docx',\n",
       " '/Users/nita/Desktop/TJDOCS/Sotas/Job/Sotas様_JOB契約書.docx',\n",
       " '/Users/nita/Desktop/TJDOCS/metaps／メタップス/metaps_MOM.docx',\n",
       " '/Users/nita/Desktop/TJDOCS/Def tribe/Def tribe_MOM.docx',\n",
       " '/Users/nita/Desktop/TJDOCS/UMITRON/UMITRON__MOM.docx',\n",
       " '/Users/nita/Desktop/TJDOCS/Sooon/Sooon_MOM.docx',\n",
       " '/Users/nita/Desktop/TJDOCS/Sooon/Hub/contract/20240315_Hub契約書_Sooon_TJ0315.docx',\n",
       " '/Users/nita/Desktop/TJDOCS/Rakuten Group_Japan／楽天グループ_Japan/楽天グループ_Japan_議事録.docx',\n",
       " '/Users/nita/Desktop/TJDOCS/Rakuten Group_Japan／楽天グループ_Japan/楽天グループ_India_議事録.docx',\n",
       " '/Users/nita/Desktop/TJDOCS/Rakuten Group_Japan／楽天グループ_Japan/Job/20230217_Rakuten Payment Minutes.docx',\n",
       " '/Users/nita/Desktop/TJDOCS/sustainacraft, Inc./sustainacraft_MOM.docx',\n",
       " '/Users/nita/Desktop/TJDOCS/Green chemical／グリーンケミカル/Green chemical／グリーンケミカル_MOM.docx',\n",
       " '/Users/nita/Desktop/TJDOCS/Living Robot／リビングロボット/Living Robot／リビングロボット_MOM.docx',\n",
       " '/Users/nita/Desktop/TJDOCS/RapyutaRobotics／ラピュタロボティクス/RapyutaRobotics_MOM.docx',\n",
       " '/Users/nita/Desktop/TJDOCS/AIVA／オフシェア開発/アビシット_MOM.docx',\n",
       " '/Users/nita/Desktop/TJDOCS/IDOM CaaS Technology（NOREL）/IDOM CaaS Technology_MOM.docx',\n",
       " '/Users/nita/Desktop/TJDOCS/IDOM CaaS Technology（NOREL）/Hub/Offer Letter&NDA/NDA_IDOM CaaS Technology_Yash Pandey.docx',\n",
       " '/Users/nita/Desktop/TJDOCS/IDOM CaaS Technology（NOREL）/Hub/Offer Letter&NDA/240610_IDOM CaaS Technology_Internship Offer Letter_Yash Pandey.docx',\n",
       " '/Users/nita/Desktop/TJDOCS/IDOM CaaS Technology（NOREL）/Hub/Quaotation/IDOM CaaS Technology様_Hub契約書.docx',\n",
       " '/Users/nita/Desktop/TJDOCS/SPONTO/SPONTO_MOM.docx',\n",
       " '/Users/nita/Desktop/TJDOCS/Tsumiki Tech/Tsumiki Tech_MOM.docx',\n",
       " '/Users/nita/Desktop/TJDOCS/JICベンチャー・グロース・インベストメンツ/JIC_MOM.docx',\n",
       " '/Users/nita/Desktop/TJDOCS/Inter Action／株式会社インターアクション/Inter Action_MOM.docx',\n",
       " '/Users/nita/Desktop/TJDOCS/Inter Action／株式会社インターアクション/Job/Contract/20231031_JOB契約書_インターアクション様.docx',\n",
       " '/Users/nita/Desktop/TJDOCS/Inter Action／株式会社インターアクション/Job/Contract/Final_Clean_JOB契約書_インターアクション様.docx',\n",
       " '/Users/nita/Desktop/TJDOCS/Inter Action／株式会社インターアクション/Job/Contract/Clean_JOB契約書_インターアクション様.docx',\n",
       " '/Users/nita/Desktop/TJDOCS/Inter Action／株式会社インターアクション/Job/Contract/20231018_JOB契約書_インターアクション様.docx',\n",
       " '/Users/nita/Desktop/TJDOCS/Inter Action／株式会社インターアクション/Job/Contract/【検討完了】20231018_JOB契約書_インターアクション様231018.docx',\n",
       " '/Users/nita/Desktop/TJDOCS/Panasonic Holdings／パナソニック ホールディングス/Panasonic Holdings_MOM.docx',\n",
       " '/Users/nita/Desktop/TJDOCS/みずほ銀行_みずほイノベーション企業支援部/みずほイノベーション企業支援部_MOM.docx',\n",
       " '/Users/nita/Desktop/TJDOCS/みずほ銀行_みずほイノベーション企業支援部/Alliance/提出資料／ブローシャー・リスト/20230814_サービス案内文面_みずほ銀行様.docx',\n",
       " '/Users/nita/Desktop/TJDOCS/みずほ銀行_みずほイノベーション企業支援部/Alliance/提出資料／ブローシャー・リスト/20230725_サービス案内文面_みずほ銀行様.docx',\n",
       " '/Users/nita/Desktop/TJDOCS/みずほ銀行_みずほイノベーション企業支援部/Alliance/提出資料／ブローシャー・リスト/20231110_サービス案内文面_みずほ銀行様.docx',\n",
       " '/Users/nita/Desktop/TJDOCS/みずほ銀行_みずほイノベーション企業支援部/Alliance/提出資料／ブローシャー・リスト/20230530_サービス案内文面_みずほ銀行様.docx',\n",
       " '/Users/nita/Desktop/TJDOCS/TeamSpirit／チームスピリット/TeamSpirit／チームスピリット_MOM.docx',\n",
       " '/Users/nita/Desktop/TJDOCS/CLPS technology Japan/CLPS_MOM.docx',\n",
       " '/Users/nita/Desktop/TJDOCS/CLPS technology Japan/Job/contract/Final_Job Agreement Draft_CLPS_Eng.docx',\n",
       " '/Users/nita/Desktop/TJDOCS/CLPS technology Japan/Job/contract/20240131_JOB契約書_CLPS.docx',\n",
       " '/Users/nita/Desktop/TJDOCS/CLPS technology Japan/Job/contract/20240312_Job Agreement Draft_CLPS_Eng.docx',\n",
       " '/Users/nita/Desktop/TJDOCS/CLPS technology Japan/Job/contract/20231204_JOB契約書_CLPS.docx',\n",
       " '/Users/nita/Desktop/TJDOCS/CLPS technology Japan/Hub/contract/20231204_Hub契約書_CLPS.docx',\n",
       " '/Users/nita/Desktop/TJDOCS/AssistMotion/AssistMotion_MOM.docx',\n",
       " '/Users/nita/Desktop/TJDOCS/Osaka Prefecture／大阪府/大阪府商工労働部/大阪府商工労働部_MOM.docx',\n",
       " '/Users/nita/Desktop/TJDOCS/AutoTechnicJapan／オートテクニックジャパン/AutoTechnicJapan_MOM.docx',\n",
       " '/Users/nita/Desktop/TJDOCS/CYBO/CYBO_MOM.docx',\n",
       " '/Users/nita/Desktop/TJDOCS/Bionics／バイオニクス/Bionics_MOM.docx',\n",
       " '/Users/nita/Desktop/TJDOCS/HARTi/HARTi_MOM.docx',\n",
       " '/Users/nita/Desktop/TJDOCS/PIOLAX／パイオラックス/パイオラックス_議事録.docx',\n",
       " '/Users/nita/Desktop/TJDOCS/Liberaware/Liberaware_MOM.docx',\n",
       " '/Users/nita/Desktop/TJDOCS/Medical System Network／メディカルシステムネットワーク/Medical System Network_MOM..docx',\n",
       " '/Users/nita/Desktop/TJDOCS/TATA Consultancy Services/TATA Consultancy Services_MOM.docx',\n",
       " '/Users/nita/Desktop/TJDOCS/LEVERAGE／レバレッジ/LEVERAGE_MOM.docx',\n",
       " '/Users/nita/Desktop/TJDOCS/UZABASE／ユーザベース/UZABASE_MOM.docx',\n",
       " '/Users/nita/Desktop/TJDOCS/I-TEC／アイテック/I-TEC_MOM.docx',\n",
       " '/Users/nita/Desktop/TJDOCS/CAJS／一般社団法人日本中小型造船工業会/CAJS_MOM.docx',\n",
       " '/Users/nita/Desktop/TJDOCS/Arcadia Systems／アルカディア・システムズ/Arcadia Systems／アルカディア・システムズ_MOM.docx',\n",
       " '/Users/nita/Desktop/TJDOCS/Sygnos／シグノス/シグノス_MOM.docx',\n",
       " '/Users/nita/Desktop/TJDOCS/PenMyPlan/PenMyPlan_MOM.docx',\n",
       " '/Users/nita/Desktop/TJDOCS/e-Grid／イーグリッド/e-Grid_MOM.docx',\n",
       " '/Users/nita/Desktop/TJDOCS/e-Grid／イーグリッド/Job/contract/人材紹介契約書_株式会社イーグリッド.docx',\n",
       " '/Users/nita/Desktop/TJDOCS/e-Grid／イーグリッド/Job/contract/人材紹介契約書_株式会社Scoville様.docx',\n",
       " '/Users/nita/Desktop/TJDOCS/H&Company/H&Company_MOM.docx',\n",
       " '/Users/nita/Desktop/TJDOCS/HOUSEI/HOUSEI_MOM.docx',\n",
       " '/Users/nita/Desktop/TJDOCS/DG TAKANO/DG TAKANO_MOM (Yabuoshi さんの変更 2024-08-13).docx',\n",
       " '/Users/nita/Desktop/TJDOCS/DG TAKANO/DG TAKANO_MOM.docx',\n",
       " '/Users/nita/Desktop/TJDOCS/DG TAKANO/Lab/20240812_東京都イノベーション補助金PJT（Waste Compost system）/20240827_関心表明書_DG TAKANO-Tech Japan.docx',\n",
       " '/Users/nita/Desktop/TJDOCS/DG TAKANO/Lab/20240301_事業再構築補助金＆HPリニューアル/20240301_見積もり依頼書_sample_DG TAKANO.docx',\n",
       " '/Users/nita/Desktop/TJDOCS/DG TAKANO/Lab/20240301_事業再構築補助金＆HPリニューアル/他社見積sample/20240301_見積もり依頼書BongYong.docx',\n",
       " '/Users/nita/Desktop/TJDOCS/DG TAKANO/Hub/20230628_Kapil Verma_応募時情報_DG TAKANO.docx',\n",
       " '/Users/nita/Desktop/TJDOCS/DG TAKANO/Hub/contract/締結中保存ファイル/20230627_Hub契約書_DG TAKANO_v0627.docx',\n",
       " '/Users/nita/Desktop/TJDOCS/gumi/gumi_MOM.docx',\n",
       " '/Users/nita/Desktop/TJDOCS/OZVISION／オズビジョン/OZVISION_MOM.docx',\n",
       " '/Users/nita/Desktop/TJDOCS/Univearth/Univearth_MOM.docx',\n",
       " '/Users/nita/Desktop/TJDOCS/Space Alpha System Co., Ltd／スペースアルファーシステム/Space Alpha System_MOM.docx',\n",
       " '/Users/nita/Desktop/TJDOCS/Rebirthel／リバーセル/Rebirthel_MOM.docx',\n",
       " '/Users/nita/Desktop/TJDOCS/TG Japan/TG Japan_MOM.docx',\n",
       " '/Users/nita/Desktop/TJDOCS/TG Japan/Alliance・Vender/contract/20221212_業務委託契約書【TG Japan／Tech Japan】.docx',\n",
       " '/Users/nita/Desktop/TJDOCS/TAKUMA CO., LTD.／タクマ/TAKUMA＿MOM.docx',\n",
       " '/Users/nita/Desktop/TJDOCS/Makino／牧野フライス製作所/Makino_MOM.docx',\n",
       " '/Users/nita/Desktop/TJDOCS/NEMTUS／NEM技術普及推進会/NEMTUS_MOM.docx',\n",
       " '/Users/nita/Desktop/TJDOCS/Co-graph／コグラフ/Co-graph／コグラフ_MOM.docx',\n",
       " '/Users/nita/Desktop/TJDOCS/Biz Freak/Biz Freak_MOM.docx',\n",
       " '/Users/nita/Desktop/TJDOCS/Micata／ミカタ/mikata__MOM.docx',\n",
       " '/Users/nita/Desktop/TJDOCS/Micata／ミカタ/Hub/contract/20240228_Hub契約書_ミカタ_FIX.docx',\n",
       " '/Users/nita/Desktop/TJDOCS/Micata／ミカタ/Hub/contract/20240228_Hub契約書_ミカタ_TJ0228.docx',\n",
       " '/Users/nita/Desktop/TJDOCS/Linkwiz／リンクウィズ/Linkwiz_MOM.docx',\n",
       " '/Users/nita/Desktop/TJDOCS/Linkwiz／リンクウィズ/Job/contract/20191101_JOB契約書_リンクウィズ_FIX.docx',\n",
       " '/Users/nita/Desktop/TJDOCS/Linkwiz／リンクウィズ/Hub/LINKWIZ募集要項_DX_データ分析_20210616.docx',\n",
       " '/Users/nita/Desktop/TJDOCS/NRI／野村総合研究所/NRI／野村総合研究所_MOM.docx',\n",
       " '/Users/nita/Desktop/TJDOCS/WHILL／ウィル/WHILL／ウィル_MOM.docx',\n",
       " '/Users/nita/Desktop/TJDOCS/WHILL／ウィル/Job/00_contract/20230119_JOB契約書_WHILL様_FIX.docx',\n",
       " '/Users/nita/Desktop/TJDOCS/GreenEnergy & Company/GreenEnergy & Company_MOM.docx',\n",
       " '/Users/nita/Desktop/TJDOCS/LocationMind/LocationMind_MOM.docx',\n",
       " '/Users/nita/Desktop/TJDOCS/LocationMind/Job/contract/20230303_JOB契約書_LocationMind_v20230303.docx',\n",
       " '/Users/nita/Desktop/TJDOCS/Retail AI/Retail AI__MOM.docx',\n",
       " '/Users/nita/Desktop/TJDOCS/Retail AI/Job/contract/20220127_JOB契約書_RetailAI_FIX.docx',\n",
       " '/Users/nita/Desktop/TJDOCS/Retail AI/Retail AI X/contract/20230406_秘密保持契約書-株式会社Retail AI X様-FIX.docx',\n",
       " '/Users/nita/Desktop/TJDOCS/Retail AI/Retail AI X/contract/20230406_Job契約書-株式会社Retail AI X様-FIX.docx',\n",
       " '/Users/nita/Desktop/TJDOCS/Retail AI/Hub/24卒サマーインターンシップ/offerletter/20230315_Retail AI_Backend_Internship Offer Letter_template.docx',\n",
       " '/Users/nita/Desktop/TJDOCS/Retail AI/Hub/24卒サマーインターンシップ/offerletter/20230315_Retail AI_Data Scientist_Internship Offer Letter_template.docx',\n",
       " '/Users/nita/Desktop/TJDOCS/Retail AI/Hub/24卒サマーインターンシップ/Refrection/Retail AI, Mayoor Vora Paliwal.docx',\n",
       " '/Users/nita/Desktop/TJDOCS/Retail AI/Hub/24卒サマーインターンシップ/Refrection/Retail AI, Arijit Sen.docx',\n",
       " '/Users/nita/Desktop/TJDOCS/Retail AI/Hub/23卒サマーインターンシップ/オファーレター・NDA関連/NDA_internship English Retail AI JP.docx',\n",
       " '/Users/nita/Desktop/TJDOCS/Retail AI/Hub/23卒サマーインターンシップ/業務委託契約書/old/Gowtham_230816_Membership Service Agreement signed.docx',\n",
       " '/Users/nita/Desktop/TJDOCS/Retail AI/Hub/23卒サマーインターンシップ/日本語教育関連/2023卒_Retail AI_内定者日本語教育.docx',\n",
       " '/Users/nita/Desktop/TJDOCS/Retail AI/Hub/contract/20230404_Hub契約書_RetailAI社_FIX.docx',\n",
       " '/Users/nita/Desktop/TJDOCS/Mitsuba／光翼／ミツバ/Mitsuba_MOM.docx',\n",
       " '/Users/nita/Desktop/TJDOCS/TOKAI ELECTRONICS／東海エレクトロニクス/TOKAI ELECTRONICS_MOM.docx',\n",
       " '/Users/nita/Desktop/TJDOCS/Autify／オーティファイ/Autify_MOM.docx',\n",
       " '/Users/nita/Desktop/TJDOCS/Autify／オーティファイ/Lab/contract/20231212_LAB業務委託_準委任個別契約書_Autify.docx',\n",
       " '/Users/nita/Desktop/TJDOCS/Autify／オーティファイ/Lab/contract/20231212_LAB業務委託_準委任基本契約書_Autify.docx',\n",
       " '/Users/nita/Desktop/TJDOCS/Autify／オーティファイ/Lab/contract/20231212_Tech Japan Lab_Scope of Work_Autify.docx',\n",
       " '/Users/nita/Desktop/TJDOCS/Autify／オーティファイ/Lab/mask rageme/20240502送付_QAプレミアムサービスLab案件/Akshay Dohe_履歴書.docx',\n",
       " '/Users/nita/Desktop/TJDOCS/Autify／オーティファイ/Lab/mask rageme/20240502送付_QAプレミアムサービスLab案件/Akshay Dohe_職務経歴書.docx',\n",
       " '/Users/nita/Desktop/TJDOCS/NTT docomo／NTTドコモ/NTT docomo_MOM.docx',\n",
       " '/Users/nita/Desktop/TJDOCS/YMIRLINK／ユミルリンク/YMIRLINK_MOM.docx',\n",
       " '/Users/nita/Desktop/TJDOCS/pocket change／ポケットチェンジ\\u3000旧：COIL/pocket change_MOM.docx',\n",
       " '/Users/nita/Desktop/TJDOCS/pocket change／ポケットチェンジ\\u3000旧：COIL/Job/contract/人材紹介契約書_株式会社ポケットチェンジ様.docx',\n",
       " '/Users/nita/Desktop/TJDOCS/Gulfnet／株式会社ガルフネット/Gulfnet_MOM.docx',\n",
       " '/Users/nita/Desktop/TJDOCS/Gulfnet／株式会社ガルフネット/Job/contract/Recruitment Service Agreement for Singapore_Gulfnet.docx',\n",
       " '/Users/nita/Desktop/TJDOCS/Gulfnet／株式会社ガルフネット/Job/contract/Gulfnet様_日本法人用job契約書.docx',\n",
       " '/Users/nita/Desktop/TJDOCS/NIHON KODEN／日本光電工業/日本光電_MOM.docx',\n",
       " '/Users/nita/Desktop/TJDOCS/AIOI SYSTEMS CO.,LTD./AIOI SYSTEMS_MOM.docx',\n",
       " '/Users/nita/Desktop/TJDOCS/Intralink／イントラリンク/Intralink.docx',\n",
       " '/Users/nita/Desktop/TJDOCS/Intralink／イントラリンク/Job/Contract/20240304_JOB 契約書_Intralink_TJ0319.docx',\n",
       " '/Users/nita/Desktop/TJDOCS/MAYEKAWA MFG／前川製作所/MAYEKAWA MFG／前川製作所_MOM.docx',\n",
       " '/Users/nita/Desktop/TJDOCS/Pittan/Pittan_MOM.docx',\n",
       " '/Users/nita/Desktop/TJDOCS/ETHOS AI／エートスAI/ETHOS AI／エートスAI_MOM.docx',\n",
       " '/Users/nita/Desktop/TJDOCS/SHIFT/SHIFT_MOM.docx',\n",
       " '/Users/nita/Desktop/TJDOCS/SHIFT/Job/contract/人材紹介契約書_SHIFT様.docx',\n",
       " '/Users/nita/Desktop/TJDOCS/UPSIDER/UPSIDER_MOM.docx',\n",
       " '/Users/nita/Desktop/TJDOCS/ヴァンテージマネジメント/ヴァンテージマネジメント_MOM.docx',\n",
       " '/Users/nita/Desktop/TJDOCS/Korea Deep Learning/Korea Deep Learning_MOM.docx',\n",
       " '/Users/nita/Desktop/TJDOCS/Korea Deep Learning/Hub/Korea Deep Learning Talendy Agreement Draft.docx',\n",
       " '/Users/nita/Desktop/TJDOCS/HowTelevision／ハウテレビジョン/HowTelevision_MOM.docx',\n",
       " '/Users/nita/Desktop/TJDOCS/HowTelevision／ハウテレビジョン/Alliance/contract/締結途中の保存ファイル/20240508_業務提携契約書_ハウテレビジョン-Tech Japan_v0508_HTV0528_TJ0605.docx',\n",
       " '/Users/nita/Desktop/TJDOCS/HowTelevision／ハウテレビジョン/Alliance/contract/締結途中の保存ファイル/20240508_業務提携契約書_ハウテレビジョン-Tech Japan_v0508_HTV0528_TJ0605_FIX.docx',\n",
       " '/Users/nita/Desktop/TJDOCS/HowTelevision／ハウテレビジョン/Alliance/contract/締結途中の保存ファイル/20240607_業務提携契約書_ハウテレビジョン-Tech Japan_FIX.docx',\n",
       " '/Users/nita/Desktop/TJDOCS/TriOrb／トライオーブ/TriOrb_MOM.docx',\n",
       " '/Users/nita/Desktop/TJDOCS/TriOrb／トライオーブ/Hub/contract/20230629_Hub契約書_TriOrb_FIX.docx',\n",
       " '/Users/nita/Desktop/TJDOCS/TriOrb／トライオーブ/Hub/NDA/20230704_Non-Disclosure Agreement_TriOrb_en.docx',\n",
       " '/Users/nita/Desktop/TJDOCS/NORITAKE CO., LIMITED／ノリタケカンパニーリミテド/NORITAKE_MOM.docx',\n",
       " '/Users/nita/Desktop/TJDOCS/Liiga/Hub/Liiga様_Tech Japan Hub契約書.docx',\n",
       " '/Users/nita/Desktop/TJDOCS/Liiga/Hub/ボツ_業務提携契約書雛形_TechJapan.docx',\n",
       " '/Users/nita/Desktop/TJDOCS/New Innovations／ニューイノベーションズ/New Innovations _MOM.docx',\n",
       " '/Users/nita/Desktop/TJDOCS/New Innovations／ニューイノベーションズ/Job/contract/20230515_JOB契約書_New Innovations社_v0515.docx',\n",
       " '/Users/nita/Desktop/TJDOCS/Cybercore／サイバーコア/Cybercore／サイバーコア_MOM.docx',\n",
       " '/Users/nita/Desktop/TJDOCS/D-Standing/D-Standing_議事録.docx',\n",
       " '/Users/nita/Desktop/TJDOCS/Light&Hope/Light&Hope_MOM.docx',\n",
       " '/Users/nita/Desktop/TJDOCS/Spiral/Spiral_MOM.docx',\n",
       " '/Users/nita/Desktop/TJDOCS/Fermelanta／ファーメランタ/Fermelanta／ファーメランタ_MOM.docx',\n",
       " '/Users/nita/Desktop/TJDOCS/Geek Out/GeekOut_MOM.docx',\n",
       " '/Users/nita/Desktop/TJDOCS/International Systems Development Co.,Ltd.／国際システム/International Systems Development_MOM.docx',\n",
       " '/Users/nita/Desktop/TJDOCS/パーサヴィアランステック/パーサヴィアランステック_MOM.docx',\n",
       " '/Users/nita/Desktop/TJDOCS/QualiTech／クオリテック/QualiTech_MOM.docx',\n",
       " '/Users/nita/Desktop/TJDOCS/Astellas Pharma／アステラス製薬/Astellas Pharma／アステラス製薬_議事録.docx',\n",
       " '/Users/nita/Desktop/TJDOCS/Astellas Pharma／アステラス製薬/Job/referee CV/20221219_Shivani Dixit／Hiura/Shivani Dixit_概要.docx',\n",
       " '/Users/nita/Desktop/TJDOCS/Astellas Pharma／アステラス製薬/Job/referee CV/20221219_Phebee Angeline D R／Hiura/Phebee Angeline D R_概要.docx',\n",
       " '/Users/nita/Desktop/TJDOCS/AirTrip／エアトリ/AirTrip／エアトリ_MOM.docx',\n",
       " '/Users/nita/Desktop/TJDOCS/Secom/セコム.docx',\n",
       " '/Users/nita/Desktop/TJDOCS/TAIYO INFORMATION CORP.／太陽情報株式会社/TAIYO INFORMATION CORP._MOM.docx',\n",
       " '/Users/nita/Desktop/TJDOCS/Sales Marker/Sales Marker _MOM.docx',\n",
       " '/Users/nita/Desktop/TJDOCS/Sales Marker/Alliance/02_コール代行サービス/営業代行リスト運用_TechJapan営業サイド.docx',\n",
       " '/Users/nita/Desktop/TJDOCS/Sales Marker/Job/contract/締結途中の保存ファイル/20240611_JOB契約書_Sales Marker_TJ0617_TJ0619.docx',\n",
       " '/Users/nita/Desktop/TJDOCS/Sales Marker/Job/contract/締結途中の保存ファイル/20240611_JOB契約書_Sales Marker_FIX.docx',\n",
       " '/Users/nita/Desktop/TJDOCS/Sales Marker/Job/contract/締結途中の保存ファイル/20240522_JOB契約書_Sales Marker-Tech Japan_TJ0522.docx',\n",
       " '/Users/nita/Desktop/TJDOCS/Sales Marker/Job/contract/締結途中の保存ファイル/20240611_JOB契約書_Sales Marker_TJ0617.docx',\n",
       " '/Users/nita/Desktop/TJDOCS/VLC HOLDINGS／バルクホールディングス/VLC HOLDINGS_MOM.docx',\n",
       " '/Users/nita/Desktop/TJDOCS/Woven Planet Holdings／ウーブン・プラネット・ホールディングス/Woven Planet Holdings／ウーブン・プラネット・ホールディングス_MOM.docx',\n",
       " '/Users/nita/Desktop/TJDOCS/Woven Planet Holdings／ウーブン・プラネット・ホールディングス/Job/Contract/20230328人材紹介契約書_ウーブン・プラネット・ホールディングス様.docx',\n",
       " '/Users/nita/Desktop/TJDOCS/Woven Planet Holdings／ウーブン・プラネット・ホールディングス/Job/Contract/人材紹介契約書_覚書_ウーブン・プラネット・ホールディングス様_draft.docx',\n",
       " '/Users/nita/Desktop/TJDOCS/Prime Strategy／プライム・ストラテジー/Prime Strategy_MOM.docx',\n",
       " '/Users/nita/Desktop/TJDOCS/aucfan／オークファン/オークファン_議事録.docx',\n",
       " '/Users/nita/Desktop/TJDOCS/Allgrow／オルグロー/Allgrow_MOM.docx',\n",
       " '/Users/nita/Desktop/TJDOCS/Hupodea／ヒューポディア/Hupodea／ヒューポディア_MOM.docx',\n",
       " '/Users/nita/Desktop/TJDOCS/Mujin/Mujin_議事録.docx',\n",
       " '/Users/nita/Desktop/TJDOCS/Tangerine/Tangerine_MOM.docx',\n",
       " '/Users/nita/Desktop/TJDOCS/DXHR/DXHR_MOM.docx',\n",
       " '/Users/nita/Desktop/TJDOCS/Beyond Next Ventures/Job/Contracts/人材紹介契約書_Beyond Next Ventures様.docx',\n",
       " '/Users/nita/Desktop/TJDOCS/柄沢さん/Naoyuki Karasawa(JP).docx',\n",
       " '/Users/nita/Desktop/TJDOCS/Ziku tech／時空テクノロジーズ/Hub/contract/インド IT・デジタル⼈材特化型総合プラットフォーム利用契約書2022時空テクノロジーズ様.docx',\n",
       " '/Users/nita/Desktop/TJDOCS/Aisin／株式会社アイシン/AISIN_MOM.docx',\n",
       " '/Users/nita/Desktop/TJDOCS/Aisin／株式会社アイシン/Job/アイシン様_Tech Japan_人材紹介契約書.docx',\n",
       " '/Users/nita/Desktop/TJDOCS/MetaLogos/MetaLogos_MOM.docx',\n",
       " '/Users/nita/Desktop/TJDOCS/NIHON PLAST／日本プラスト/NIHON PLAST_MOM.docx',\n",
       " '/Users/nita/Desktop/TJDOCS/Japan Association of New Economy_JANE／新経済連盟/新経済連盟_MOM.docx',\n",
       " '/Users/nita/Desktop/TJDOCS/Daiwa Securities／大和証券/大和証券_MOM.docx',\n",
       " '/Users/nita/Desktop/TJDOCS/SUMITOMO FORESTRY／住友林業/SUMITOMO FORESTRY_MOM.docx',\n",
       " '/Users/nita/Desktop/TJDOCS/飯塚零／PREISM/飯塚零／PREISM_MOM.docx',\n",
       " '/Users/nita/Desktop/TJDOCS/飯塚零／PREISM/Alliance/contract/20240329_業務提携契約書_営業代行支援_飯塚零_TJ0329.docx',\n",
       " '/Users/nita/Desktop/TJDOCS/Space quarters/Space quarters_MOM.docx',\n",
       " '/Users/nita/Desktop/TJDOCS/Space quarters/Job/contract/20240208_JOB契約書_Space quarters_v0208.docx',\n",
       " '/Users/nita/Desktop/TJDOCS/Space quarters/Hub/JD.docx',\n",
       " '/Users/nita/Desktop/TJDOCS/Space quarters/Hub/contract/20240208_Hub契約書_Space quarters_v0208.docx',\n",
       " '/Users/nita/Desktop/TJDOCS/Amit Ranjan/業務提携契約書_Amit Ranjan_in JPN_Final.docx',\n",
       " '/Users/nita/Desktop/TJDOCS/Amit Ranjan/Business Partnership Agreement with Amit san English Final.docx',\n",
       " '/Users/nita/Desktop/TJDOCS/Amit Ranjan/Business Partnership Agreement with Amit san Draft in English.docx',\n",
       " '/Users/nita/Desktop/TJDOCS/Amit Ranjan/業務提携契約書_Amit Ranjan_in JPN.docx',\n",
       " '/Users/nita/Desktop/TJDOCS/Amit Ranjan/Business Partnership Agreement with Amit san Draft in English_reviewed.docx',\n",
       " '/Users/nita/Desktop/TJDOCS/Amit Ranjan/業務提携契約書_Amit Ranjan_in JPN_Reviewed.docx',\n",
       " '/Users/nita/Desktop/TJDOCS/AIOI Systems／アイオイ・システム/AIOI Systems_MOM.docx',\n",
       " '/Users/nita/Desktop/TJDOCS/WAmazing/Wamazing_MOM.docx',\n",
       " '/Users/nita/Desktop/TJDOCS/WAmazing/Job/contract/20220405_JOB契約書_ WAmazing_FIX.docx',\n",
       " '/Users/nita/Desktop/TJDOCS/Deepcraft/Deepcraft_MOM.docx',\n",
       " '/Users/nita/Desktop/TJDOCS/Pksha Technology/Job/contract/20200608_JOB契約書_PKSHA_Technology_FIX.docx',\n",
       " '/Users/nita/Desktop/TJDOCS/日研トータルソーシング/日研トータルソーシング_MOM.docx',\n",
       " '/Users/nita/Desktop/TJDOCS/Back Tech／バックテック/Bach Tech_MOM.docx',\n",
       " '/Users/nita/Desktop/TJDOCS/Hitachi／日立製作所/日立製作所_議事録.docx',\n",
       " '/Users/nita/Desktop/TJDOCS/Naitei Bridge／内定ブリッジ/内定ブリッジ_議事録.docx',\n",
       " '/Users/nita/Desktop/TJDOCS/Naitei Bridge／内定ブリッジ/Alliance・Vender/20231218日本語学習状況報告.docx',\n",
       " '/Users/nita/Desktop/TJDOCS/Naitei Bridge／内定ブリッジ/Alliance・Vender/20230529_日本語教育プランニング_内定ブリッジ×Tech Japan.docx',\n",
       " '/Users/nita/Desktop/TJDOCS/Naitei Bridge／内定ブリッジ/Alliance・Vender/contract/230816【内定ブリッジ-Tech Japan】業務提携契約書_final.docx',\n",
       " '/Users/nita/Desktop/TJDOCS/Naitei Bridge／内定ブリッジ/Alliance・Vender/contract/old/【Tech Japan株式会社様】業務提携契約書_ドラフト.docx',\n",
       " '/Users/nita/Desktop/TJDOCS/Naitei Bridge／内定ブリッジ/Alliance・Vender/サービス情報/20230814_eラーニング利用契約書_企業と内定ブリッジ締結_v0814.docx',\n",
       " '/Users/nita/Desktop/TJDOCS/Nissin FULFIL Co., Ltd／日進フルフィル/Nissin FULFIL_MOM.docx',\n",
       " '/Users/nita/Desktop/TJDOCS/Nissin FULFIL Co., Ltd／日進フルフィル/Hub/Contract/日進FULFIL様_Hub契約書.docx',\n",
       " '/Users/nita/Desktop/TJDOCS/Nissin FULFIL Co., Ltd／日進フルフィル/Hub/Offer Letter＆NDA/240603_NDA_Nissin FULFIL Co., Ltd._internship_EN (1).docx',\n",
       " '/Users/nita/Desktop/TJDOCS/Nissin FULFIL Co., Ltd／日進フルフィル/Hub/Offer Letter＆NDA/2024_Nissin FULFIL Co., Ltd._Internship Offer Letter_template .docx',\n",
       " '/Users/nita/Desktop/TJDOCS/Nissin FULFIL Co., Ltd／日進フルフィル/Hub/Offer Letter＆NDA/20240603_秘密保持契約書_template_jp (4).docx',\n",
       " '/Users/nita/Desktop/TJDOCS/OCS/OCS_MOM.docx',\n",
       " '/Users/nita/Desktop/TJDOCS/OCS/Lab/OCS様_LAB業務委託_準委任基本契約書.docx',\n",
       " '/Users/nita/Desktop/TJDOCS/OCS/Lab/OCS様_LAB業務委託_準委任個別契約書.docx',\n",
       " '/Users/nita/Desktop/TJDOCS/UpNext/UpNext__MOM.docx',\n",
       " '/Users/nita/Desktop/TJDOCS/TOKYU HOTELS／東急ホテルズ/TOKYU HOTELS_MOM.docx',\n",
       " '/Users/nita/Desktop/TJDOCS/ITSO/ITSO_MOM.docx',\n",
       " '/Users/nita/Desktop/TJDOCS/ITSO/Hub/Contract/ITSO様_Hub契約書(Final_Clean).docx',\n",
       " '/Users/nita/Desktop/TJDOCS/ITSO/Hub/Contract/ITSO様_Hub契約書.docx',\n",
       " '/Users/nita/Desktop/TJDOCS/ITSO/Hub/Contract/署名者追記済ITSO様_Hub契約書.docx',\n",
       " '/Users/nita/Desktop/TJDOCS/dely/dely_MOM.docx',\n",
       " '/Users/nita/Desktop/TJDOCS/dely/Job/contract/20220603_JOB契約書_dely_FIX.docx',\n",
       " '/Users/nita/Desktop/TJDOCS/TOKYO GAS／東京ガス/TOKYO GAS_MOM.docx',\n",
       " '/Users/nita/Desktop/TJDOCS/TOKYO GAS／東京ガス/JOB/東京ガス様_人材紹介契約書_TG確認.docx',\n",
       " '/Users/nita/Desktop/TJDOCS/TOKYO GAS／東京ガス/JOB/東京ガス様_人材紹介契約書.docx',\n",
       " '/Users/nita/Desktop/TJDOCS/TOKYO GAS／東京ガス/JOB/Final_東京ガス様_人材紹介契約書.docx',\n",
       " '/Users/nita/Desktop/TJDOCS/TOKYO GAS／東京ガス/JOB/0627_東京ガス様_人材紹介契約書 TJ確認済.docx',\n",
       " '/Users/nita/Desktop/TJDOCS/TOKYO GAS／東京ガス/JOB/0627_東京ガス様_人材紹介契約書.docx',\n",
       " '/Users/nita/Desktop/TJDOCS/GRINDA/GRINDA_MOM.docx',\n",
       " '/Users/nita/Desktop/TJDOCS/GRINDA/Hub/GRINDA_Tech Japan Hub Agreement.docx',\n",
       " '/Users/nita/Desktop/TJDOCS/Ekitan／駅探/Ekitan_MOM.docx',\n",
       " '/Users/nita/Desktop/TJDOCS/Ashisuto／株式会社アシスト/Asisuto_MOM.docx',\n",
       " '/Users/nita/Desktop/TJDOCS/Ubie／ユビー/Ubie／ユビー_議事録.docx',\n",
       " '/Users/nita/Desktop/TJDOCS/Ubie／ユビー/Job/contract/20240202_人材紹介契約書_Ubie-Tech Japan_vTJ0202.docx',\n",
       " '/Users/nita/Desktop/TJDOCS/Ubie／ユビー/Job/contract/20240202_人材紹介契約書_Ubie-Tech Japan_vTJ0206_FIX.docx',\n",
       " '/Users/nita/Desktop/TJDOCS/Ubie／ユビー/Job/contract/20240104_人材紹介契約書_先方ひな型_Tech Japan＜＞Ubie_20230501_雛形ver.1.6.docx',\n",
       " '/Users/nita/Desktop/TJDOCS/ACTUAL／アクチュアル/ACTUAL_MOM.docx',\n",
       " '/Users/nita/Desktop/TJDOCS/ACTUAL／アクチュアル/HUB/Offer Letter &NDA/2024_ACTUAL Inc._Autumn internship Offer Letter_template.docx',\n",
       " '/Users/nita/Desktop/TJDOCS/ACTUAL／アクチュアル/HUB/Contract/ACTUAL様_Tech Japan Hub契約書.docx',\n",
       " '/Users/nita/Desktop/TJDOCS/Nippon Dynamic Systems／ニッポンダイナミックシステムズ/Nippon Dynamic Systems_MOM.docx',\n",
       " '/Users/nita/Desktop/TJDOCS/ASTO System/ASTO System_MOM.docx',\n",
       " '/Users/nita/Desktop/TJDOCS/Kawasaki Railway Manufacturing Co., Ltd.／川崎車両/Kawasaki Railway Manufacturing_MOM.docx',\n",
       " '/Users/nita/Desktop/TJDOCS/Dioptra/Dioptra_MOM.docx',\n",
       " '/Users/nita/Desktop/TJDOCS/AICHI STEEL／愛知製鋼株式会社/AICHI STEEL_MOM (1).docx',\n",
       " '/Users/nita/Desktop/TJDOCS/AICHI STEEL／愛知製鋼株式会社/AICHI STEEL_MOM.docx',\n",
       " '/Users/nita/Desktop/TJDOCS/AICHI STEEL／愛知製鋼株式会社/JOB/Contract/2023.11.17JOB契約書_愛知製鋼.docx',\n",
       " '/Users/nita/Desktop/TJDOCS/AICHI STEEL／愛知製鋼株式会社/JOB/Contract/20231130_JOB契約書_愛知製鋼様 Final.docx',\n",
       " '/Users/nita/Desktop/TJDOCS/AICHI STEEL／愛知製鋼株式会社/JOB/Contract/20231018_JOB契約書_愛知製鋼様.docx',\n",
       " '/Users/nita/Desktop/TJDOCS/Yamada＆Partners／山田＆パートナーズ/Y&P_MOM.docx',\n",
       " '/Users/nita/Desktop/TJDOCS/SHION（アポタス）/SHION__MOM.docx',\n",
       " '/Users/nita/Desktop/TJDOCS/Finatext Holdings／Finatextホールディングス/Finatextホールディングス_MOM.docx',\n",
       " '/Users/nita/Desktop/TJDOCS/Finatext Holdings／Finatextホールディングス/Job/contract/人材紹介契約書_Finatext様.docx',\n",
       " '/Users/nita/Desktop/TJDOCS/M-DAQ／エムダックジャパン/M-DAQ_MOM.docx',\n",
       " '/Users/nita/Desktop/TJDOCS/M-DAQ／エムダックジャパン/Hub/contract/20230804_draft_Hub User agreement_M-DAQ.docx',\n",
       " '/Users/nita/Desktop/TJDOCS/STREET SMART/STREET SMART_MOM.docx',\n",
       " '/Users/nita/Desktop/TJDOCS/Fast Retailing／ファーストリテイリング/Fast Retailing_MOM.docx',\n",
       " '/Users/nita/Desktop/TJDOCS/TeckMatrix／テクマトリックス/TechMatrix_MOM.docx',\n",
       " '/Users/nita/Desktop/TJDOCS/TeckMatrix／テクマトリックス/Job/contract/20240109_JOB契約書_v1219_0109TMX追記_0109TJ確認済_0109FIX.docx',\n",
       " '/Users/nita/Desktop/TJDOCS/TeckMatrix／テクマトリックス/Hub/contract/20231215_Hub契約書_JP_TechMatrix_v0112_0115TJ確認・追記.docx',\n",
       " '/Users/nita/Desktop/TJDOCS/TeckMatrix／テクマトリックス/Hub/contract/20231215_Hub契約書_JP_TechMatrix_v1215.docx',\n",
       " '/Users/nita/Desktop/TJDOCS/TeckMatrix／テクマトリックス/Hub/contract/20231215_Hub契約書_JP_TechMatrix_FIX.docx',\n",
       " '/Users/nita/Desktop/TJDOCS/TeckMatrix／テクマトリックス/Hub/contract/20231215_Hub契約書_JP_TechMatrix_v0112.docx',\n",
       " '/Users/nita/Desktop/TJDOCS/NAKAKITA SEISAKUSHO／中北製作所/Nakakita Seisakusho_MOM.docx',\n",
       " '/Users/nita/Desktop/TJDOCS/NAKAKITA SEISAKUSHO／中北製作所/Job/Contract/中北製作所様_Tech Japan JOB契約書.docx',\n",
       " '/Users/nita/Desktop/TJDOCS/NAKAKITA SEISAKUSHO／中北製作所/Hub/Contract/中北製作所様_Tech Japan Hub契約書.docx',\n",
       " '/Users/nita/Desktop/TJDOCS/NAKAKITA SEISAKUSHO／中北製作所/Hub/Offer Letter＆NDA/20240529_Nakakita Seisakusho Co., Ltd_Offer Letter_Software Engineer.docx',\n",
       " '/Users/nita/Desktop/TJDOCS/NAKAKITA SEISAKUSHO／中北製作所/Hub/Offer Letter＆NDA/240514_NDA_Nakakita Seisakusho Co., Ltd_internship_EN (1).docx',\n",
       " '/Users/nita/Desktop/TJDOCS/Veritus/Veritus_MOM.docx',\n",
       " '/Users/nita/Desktop/TJDOCS/Veritus/Lab/LAB業務委託_準委任基本契約書.docx',\n",
       " '/Users/nita/Desktop/TJDOCS/Veritus/Lab/Final_LAB業務委託_準委任個別契約書.docx',\n",
       " '/Users/nita/Desktop/TJDOCS/Veritus/Lab/LAB業務委託_準委任個別契約書.docx',\n",
       " '/Users/nita/Desktop/TJDOCS/Veritus/Lab/0510_LAB業務委託_準委任個別契約書.docx',\n",
       " '/Users/nita/Desktop/TJDOCS/Veritus/Lab/Final_LAB業務委託_準委任基本契約書.docx',\n",
       " '/Users/nita/Desktop/TJDOCS/Veritus/Lab/0509_LAB業務委託_準委任基本契約書.docx',\n",
       " '/Users/nita/Desktop/TJDOCS/Veritus/Job/Recruitment Service Agreement draft_eng.docx',\n",
       " '/Users/nita/Desktop/TJDOCS/Veritus/Hub/Contract/Veritus_Tech Japan Hub Agreement Draft.docx',\n",
       " '/Users/nita/Desktop/TJDOCS/Murakami Co., Ltd／ムラカミ/ムラカミ__MOM.docx',\n",
       " '/Users/nita/Desktop/TJDOCS/FOVE/FOVE_MOM.docx',\n",
       " '/Users/nita/Desktop/TJDOCS/newmo:ニューモ/newmo _MOM.docx',\n",
       " '/Users/nita/Desktop/TJDOCS/F.MED/F.MED.docx',\n",
       " '/Users/nita/Desktop/TJDOCS/F.MED/Job/contract/20230329_JOB契約書_F .MED社_v0329.docx',\n",
       " '/Users/nita/Desktop/TJDOCS/Kiyo Bank／紀陽銀行/Kiyo Bank_MOM.docx',\n",
       " '/Users/nita/Desktop/TJDOCS/Cocone／ココネ/Cocone_MOM.docx',\n",
       " '/Users/nita/Desktop/TJDOCS/Cocone／ココネ/Job/contract/20230721_JOB契約書_cocone_FIX.docx',\n",
       " '/Users/nita/Desktop/TJDOCS/FURUNO SYSTEMS／フルノシステムズ/フルノシステムズ／FURUNO SYSTEMS_MOM.docx',\n",
       " '/Users/nita/Desktop/TJDOCS/FURUNO SYSTEMS／フルノシステムズ/Job/contract/20230310_JOB契約書_フルノシステムズ_v0310.docx',\n",
       " '/Users/nita/Desktop/TJDOCS/Greenphard Energy/Greenphard Energy_MOM.docx',\n",
       " '/Users/nita/Desktop/TJDOCS/Greenphard Energy/Hub/contract/Greenphard Energy様_Hub契約書.docx',\n",
       " '/Users/nita/Desktop/TJDOCS/Global Mobility Service/GMS_MOM.docx',\n",
       " '/Users/nita/Desktop/TJDOCS/Global Mobility Service/Hub/GMS様_Hub契約書.docx',\n",
       " '/Users/nita/Desktop/TJDOCS/NTT DATA INSTITUTE OF MANAGEMENT CONSULTING／NTTデータ経営研究所/NTTデータ経営研究所_MOM.docx',\n",
       " '/Users/nita/Desktop/TJDOCS/Ashirase/Ashirase_議事録.docx',\n",
       " '/Users/nita/Desktop/TJDOCS/J Trust ／Jトラスト（グループ）/J Trust group_MOM.docx',\n",
       " '/Users/nita/Desktop/TJDOCS/J Trust ／Jトラスト（グループ）/Jトラスト/JOB/contract/20230501_JOB契約書_Jトラスト社_v1.docx',\n",
       " '/Users/nita/Desktop/TJDOCS/J Trust ／Jトラスト（グループ）/J Sync/Job/contract/20230712_JOB契約書_J Sync社_v1.docx',\n",
       " '/Users/nita/Desktop/TJDOCS/J Trust ／Jトラスト（グループ）/J Sync/Job/contract/20230501_JOB契約書_J Sync社_v1.docx',\n",
       " '/Users/nita/Desktop/TJDOCS/JNA／ジャパニアス/ジャパニアス_MOM.docx',\n",
       " '/Users/nita/Desktop/TJDOCS/The Shizuoka Bank／静岡銀行/The Shizuoka Bank／静岡銀行_MOM.docx',\n",
       " '/Users/nita/Desktop/TJDOCS/Tabist/Tabist_MOM.docx',\n",
       " '/Users/nita/Desktop/TJDOCS/Tabist/Statement for Tabist.docx',\n",
       " '/Users/nita/Desktop/TJDOCS/Tabist/Hub/contract/20231124_Hub契約書_JP_tabist_FIX.docx',\n",
       " '/Users/nita/Desktop/TJDOCS/Tabist/Hub/25SI/NDA_Tabist_internship_EN_Reviewed KY.docx',\n",
       " '/Users/nita/Desktop/TJDOCS/Tabist/Hub/25SI/240311_Tabist_Internship Offer Letter_Sample_Reviewed KY.docx',\n",
       " '/Users/nita/Desktop/TJDOCS/connectone.design/connectone.design_議事録.docx',\n",
       " '/Users/nita/Desktop/TJDOCS/connectone.design/Hub/contract/20221122_Hub契約書_connectome.design様_FIX.docx',\n",
       " '/Users/nita/Desktop/TJDOCS/connectone.design/Hub/24サマーインターンシップ/20230119_AI Engineer_JD_v1.docx',\n",
       " '/Users/nita/Desktop/TJDOCS/connectone.design/Hub/24サマーインターンシップ/20230222_Internship Offer Letter_Piyush Sharma_connectome.design.docx',\n",
       " '/Users/nita/Desktop/TJDOCS/connectone.design/Hub/24サマーインターンシップ/01_offer letter/20230224_connectome.design_Internship Offer Letter_Piyush Sharma.docx',\n",
       " '/Users/nita/Desktop/TJDOCS/TOA/TOA_MOM.docx',\n",
       " '/Users/nita/Desktop/TJDOCS/PS Construction／ピーエス・コンストラクション/PS Construction／ピーエス・コンストラクション_MOM.docx',\n",
       " '/Users/nita/Desktop/TJDOCS/CMC CORPORATION・CMC Solutions／シイエム・シイ/CMC_MOM.docx',\n",
       " '/Users/nita/Desktop/TJDOCS/CMC CORPORATION・CMC Solutions／シイエム・シイ/HUB/contract/20240228_Hub契約書_CMC Solutions_TJ0228.docx',\n",
       " '/Users/nita/Desktop/TJDOCS/CMC CORPORATION・CMC Solutions／シイエム・シイ/HUB/contract/20240228_Hub契約書_CMC Solutions_FIX.docx',\n",
       " '/Users/nita/Desktop/TJDOCS/CMC CORPORATION・CMC Solutions／シイエム・シイ/HUB/contract/20240228_Hub契約書_CMC Solutions_TJ0228_TJ0307.docx',\n",
       " '/Users/nita/Desktop/TJDOCS/Paidy／ペイディ/Paidy_MOM.docx',\n",
       " '/Users/nita/Desktop/TJDOCS/Paidy／ペイディ/Job/contract/20230320_Recruitment Service Agreement_Paidy_ENG&JP.docx',\n",
       " '/Users/nita/Desktop/TJDOCS/TAISEI CORPORATION／大成建設/大成建設_MOM.docx',\n",
       " '/Users/nita/Desktop/TJDOCS/HISAMITSU PHARMACEUTICAL／久光製薬/HISAMITSU PHARMACEUTICAL／久光製薬_MOM.docx',\n",
       " '/Users/nita/Desktop/TJDOCS/Zooba/zooba_MOM.docx',\n",
       " '/Users/nita/Desktop/TJDOCS/Yokohama Port Corporation／横浜港埠頭株式会社/Yokohama Port Corporation_MOM.docx',\n",
       " '/Users/nita/Desktop/TJDOCS/batton/batton_MOM (Yabuoshi Ryota の競合コピー 2024-08-01).docx',\n",
       " '/Users/nita/Desktop/TJDOCS/batton/batton_MOM.docx',\n",
       " '/Users/nita/Desktop/TJDOCS/batton/Job/contract/20230526_JOB契約書_batton社_v0526.docx',\n",
       " '/Users/nita/Desktop/TJDOCS/batton/Hub/contract/20230516_Hub契約書_batton_FIX.docx',\n",
       " '/Users/nita/Desktop/TJDOCS/batton/Hub/24卒SI/記事取材/231016_先方OK_最終版_記事取材_事例インタビュー_株式会社batton様 .docx',\n",
       " '/Users/nita/Desktop/TJDOCS/batton/Hub/24卒SI/記事取材/【ご確認依頼】記事取材_事例インタビュー_株式会社batton様 .docx',\n",
       " '/Users/nita/Desktop/TJDOCS/batton/Hub/24卒SI/記事取材/事例インタビュー_株式会社batton様.docx',\n",
       " '/Users/nita/Desktop/TJDOCS/AGC/AGC_MOM.docx',\n",
       " '/Users/nita/Desktop/TJDOCS/AGC/Lab/contract/20230914_LAB業務委託_準委任個別契約書__JP_AGC様.docx',\n",
       " '/Users/nita/Desktop/TJDOCS/AGC/Lab/contract/20230914_LAB業務委託_準委任基本契約書_JP_AGC様.docx',\n",
       " '/Users/nita/Desktop/TJDOCS/AGC/Teams不具合関連ファイル/添付テストファイル.docx',\n",
       " '/Users/nita/Desktop/TJDOCS/AGC/Interview/20240520_AGCインタビュー記事_TJ0521_AGC0808_TJ0815_TJ0828_TJ0902_TJ英訳0909.docx',\n",
       " '/Users/nita/Desktop/TJDOCS/AGC/Interview/20240416_取材依頼書_インド学生に向けたAGC社ブランディング記事_AGC社_FIX.docx',\n",
       " '/Users/nita/Desktop/TJDOCS/AGC/Interview/20240426_片岡先生取材時メモ_AGCインド学生ブランディング記事.docx',\n",
       " '/Users/nita/Desktop/TJDOCS/AGC/Interview/20240520_AGC取材記事_片岡先生の記事抜粋_v0520.docx',\n",
       " '/Users/nita/Desktop/TJDOCS/AGC/Interview/20240520_AGCインタビュー記事_TJ0521_AGC0808.docx',\n",
       " '/Users/nita/Desktop/TJDOCS/AGC/Interview/20240418_北山様・鈴木様取材時メモ_AGC社インド学生ブランディング記事.docx',\n",
       " '/Users/nita/Desktop/TJDOCS/AGC/Interview/20240520_AGCインタビュー記事_TJ0521_AGC0808_TJ0815修正前.docx',\n",
       " '/Users/nita/Desktop/TJDOCS/AGC/Interview/20240520_AGCインタビュー記事_0517卯岡_0520関さん.docx',\n",
       " '/Users/nita/Desktop/TJDOCS/AGC/Interview/20240315_取材依頼書_AGC社.docx',\n",
       " '/Users/nita/Desktop/TJDOCS/AGC/Interview/20240520_AGCインタビュー記事_TJ0521_AGC0808_TJ0815_20240828卯岡修正_20240902薮押修正.docx',\n",
       " '/Users/nita/Desktop/TJDOCS/AGC/Interview/20240520_AGCインタビュー記事_TJ0521_AGC0808_TJ0815_20240828卯岡修正.docx',\n",
       " '/Users/nita/Desktop/TJDOCS/AGC/Interview/20240509_Pranayさん取材動画リンク.docx',\n",
       " '/Users/nita/Desktop/TJDOCS/AGC/Interview/20240517_AGCインタビュー記事_0517卯岡.docx',\n",
       " '/Users/nita/Desktop/TJDOCS/AGC/Interview/20240520_AGCインタビュー記事_0517卯岡_0520関_0520薮押.docx',\n",
       " '/Users/nita/Desktop/TJDOCS/AGC/Interview/20240520_AGCインタビュー記事_TJ0521初稿.docx',\n",
       " '/Users/nita/Desktop/TJDOCS/AGC/Interview/20240207_取材依頼書_AGC-API_v0207.docx',\n",
       " '/Users/nita/Desktop/TJDOCS/AGC/Job/contract/契約締結途中の保存ファイル/20240422_Job Agreement_AGC-AAPI_FIX.docx',\n",
       " '/Users/nita/Desktop/TJDOCS/AGC/Job/contract/契約締結途中の保存ファイル/20240306_Job Agreement_AGC-AAPI_TJ0306.docx',\n",
       " '/Users/nita/Desktop/TJDOCS/AGC/Job/contract/契約締結途中の保存ファイル/20240306_Job Agreement_AGC-AP_TJ0306_TJ0327_AAPI0328.docx',\n",
       " '/Users/nita/Desktop/TJDOCS/AGC/Job/contract/契約締結途中の保存ファイル/20230828_JOB契約書_AGC-AAPI_v0828.docx',\n",
       " '/Users/nita/Desktop/TJDOCS/AGC/Job/contract/契約締結途中の保存ファイル/20240306_Job Agreement_AGC-AAPI_TJ0306_TJ0327.docx',\n",
       " '/Users/nita/Desktop/TJDOCS/AGC/Hub/contract/20230727_Hub契約書_インドAAPI契約-インドAAPI雇用_v0719_AGC修正.docx',\n",
       " '/Users/nita/Desktop/TJDOCS/AGC/Hub/contract/20230711_Hub契約書_インドAAPI契約-インドAAPI雇用_v0719.docx',\n",
       " '/Users/nita/Desktop/TJDOCS/AGC/Hub/contract/20230711_Hub契約書_AGC社_v711.docx',\n",
       " '/Users/nita/Desktop/TJDOCS/AGC/Hub/contract/20231121_Hub契約書_AGC-AP_v1121.docx',\n",
       " '/Users/nita/Desktop/TJDOCS/AGC/Hub/contract/20230727_Hub契約書_インドAAPI契約-インドAAPI雇用_v0719_AGC修正→TJFIX.docx',\n",
       " '/Users/nita/Desktop/TJDOCS/AGC/Hub/contract/20230711_Hub契約書_シンガポールAAPI契約-シンガポールAAPI雇用_v0719.docx',\n",
       " '/Users/nita/Desktop/TJDOCS/AGC/Hub/contract/20230727_Hub契約書AGC修正→TJ最終確認_FIX.docx',\n",
       " '/Users/nita/Desktop/TJDOCS/AGC/Hub/contract/20231023_覚書_AGC_FIX.docx',\n",
       " '/Users/nita/Desktop/TJDOCS/AGC/Hub/contract/20230711_Hub契約書_AGC契約-シンガポールAAPorインドAAPI_v0719.docx',\n",
       " '/Users/nita/Desktop/TJDOCS/AGC/Hub/Invoice form(eng)/20230930_AGC.docx',\n",
       " '/Users/nita/Desktop/TJDOCS/AGC/Hub/Invoice form(eng)/techjapan_letterhead.docx',\n",
       " '/Users/nita/Desktop/TJDOCS/AGC/Hub/Invoice form(eng)/20240329_AGC.docx',\n",
       " '/Users/nita/Desktop/TJDOCS/AGC/Hub/Invoice form(eng)/Non PE Declaration.docx',\n",
       " '/Users/nita/Desktop/TJDOCS/Instalimb／インスタリム/instalimb_MOM.docx',\n",
       " '/Users/nita/Desktop/TJDOCS/Instalimb／インスタリム/Job/contract/20230914_JOB契約書_Bhavin覚書_Instalimb_FIX.docx',\n",
       " '/Users/nita/Desktop/TJDOCS/Instalimb／インスタリム/Job/contract/20210906_JOB契約書_Instalimb_FIX.docx',\n",
       " '/Users/nita/Desktop/TJDOCS/Instalimb／インスタリム/Hub/contract/インド IT・デジタル⼈材特化型総合プラットフォーム利用契約書インスタリム様.docx',\n",
       " '/Users/nita/Desktop/TJDOCS/Kubota／クボタ/クボタ_議事録.docx',\n",
       " '/Users/nita/Desktop/TJDOCS/Akekure／アケクレ（Walife／ワライフ）/アケクレ／ワライフ_MOM.docx',\n",
       " '/Users/nita/Desktop/TJDOCS/Akekure／アケクレ（Walife／ワライフ）/Hub/contract/20231023_Hub契約書_ワライフ新会社様_初版1023.docx',\n",
       " '/Users/nita/Desktop/TJDOCS/Akekure／アケクレ（Walife／ワライフ）/Hub/contract/20231023_Hub契約書_アケクレ_修正版231128.docx',\n",
       " '/Users/nita/Desktop/TJDOCS/Akekure／アケクレ（Walife／ワライフ）/Hub/contract/20231023_Hub契約書_Akekure&Walife_FIX.docx',\n",
       " '/Users/nita/Desktop/TJDOCS/Digital Garage／デジタルガレージ/デジタルガレージ_議事録.docx',\n",
       " '/Users/nita/Desktop/TJDOCS/Digital Garage／デジタルガレージ/Job/contract/20230201_人材紹介基本契約書_DG社_FIX.docx',\n",
       " '/Users/nita/Desktop/TJDOCS/Daiichi Life HD／第一生命ホールディングス/第一生命ホールディングス_MOM.docx',\n",
       " '/Users/nita/Desktop/TJDOCS/Daiichi Life HD／第一生命ホールディングス/Hub/確定稿【HD】20240410_Architect_Intern_En_v0.2.docx',\n",
       " '/Users/nita/Desktop/TJDOCS/Daiichi Life HD／第一生命ホールディングス/Hub/第一生命ホールディングス様_Tech Japan Hub契約書ドラフト.docx',\n",
       " '/Users/nita/Desktop/TJDOCS/Daiichi Life HD／第一生命ホールディングス/Hub/Final_第一生命ホールディングス様_Tech Japan Hub契約書ドラフト.docx',\n",
       " '/Users/nita/Desktop/TJDOCS/H2L/H2L_MOM.docx',\n",
       " '/Users/nita/Desktop/TJDOCS/H2L/Job/contract/20230301_JOB契約書_H2L社_FIX.docx',\n",
       " '/Users/nita/Desktop/TJDOCS/H2L/Hub/contract/20230301_Hub契約書_H2L社_FIX.docx',\n",
       " '/Users/nita/Desktop/TJDOCS/H2L/Hub/24卒サマーインターン/20230523_H2L_NDA_for intern_English.docx',\n",
       " '/Users/nita/Desktop/TJDOCS/H2L/Hub/24卒サマーインターン/オファー学生スキル/Akshat Jain／24SI.docx',\n",
       " '/Users/nita/Desktop/TJDOCS/Travelience／トラベリエンス/20231208インタビュー文字おこし (1).docx',\n",
       " '/Users/nita/Desktop/TJDOCS/Travelience／トラベリエンス/20231208インタビュー文字おこし.docx',\n",
       " '/Users/nita/Desktop/TJDOCS/Travelience／トラベリエンス/トラベリエンス_MOM.docx',\n",
       " '/Users/nita/Desktop/TJDOCS/Travelience／トラベリエンス/Job/contract/人材紹介契約書_Travelience様.docx',\n",
       " '/Users/nita/Desktop/TJDOCS/Travelience／トラベリエンス/Hub/contract/20230406_Hub契約書_travelience様_FIX.docx',\n",
       " '/Users/nita/Desktop/TJDOCS/Travelience／トラベリエンス/Hub/記事インタビュー/240523_en_final_FIX_【TechJapanHab_interview_ Travelience inc.】.docx',\n",
       " '/Users/nita/Desktop/TJDOCS/Travelience／トラベリエンス/Hub/記事インタビュー/240523_jp_final_FIX_【TechJapanHab事例インタビュー_ 株式会社トラベリエンス様】.docx',\n",
       " '/Users/nita/Desktop/TJDOCS/Netropolis/ Netropolis_MOM.docx',\n",
       " '/Users/nita/Desktop/TJDOCS/Netropolis/Lab/contract/締結途中ファイル/20240425_LAB業務委託_準委任基本契約書_JP_Lab_Netropolis_0528FIX.docx',\n",
       " '/Users/nita/Desktop/TJDOCS/Netropolis/Lab/contract/締結途中ファイル/20240425_LAB業務委託_準委任基本契約書_JP_Lab_Netropolis_TJ0522.docx',\n",
       " \"/Users/nita/Desktop/TJDOCS/Netropolis/Lab/contract/締結途中ファイル/20240425_Service Agreement with project member_Netropolis's PJT_Jason Truesdell.docx\",\n",
       " '/Users/nita/Desktop/TJDOCS/Netropolis/Lab/contract/締結途中ファイル/20240425_LAB業務委託_準委任個別契約書_JP_Netropolis_Engineering Manager_TJ0522.docx',\n",
       " '/Users/nita/Desktop/TJDOCS/Netropolis/Lab/contract/締結途中ファイル/20240425_Tech Japan Lab_Scope of Work_EN_Netropolis-Jason.docx',\n",
       " '/Users/nita/Desktop/TJDOCS/Netropolis/Lab/contract/締結途中ファイル/20240425_LAB業務委託_準委任個別契約書_JP_Netropolis_Engineering Manager_0528FIX.docx',\n",
       " '/Users/nita/Desktop/TJDOCS/Netropolis/Lab/contract/締結途中ファイル/20240425_LAB業務委託_準委任基本契約書_JP_Lab_Netropolis.docx',\n",
       " '/Users/nita/Desktop/TJDOCS/Netropolis/Lab/contract/締結途中ファイル/20240425_LAB業務委託_準委任個別契約書_JP_Netropolis-Engineering Manager.docx',\n",
       " '/Users/nita/Desktop/TJDOCS/Netropolis/Lab/contract/締結途中ファイル/20240425_LAB業務委託_準委任個別契約書_JP_Netropolis-Tech Lead.docx',\n",
       " '/Users/nita/Desktop/TJDOCS/Netropolis/Hub/contract/20230908_Hub契約書_JP_田中雄揮 様_v0911.docx',\n",
       " '/Users/nita/Desktop/TJDOCS/Netropolis/Hub/contract/20230908_Hub契約書_JP_田中雄揮 様_v0921田中修正20h00_v0928TJ修正.docx',\n",
       " '/Users/nita/Desktop/TJDOCS/Netropolis/Hub/contract/20240125_Hub契約書_JP_Netropolis_FIX.docx',\n",
       " '/Users/nita/Desktop/TJDOCS/Netropolis/Hub/contract/20230908_Hub契約書_JP_田中雄揮 様_v0921TJ修正.docx',\n",
       " '/Users/nita/Desktop/TJDOCS/Netropolis/Hub/contract/20240125_Hub契約書_JP_Netropolis_v0125.docx',\n",
       " '/Users/nita/Desktop/TJDOCS/Netropolis/Hub/contract/20231002_Hub契約書_JP_田中雄揮様_FIX.docx',\n",
       " '/Users/nita/Desktop/TJDOCS/Netropolis/Hub/contract/20230908_Hub契約書_JP_田中雄揮 様_v0921田中修正20h00.docx',\n",
       " '/Users/nita/Desktop/TJDOCS/Netropolis/Hub/contract/20230908_Hub契約書_JP_田中様_v0908.docx',\n",
       " '/Users/nita/Desktop/TJDOCS/Benesse／ベネッセ/Benesse India_MOM.docx',\n",
       " '/Users/nita/Desktop/TJDOCS/Benesse／ベネッセ/Job/Fixed_Tech Japan JOB契約書_ベネッセ様.docx',\n",
       " '/Users/nita/Desktop/TJDOCS/Benesse／ベネッセ/Job/20231201_JOB契約書_ベネッセ様.docx',\n",
       " '/Users/nita/Desktop/TJDOCS/Benesse／ベネッセ/Job/20240119_JOB契約書_ベネッセ様.docx',\n",
       " '/Users/nita/Desktop/TJDOCS/Benesse／ベネッセ/Job/20240122_JOB契約書_ベネッセ様.docx',\n",
       " '/Users/nita/Desktop/TJDOCS/Benesse／ベネッセ/Job/Bridge PM.docx',\n",
       " '/Users/nita/Desktop/TJDOCS/Benesse／ベネッセ/Job/20240123_JOB契約書_ベネッセ.docx',\n",
       " '/Users/nita/Desktop/TJDOCS/LiB Consulting／リブ・コンサルティング/リブ・コンサルティング_MOM.docx',\n",
       " '/Users/nita/Desktop/TJDOCS/LiB Consulting／リブ・コンサルティング/Job/contract/20240312_Job契約書_リブ・コンサルティング_TJ0312_LC0328_TJ0328.docx',\n",
       " '/Users/nita/Desktop/TJDOCS/LiB Consulting／リブ・コンサルティング/Job/contract/20240312_JOB契約書_リブ・コンサルティング_TJ0312.docx',\n",
       " '/Users/nita/Desktop/TJDOCS/LiB Consulting／リブ・コンサルティング/Job/contract/20240312_Job契約書_リブ・コンサルティング_FIX.docx',\n",
       " '/Users/nita/Desktop/TJDOCS/LiB Consulting／リブ・コンサルティング/Job/contract/20240312_JOB契約書_リブ・コンサルティング_TJ0312_LC0328.docx',\n",
       " '/Users/nita/Desktop/TJDOCS/54/Alliance・vender/contract/20240305_業務提携契約書_54-TechJapan_FIX.docx',\n",
       " '/Users/nita/Desktop/TJDOCS/54/Alliance・vender/contract/20240305_業務提携契約書_54-Tech Japan.docx',\n",
       " '/Users/nita/Desktop/TJDOCS/HOLON／ホロン/HOLON_MOM.docx',\n",
       " '/Users/nita/Desktop/TJDOCS/Konoike Transport／鴻池運輸/Konoike Transport／鴻池運輸_MOM.docx',\n",
       " '/Users/nita/Desktop/TJDOCS/Konoike Transport／鴻池運輸/Hub/contract/インド IT・デジタル⼈材特化型総合プラットフォーム利用契約書2022_鴻池運輸様.docx',\n",
       " '/Users/nita/Desktop/TJDOCS/REGATIS/REGATIS_MOM.docx',\n",
       " '/Users/nita/Desktop/TJDOCS/Gifu Plastic Industry／岐阜プラスチック工業/Gifu Plastic Industry_MOM.docx',\n",
       " '/Users/nita/Desktop/TJDOCS/NTT DATA INTELLILINK／NTTデータ先端技術/NTTデータ先端技術__MOM.docx',\n",
       " '/Users/nita/Desktop/TJDOCS/Fingervision／フィンガービジョン/Fingervision／フィンガービジョン_MOM.docx',\n",
       " '/Users/nita/Desktop/TJDOCS/Fingervision／フィンガービジョン/Job/contract/締結途中の保存ファイル/20240904_JOB×LAB契約書_JP_FingerVision_FIX.docx',\n",
       " '/Users/nita/Desktop/TJDOCS/GBL/GBL_MOM.docx',\n",
       " '/Users/nita/Desktop/TJDOCS/GBL/Hub/GBL様_Hub契約書.docx',\n",
       " '/Users/nita/Desktop/TJDOCS/TOKYO ELECTRON KYUSHU／東京エレクトロン九州/TOKYO ELECTRON KYUSHU_MOM.docx',\n",
       " '/Users/nita/Desktop/TJDOCS/UNITIKA／ユニチカ/UNITIKA／ユニチカ_MOM.docx',\n",
       " '/Users/nita/Desktop/TJDOCS/知能情報システム／CJS/知能情報システム／CJS_MOM.docx',\n",
       " '/Users/nita/Desktop/TJDOCS/知能情報システム／CJS/Job/contract/20230307_JOB契約書_知能情報システム_v0307.docx',\n",
       " '/Users/nita/Desktop/TJDOCS/i`ll／アイル/アイル_議事録.docx',\n",
       " '/Users/nita/Desktop/TJDOCS/Yamazaki Mazak／ヤマザキマザック/Ymazaki Mazak／ヤマザキマザック_MOM.docx',\n",
       " '/Users/nita/Desktop/TJDOCS/Commitrust／コミットラスト/コミットラスト_MOM.docx',\n",
       " '/Users/nita/Desktop/TJDOCS/NOW ROOM/NOW ROOM_MOM.docx',\n",
       " '/Users/nita/Desktop/TJDOCS/NOW ROOM/Job/contract/人材紹介契約書_ NOW ROOM様.docx',\n",
       " '/Users/nita/Desktop/TJDOCS/NOW ROOM/Hub/contract/インド IT・デジタル⼈材特化型総合プラットフォーム利用契約書2022NOW ROOM様.docx',\n",
       " '/Users/nita/Desktop/TJDOCS/LUCAジャパン/00_Lucaジャパン様_人材紹介契約ドラフト.docx',\n",
       " '/Users/nita/Desktop/TJDOCS/LUCAジャパン/LUCAジャパン__MOM.docx',\n",
       " '/Users/nita/Desktop/TJDOCS/Fusic／フュージック/Fusic_MOM.docx',\n",
       " '/Users/nita/Desktop/TJDOCS/Fusic／フュージック/Hub/contract/20230809_Hub契約書_Fusic様_FIX.docx',\n",
       " '/Users/nita/Desktop/TJDOCS/Navio computer／ナビオコンピュータ/ナビオコンピュータ_MOM.docx',\n",
       " '/Users/nita/Desktop/TJDOCS/LTU/LTU_議事録.docx',\n",
       " '/Users/nita/Desktop/TJDOCS/LTU/Hub/01_24SI/記事取材/_事例インタビュー_株式会社LTU様.docx',\n",
       " '/Users/nita/Desktop/TJDOCS/LTU/Hub/01_24SI/記事取材/先方OK_最終版_記事取材_事例インタビュー_株式会社LTU様.docx',\n",
       " '/Users/nita/Desktop/TJDOCS/LTU/Hub/01_24SI/01_オファーレター/NDA/20230220_秘密保持契約書（Standardforce定型）_LTU.docx',\n",
       " '/Users/nita/Desktop/TJDOCS/LTU/Hub/01_24SI/01_オファーレター/NDA/Non-Disclosure Agreement_Standard Force(LTU) _en.docx',\n",
       " '/Users/nita/Desktop/TJDOCS/LTU/Hub/01_24SI/01_オファーレター/intenship offer/20230220_24Summer Internship Offer Letter_Shubham Singh_v1.docx',\n",
       " '/Users/nita/Desktop/TJDOCS/LTU/Hub/01_24SI/01_オファーレター/intenship offer/20230220_24 Summer Internship Offer Letter_Abhay Tiwari_v1.docx',\n",
       " '/Users/nita/Desktop/TJDOCS/LTU/Hub/01_24SI/01_オファーレター/intenship offer/20230220_24 summer Internship Offer Letter_Shivankar Mehta_v1.docx',\n",
       " '/Users/nita/Desktop/TJDOCS/LTU/Hub/01_24SI/01_オファーレター/intenship offer/20230220_24 summer Internship Offer Letter_Shital Bhiku Siddhagavali_v1.docx',\n",
       " '/Users/nita/Desktop/TJDOCS/LTU/Hub/01_24SI/日本語教育/eラーニングについて【改】.docx',\n",
       " '/Users/nita/Desktop/TJDOCS/LTU/Hub/01_24SI/日本語教育/20231214 Meeting with PPO Students.docx',\n",
       " '/Users/nita/Desktop/TJDOCS/LTU/Hub/01_24SI/Reflection/LTU, Siddhagavali Shital Bhiku, IIT Madras.docx',\n",
       " '/Users/nita/Desktop/TJDOCS/LTU/Hub/01_24SI/Reflection/LTU, Shivankar Mehta, IIT(ISM), Dhanbad.docx',\n",
       " '/Users/nita/Desktop/TJDOCS/LTU/Hub/01_24SI/Reflection/LTU, Abhay Tiwari, IIT Dhanbad.docx',\n",
       " '/Users/nita/Desktop/TJDOCS/SAZABY LEAGUE／サザビーリーグ/SAZABY LEAGUE_MOM.docx',\n",
       " '/Users/nita/Desktop/TJDOCS/TechMagic/TechMagic_MOM.docx',\n",
       " '/Users/nita/Desktop/TJDOCS/Kartz Media Works／カーツメディアワークス/Kartz Media Works／カーツメディアワークス_MOM.docx',\n",
       " '/Users/nita/Desktop/TJDOCS/NOHARA GROUP／野原グループ/NOHARA GROUP_MOM.docx',\n",
       " '/Users/nita/Desktop/TJDOCS/OSAKA SEALING PRINTING／大阪シーリング印刷株式会社/OSAKA SEALING PRINTING_MOM.docx',\n",
       " '/Users/nita/Desktop/TJDOCS/Biztex/BizteX_MOM.docx',\n",
       " '/Users/nita/Desktop/TJDOCS/RESTAR/RESTAR_MOM.docx',\n",
       " '/Users/nita/Desktop/TJDOCS/RESTAR/Job/contract/締結中保存ファイル/20240430_JOB契約書_RESTAR_FIX.docx',\n",
       " '/Users/nita/Desktop/TJDOCS/RESTAR/Job/contract/締結中保存ファイル/20240430_JOB契約書_RESTAR_v0430.docx',\n",
       " '/Users/nita/Desktop/TJDOCS/AKASHI-KIKAI INDUSTRY CO.,Ltd.／明石機械工業/AKASHI-KIKAI INDUSTRY_MOM.docx',\n",
       " '/Users/nita/Desktop/TJDOCS/Milk./Milk．_MOM.docx',\n",
       " '/Users/nita/Desktop/TJDOCS/Milk./Hub/contract/20240513_Hub契約書_Milk._FIX.docx',\n",
       " '/Users/nita/Desktop/TJDOCS/Milk./Hub/contract/締結途中の履歴ファイル/20240205_Hub契約書_JP_milk._TJ0205.docx',\n",
       " '/Users/nita/Desktop/TJDOCS/Milk./Hub/contract/締結途中の履歴ファイル/20240205_Hub契約書_TJ0205_Milk.0419.docx',\n",
       " '/Users/nita/Desktop/TJDOCS/Milk./Hub/contract/締結途中の履歴ファイル/20240205_Hub契約書_TJ0205_Milk.0419_TJ0422.docx',\n",
       " '/Users/nita/Desktop/TJDOCS/Oriental Consultants Global／オリエンタルコンサルタンツグローバル/ オリエンタルコンサルタンツグローバル_MOM.docx',\n",
       " '/Users/nita/Desktop/TJDOCS/Oriental Consultants Global／オリエンタルコンサルタンツグローバル/Job/推薦候補者情報/20221228_VS_Blind/20221228_VS Blind_career summary_JP.docx',\n",
       " '/Users/nita/Desktop/TJDOCS/Oriental Consultants Global／オリエンタルコンサルタンツグローバル/Job/推薦候補者情報/20221228_SJ Blind/20221228_SJ Blind_career summary_JP.docx',\n",
       " '/Users/nita/Desktop/TJDOCS/FujiQ Highland／富士急ハイランド/FujiQ Highland／富士急ハイランド_MOM.docx',\n",
       " '/Users/nita/Desktop/TJDOCS/Asai/asai_MOM.docx',\n",
       " '/Users/nita/Desktop/TJDOCS/Asai/Hub/contract/20240904_JP_Hub契約書_asai_TJ0904.docx',\n",
       " '/Users/nita/Desktop/TJDOCS/AETERLINK／エイターリンク/ AETERLINK_MOM.docx',\n",
       " '/Users/nita/Desktop/TJDOCS/AETERLINK／エイターリンク/Job/contract/20230327_JOB契約書_エイターリンク社_v0327.docx',\n",
       " '/Users/nita/Desktop/TJDOCS/AETERLINK／エイターリンク/Hub/contract/20240110_Hub契約書_JP_Aeterlink_v0110.docx',\n",
       " '/Users/nita/Desktop/TJDOCS/stmn／スタメン/スタメン_議事録.docx',\n",
       " '/Users/nita/Desktop/TJDOCS/GTB／ジーティービー/GTB_MOM.docx',\n",
       " '/Users/nita/Desktop/TJDOCS/Suntory Holdings／サントリーホールディングス/Suntory Holdings_MOM.docx',\n",
       " '/Users/nita/Desktop/TJDOCS/Dream up／ドリームアップ/Alliance・Vender/contract/20230704_契約書_テレアポ業務委託代行_ドリームアップ.docx',\n",
       " '/Users/nita/Desktop/TJDOCS/SMBC／三井住友銀行/三井住友銀行_MOM.docx',\n",
       " '/Users/nita/Desktop/TJDOCS/Gate Japan／ゲートジャパン/Gate Japan__MOM.docx',\n",
       " '/Users/nita/Desktop/TJDOCS/Gate Japan／ゲートジャパン/Hub/Gate Japan様_Hub契約書.docx',\n",
       " '/Users/nita/Desktop/TJDOCS/TOKYO OHKA KOGYO／東京応化工業/TOKYO OHKA KOGYO_MOM.docx',\n",
       " '/Users/nita/Desktop/TJDOCS/PrimeNumber/PrimeNumber_MOM.docx',\n",
       " '/Users/nita/Desktop/TJDOCS/PrimeNumber/Job/contract/締結途中の保存ファイル/20240730_人材紹介契約書雛形_primeNumber-tech japan_PN0730_TJ0731.docx',\n",
       " '/Users/nita/Desktop/TJDOCS/PrimeNumber/Job/contract/締結途中の保存ファイル/20240730_人材紹介契約書雛形_primeNumber-tech japan_PN0730.docx',\n",
       " '/Users/nita/Desktop/TJDOCS/PrimeNumber/Job/contract/締結途中の保存ファイル/20240730_人材紹介契約書雛形_primeNumber-tech japan_FIX.docx',\n",
       " '/Users/nita/Desktop/TJDOCS/Whiteboard／ホワイトボード/ホワイトボード_MOM.docx',\n",
       " '/Users/nita/Desktop/TJDOCS/MOLCURE/MOLCURE_議事録.docx',\n",
       " '/Users/nita/Desktop/TJDOCS/Freee／フリー/Freee／フリー_MOM.docx',\n",
       " '/Users/nita/Desktop/TJDOCS/Yamaha Motors／ヤマハ発動機/Yamaha_MOM.docx',\n",
       " '/Users/nita/Desktop/TJDOCS/Makita Corporation／マキタ/Makita Corporation_MOM.docx',\n",
       " '/Users/nita/Desktop/TJDOCS/Sparticle/Sparticle_MOM.docx',\n",
       " '/Users/nita/Desktop/TJDOCS/Mitani Sangyo Co., Ltd／三谷産業/Mitani Sangyo Co., Ltd_MOM.docx',\n",
       " '/Users/nita/Desktop/TJDOCS/BEENOS/BEENOS_MOM.docx',\n",
       " '/Users/nita/Desktop/TJDOCS/BEENOS/Job/contract/締結中の保存ファイル/20240605_人材紹介基本契約書_BEENOS-Tech Japan_FIX.docx',\n",
       " '/Users/nita/Desktop/TJDOCS/BEENOS/Job/contract/締結中の保存ファイル/20240605_人材紹介基本契約書_BEENOS-Tech Japan_BE0605_TJ0610.docx',\n",
       " '/Users/nita/Desktop/TJDOCS/Save Medical/Save Medical_MOM.docx',\n",
       " '/Users/nita/Desktop/TJDOCS/toonmedia/toonmedia_MOM.docx',\n",
       " '/Users/nita/Desktop/TJDOCS/Amkor Technology Japan／アムコー・テクノロジー・ジャパン/Amkor Technology Japan／アムコー・テクノロジー・ジャパン_MOM.docx',\n",
       " '/Users/nita/Desktop/TJDOCS/Softsu／ソフツー/ソフツー_MOM.docx',\n",
       " '/Users/nita/Desktop/TJDOCS/SOLATEC／ソラテック/SOLATEC_MOM.docx',\n",
       " '/Users/nita/Desktop/TJDOCS/Arsaga Partners／アルサーガパートナーズ/Arsaga Partners_MOM.docx',\n",
       " '/Users/nita/Desktop/TJDOCS/Arsaga Partners／アルサーガパートナーズ/JOB/アルサーガパートナーズ様JOB契約書（Final).docx',\n",
       " '/Users/nita/Desktop/TJDOCS/Arsaga Partners／アルサーガパートナーズ/JOB/20231128_アルサーガパートナーズ様JOB契約書.docx',\n",
       " '/Users/nita/Desktop/TJDOCS/Arsaga Partners／アルサーガパートナーズ/JOB/20231127_アルサーガパートナーズ様JOB契約書.docx',\n",
       " '/Users/nita/Desktop/TJDOCS/Arsaga Partners／アルサーガパートナーズ/JOB/20231114_アルサーガパートナーズ様JOB契約書.docx',\n",
       " '/Users/nita/Desktop/TJDOCS/不動技研グループ/不動技研グループ（PAL構造／シアスタ／不動技研工業）_MOM.docx',\n",
       " '/Users/nita/Desktop/TJDOCS/不動技研グループ/シアスタ/Job/contract/20230523_JOB契約書_シアスタ社_v1.docx',\n",
       " '/Users/nita/Desktop/TJDOCS/NTT West／西日本電信電話株式会社/NTT West_MOM.docx',\n",
       " '/Users/nita/Desktop/TJDOCS/Ex Fusion/EX-Fusion_MOM.docx',\n",
       " '/Users/nita/Desktop/TJDOCS/Ex Fusion/Job/EX-Fusion様_JOB契約書.docx',\n",
       " '/Users/nita/Desktop/TJDOCS/Spatial Pleasure/spatial pleasure_MOM.docx',\n",
       " '/Users/nita/Desktop/TJDOCS/Spatial Pleasure/Hub/contract/20230529_Hub契約書_Spatial Pleasure社_FIX.docx',\n",
       " '/Users/nita/Desktop/TJDOCS/fictiv/fictiv_MOM.docx',\n",
       " '/Users/nita/Desktop/TJDOCS/ノリタケカンパニーリミテド/ノリタケカンパニーリミテド _MOM.docx',\n",
       " '/Users/nita/Desktop/TJDOCS/Terradrone／テラドローン/Job/Blind resume/20230321_resume②_Bharat Chandra Sahu_テラドローン.docx',\n",
       " '/Users/nita/Desktop/TJDOCS/Terradrone／テラドローン/Job/Blind resume/20230321_resume③_Palani Arunagiri_テラドローン.docx',\n",
       " '/Users/nita/Desktop/TJDOCS/SAKURAI machinery／桜井製作所/桜井製作所_議事録.docx',\n",
       " '/Users/nita/Desktop/TJDOCS/Ginco/Ginco_議事録.docx',\n",
       " '/Users/nita/Desktop/TJDOCS/Ginco/Job/contract/締結途中保存ファイル/20230322_JOB契約書_Ginco社_FIX.docx',\n",
       " '/Users/nita/Desktop/TJDOCS/Ginco/Job/contract/締結途中保存ファイル/20240809_人材紹介契約書_Ginco-Tech Japan_FIX.docx',\n",
       " '/Users/nita/Desktop/TJDOCS/Ginco/Job/contract/締結途中保存ファイル/20240809_人材紹介契約書_Ginco-Tech Japan_G0807-T0809.docx',\n",
       " '/Users/nita/Desktop/TJDOCS/Ginco/Job/contract/締結途中保存ファイル/20240809_人材紹介契約書_Ginco-Tech Japan_G0807.docx',\n",
       " '/Users/nita/Desktop/TJDOCS/Ginco/Job/JD/20230216_Backend _Engineer_JD_Japanese.docx',\n",
       " '/Users/nita/Desktop/TJDOCS/Ginco/Hub/contract/20240216_Hub契約書_JP_Ginco-India_v0216.docx',\n",
       " '/Users/nita/Desktop/TJDOCS/Ginco/Hub/contract/20230405_Hub契約書-Ginco-FIX.docx',\n",
       " '/Users/nita/Desktop/TJDOCS/Ginco/Hub/24サマーインターンシップ/20230322_JOB契約書_Ginco社_v0323.docx',\n",
       " '/Users/nita/Desktop/TJDOCS/Ginco/Hub/24サマーインターンシップ/offer letter/20230301_Internship Offer Letter_template.docx',\n",
       " '/Users/nita/Desktop/TJDOCS/Ginco/Hub/24サマーインターンシップ/offer letter/20230323_Internship Offer Letter_Ginco_Ananya Mahato.docx',\n",
       " '/Users/nita/Desktop/TJDOCS/Wanget/Wanget_MOM.docx',\n",
       " '/Users/nita/Desktop/TJDOCS/ispace/ispace_MOM.docx',\n",
       " '/Users/nita/Desktop/TJDOCS/Heartbeats／ハートビーツ/Heartbeats_MOM.docx',\n",
       " '/Users/nita/Desktop/TJDOCS/Heartbeats／ハートビーツ/Hub/contract/20230809_Hub契約書_Heartbeats_FIX.docx',\n",
       " '/Users/nita/Desktop/TJDOCS/Heartbeats／ハートビーツ/Hub/contract/20230809_Hub契約書_Heartbeats_v0807HB_v0815TJ_v0827TJ_v0912TJ.docx',\n",
       " '/Users/nita/Desktop/TJDOCS/PayPay/PayPay_MOM.docx',\n",
       " '/Users/nita/Desktop/TJDOCS/PayPay/Job/20230802 PayPay UIUX Design Seminar.docx',\n",
       " '/Users/nita/Desktop/TJDOCS/PayPay/Job/Contract/【PayPay】人材紹介サービスに関する契約書_雛形  (2).docx',\n",
       " '/Users/nita/Desktop/TJDOCS/PayPay/Job/Contract/Recruitment Service Agreement_PayPay India(Draft)_20230310.docx',\n",
       " '/Users/nita/Desktop/TJDOCS/PayPay/Job/Contract/20230510_Recruitment Service Agreement_PayPay India(Draft)_20230310 (1) (2)PPrv1 (1).docx',\n",
       " '/Users/nita/Desktop/TJDOCS/PayPay/Job/Paypay HR採用説明会/20220623_PayPay_FE採用説明会.docx',\n",
       " '/Users/nita/Desktop/TJDOCS/PayPay/Job/Paypay HR採用説明会/0113_Update_AWSSecOps_DevSecOps.docx',\n",
       " '/Users/nita/Desktop/TJDOCS/PayPay/Job/PayPay - ONLINE recruitment briefing session/Sign-Up Form/Sing-Up Form Foramt.docx',\n",
       " '/Users/nita/Desktop/TJDOCS/Fuji Film India/FujFilm_MOM.docx',\n",
       " '/Users/nita/Desktop/TJDOCS/KG Motors/KG Motors_MOM.docx',\n",
       " '/Users/nita/Desktop/TJDOCS/Sumitomo Realty & Development／住友不動産/住友不動産_MOM.docx',\n",
       " '/Users/nita/Desktop/TJDOCS/HIROTEC／ヒロテック/HIROTEC_MOM.docx',\n",
       " '/Users/nita/Desktop/TJDOCS/Dia Nippon Engineering Consultants／大日本ダイヤコンサルタント/Dia Nippon Engineering Consultants_MOM.docx',\n",
       " '/Users/nita/Desktop/TJDOCS/ugo/UGO_MOM.docx',\n",
       " '/Users/nita/Desktop/TJDOCS/ugo/Hub/contract/20221031_Hub契約書_UGO_FIX.docx',\n",
       " '/Users/nita/Desktop/TJDOCS/ugo/Hub/24サマーインターンシップ/internship_offer letter/20230313_Internship Offer Letter_Sanjiv B N_tentative.docx',\n",
       " '/Users/nita/Desktop/TJDOCS/ugo/Hub/24サマーインターンシップ/internship_offer letter/20230313_Internship Offer Letter_Arundhathi Singh_tentative.docx',\n",
       " '/Users/nita/Desktop/TJDOCS/ugo/Hub/24サマーインターンシップ/internship_offer letter/20230313_Internship Offer Letter_Nandhini Reddy_tentative.docx',\n",
       " '/Users/nita/Desktop/TJDOCS/ugo/Hub/24サマーインターンシップ/internship_offer letter/20230313_Internship Offer Letter_Shubham Singhal_tentative.docx',\n",
       " '/Users/nita/Desktop/TJDOCS/ugo/Hub/24サマーインターンシップ/internship_offer letter/20230313_Internship Offer Letter_Satwik Arawalli_tentative.docx',\n",
       " '/Users/nita/Desktop/TJDOCS/ugo/Hub/24サマーインターンシップ/internship_offer letter/20230313_Internship Offer Letter_Siddharth Ahire_tentative.docx',\n",
       " '/Users/nita/Desktop/TJDOCS/ugo/Hub/24サマーインターンシップ/インタビュー記事/_事例インタビュー__ugo株式会社様.docx',\n",
       " '/Users/nita/Desktop/TJDOCS/ugo/Hub/24サマーインターンシップ/インタビュー記事/【ご確認依頼】_事例インタビュー__ugo株式会社様_20231018修正.docx',\n",
       " '/Users/nita/Desktop/TJDOCS/ugo/Hub/24サマーインターンシップ/インタビュー記事/231020_最終版_事例インタビュー__ugo株式会社様_20231018修正.docx',\n",
       " '/Users/nita/Desktop/TJDOCS/ugo/Hub/24サマーインターンシップ/日本語教育/20231215 Meeting with PPO Students.docx',\n",
       " '/Users/nita/Desktop/TJDOCS/ugo/Hub/24サマーインターンシップ/日本語教育/eラーニングについて【改】.docx',\n",
       " '/Users/nita/Desktop/TJDOCS/ugo/Hub/24サマーインターンシップ/日本受入/VISA取得関連/Satwik Arawalli/Cover Letter for Bengaluru_India.docx',\n",
       " '/Users/nita/Desktop/TJDOCS/ugo/Hub/24サマーインターンシップ/日本受入/VISA取得関連/Shubham Singhal/Cover Letter (Sample) for India(New Delhi).docx',\n",
       " '/Users/nita/Desktop/TJDOCS/ugo/Hub/24サマーインターンシップ/日本受入/VISA取得関連/Arundhathi Singh/Cover Letter for Chennai_India.docx',\n",
       " '/Users/nita/Desktop/TJDOCS/ugo/Hub/24サマーインターンシップ/日本受入/VISA取得関連/Palukuru Nandhini Reddy/Cover Letter (Sample) for India(Kolkata).docx',\n",
       " '/Users/nita/Desktop/TJDOCS/ugo/Hub/24サマーインターンシップ/日本受入/VISA取得関連/Sanjiv B N/Cover Letter for Chennai_India.docx',\n",
       " '/Users/nita/Desktop/TJDOCS/ugo/Hub/24サマーインターンシップ/日本受入/VISA取得関連/Siddharth Prakash Ahire/Cover Letter for Chennai_India (1).docx',\n",
       " '/Users/nita/Desktop/TJDOCS/ugo/Hub/24サマーインターンシップ/Reflection/UGO, Satwik Arawalli.docx',\n",
       " '/Users/nita/Desktop/TJDOCS/ugo/Hub/24サマーインターンシップ/Reflection/UGO, Sanjiv B N.docx',\n",
       " '/Users/nita/Desktop/TJDOCS/ugo/Hub/24サマーインターンシップ/Reflection/UGO, Shubham Singhal.docx',\n",
       " '/Users/nita/Desktop/TJDOCS/GO／GO株式会社/GO_MOM.docx',\n",
       " '/Users/nita/Desktop/TJDOCS/Money Forward／マネーフォワード/マネーフォワード_議事録.docx',\n",
       " '/Users/nita/Desktop/TJDOCS/Money Forward／マネーフォワード/Job/MF - 選考プロセスと訴求ポイント.docx',\n",
       " '/Users/nita/Desktop/TJDOCS/Money Forward／マネーフォワード/Job/contract/20220107_JOB契約書_マネーフォワード_FIX.docx',\n",
       " '/Users/nita/Desktop/TJDOCS/Money Forward／マネーフォワード/Job/contract/20240502_JOB覚書_MoneyForward社_FIX→Signed.docx',\n",
       " '/Users/nita/Desktop/TJDOCS/Money Forward／マネーフォワード/Job/contract/締結途中の履歴ファイル/20240502_JOB覚書_MoneyForward社_v0502.docx',\n",
       " '/Users/nita/Desktop/TJDOCS/Money Forward／マネーフォワード/Hub/contract/20220125_Hub契約書_マネーフォワード_FIX.docx',\n",
       " '/Users/nita/Desktop/TJDOCS/Money Forward／マネーフォワード/Hub/学生レジュメ/Ayush Sharma.docx',\n",
       " '/Users/nita/Desktop/TJDOCS/Money Forward／マネーフォワード/Hub/学生レジュメ/Kusampudi Venkata Datta.docx',\n",
       " '/Users/nita/Desktop/TJDOCS/Money Forward／マネーフォワード/Hub/学生レジュメ/Saksham Dwivedi.docx',\n",
       " '/Users/nita/Desktop/TJDOCS/K Career Partners／ケイキャリアパートナーズ（KHI新卒採用請負）/K Career Partners_MOM.docx',\n",
       " '/Users/nita/Desktop/TJDOCS/Acall／アコール/Acall_MOM.docx',\n",
       " '/Users/nita/Desktop/TJDOCS/Kobe City／神戸市/Kobe City_MOM.docx',\n",
       " '/Users/nita/Desktop/TJDOCS/Kobe City／神戸市/Alliance・Vender/0321 採用戦略セミナーwithアマテラス／大阪／神戸/Tech Japan プレスリリース0304.docx',\n",
       " '/Users/nita/Desktop/TJDOCS/Whitehole Lab／ホワイトホールラボ/WhitehloeLab_MOM.docx',\n",
       " '/Users/nita/Desktop/TJDOCS/Givery／ギブリー/Givery_MOM.docx',\n",
       " '/Users/nita/Desktop/TJDOCS/SHIMA SEIKI MFG／島精機製作所/SHIMA SEIKI MFG_MOM.docx',\n",
       " '/Users/nita/Desktop/TJDOCS/ShinDengen／新電元工業/新電元工業_MOM.docx',\n",
       " '/Users/nita/Desktop/TJDOCS/CellSource／セルソース/CellSource／セルソース_MOM.docx',\n",
       " '/Users/nita/Desktop/TJDOCS/Fiv-e Co.Ltd.／ファイブ/ファイブ_MOM.docx',\n",
       " '/Users/nita/Desktop/TJDOCS/OUTSOURCING TECHNOLOGY／アウトソーシングテクノロジー/Outsourcing Technology／アウトソーシングテクノロジー_MOM.docx',\n",
       " '/Users/nita/Desktop/TJDOCS/OUTSOURCING TECHNOLOGY／アウトソーシングテクノロジー/HUB/contract/20240702_Hub契約書_Out-Sourcing Technology_TJ0702.docx',\n",
       " '/Users/nita/Desktop/TJDOCS/Aquonia/Job/contract/人材紹介契約書_ AQUONIA様.docx',\n",
       " '/Users/nita/Desktop/TJDOCS/TRAILBLAZER/Trail Blazer_MOM.docx',\n",
       " '/Users/nita/Desktop/TJDOCS/Soilook/Soilook_MOM.docx',\n",
       " '/Users/nita/Desktop/TJDOCS/Alpha design／アルファーデザイン/Alpha design_MOM.docx',\n",
       " '/Users/nita/Desktop/TJDOCS/Outloud／アウトラウド/Outloud_MOM.docx',\n",
       " '/Users/nita/Desktop/TJDOCS/manabiexSPRIX/manabie x SPRIX_MOM.docx',\n",
       " '/Users/nita/Desktop/TJDOCS/TEAMZ/TEAMZ_MOM.docx',\n",
       " '/Users/nita/Desktop/TJDOCS/Geo Technologies／ジオテクノロジーズ/ジオテクノロジーズ_MOM.docx',\n",
       " '/Users/nita/Desktop/TJDOCS/WARPSPACE/WARPSPACE_MOM.docx',\n",
       " '/Users/nita/Desktop/TJDOCS/WARPSPACE/Job/contract/人材紹介契約書_ワープスペース様.docx',\n",
       " '/Users/nita/Desktop/TJDOCS/Nature Innovation Group（アイカサ）/Nature Innovation Group（アイカサ）_MOM.docx',\n",
       " '/Users/nita/Desktop/TJDOCS/Nature Innovation Group（アイカサ）/Hub/contract/締結途中の保存ファイル/20240528_Hub契約書_JP_NIG社_TJ0528.docx',\n",
       " '/Users/nita/Desktop/TJDOCS/KUROFUNE/KUROFUNE_議事録.docx',\n",
       " '/Users/nita/Desktop/TJDOCS/Otsuka Holdings／大塚ホールディングス/Otsuka Holdings／大塚ホールディングス_MOM.docx',\n",
       " '/Users/nita/Desktop/TJDOCS/Otsuka Holdings／大塚ホールディングス/Job/Contract/締結途中の保存ファイル/20240716_JOB×LAB契約書_大塚ホールディングス_TJ0716.docx',\n",
       " '/Users/nita/Desktop/TJDOCS/Otsuka Holdings／大塚ホールディングス/Job/JD/20240715_在日インドITエンジニア_大塚ホールディングス.docx',\n",
       " '/Users/nita/Desktop/TJDOCS/Eye Universe/Eye Universe_MOM.docx',\n",
       " '/Users/nita/Desktop/TJDOCS/Findability Sciences/Findability Sciences_MOM.docx',\n",
       " '/Users/nita/Desktop/TJDOCS/Findability Sciences/Job/【共有用】FSKK_エンジニア募集JD.docx',\n",
       " '/Users/nita/Desktop/TJDOCS/Synspective/Synspective_MOM.docx',\n",
       " '/Users/nita/Desktop/TJDOCS/Otas／オータス株式会社/Otas_MOM.docx',\n",
       " '/Users/nita/Desktop/TJDOCS/SENSYN ROBOTICS／センシンロボティクス/センシンロボティクス_議事録.docx',\n",
       " '/Users/nita/Desktop/TJDOCS/SENSYN ROBOTICS／センシンロボティクス/Hub/contract/20240307_Hub契約書_センシンロボティクス_FIX.docx',\n",
       " '/Users/nita/Desktop/TJDOCS/SENSYN ROBOTICS／センシンロボティクス/Hub/contract/20240221_Hub契約書_センシンロボティクス社_v0221.docx',\n",
       " '/Users/nita/Desktop/TJDOCS/SENSYN ROBOTICS／センシンロボティクス/Hub/contract/20240221_Hub契約書_センシンロボティクス社_SR0306_TJ0306.docx',\n",
       " '/Users/nita/Desktop/TJDOCS/Chaintope/Job/contract/人材紹介契約書_Chaintope様.docx',\n",
       " '/Users/nita/Desktop/TJDOCS/Chaintope/Job/contract/人材紹介契約書_Chaintope.docx',\n",
       " '/Users/nita/Desktop/TJDOCS/Chaintope/Hub/contract/インド IT・デジタル⼈材特化型総合プラットフォーム利用契約書Chaintope様.docx',\n",
       " '/Users/nita/Desktop/TJDOCS/Gaudiy/Gaudiy_MOM.docx',\n",
       " '/Users/nita/Desktop/TJDOCS/Gaudiy/GCC/proposal/他社JDsample/20240605_Senior Backend _Web3.docx',\n",
       " '/Users/nita/Desktop/TJDOCS/Gaudiy/GCC/proposal/他社JDsample/20240605_Frontend_Finance.docx',\n",
       " '/Users/nita/Desktop/TJDOCS/Gaudiy/GCC/proposal/他社JDsample/20240605_Backend_Finance.docx',\n",
       " '/Users/nita/Desktop/TJDOCS/Gaudiy/GCC/proposal/他社JDsample/20240605_Senior Frontend_Finance.docx',\n",
       " '/Users/nita/Desktop/TJDOCS/Gaudiy/Job/contract/締結中保存ファイル/20240627_JOB×LAB契約書_Gaudiy_TJ0627_GA0702.docx',\n",
       " '/Users/nita/Desktop/TJDOCS/Gaudiy/Job/contract/締結中保存ファイル/20240627_JOB×LAB契約書_Gaudiy_TJ0627_GA0702_TJ0708_TJ0723.docx',\n",
       " '/Users/nita/Desktop/TJDOCS/Gaudiy/Job/contract/締結中保存ファイル/20240627_JOB×LAB契約書_Gaudiy_TJ0627_GA0702_TJ0708.docx',\n",
       " '/Users/nita/Desktop/TJDOCS/Gaudiy/Job/contract/締結中保存ファイル/20240627_JOB×LAB契約書_Gaudiy_TJ0627.docx',\n",
       " '/Users/nita/Desktop/TJDOCS/Gaudiy/Job/contract/締結中保存ファイル/20240627_JOB×LAB契約書_Gaudiy_FIX.docx',\n",
       " '/Users/nita/Desktop/TJDOCS/Gaudiy/Job/JD/20240626_English JDs.docx',\n",
       " '/Users/nita/Desktop/TJDOCS/Sompo Japan／損害保険ジャパン/Sompo Japan_MOM.docx',\n",
       " '/Users/nita/Desktop/TJDOCS/Sanwa Shutter／三和シヤッター工業/Sanwa Shutter_MOM.docx',\n",
       " '/Users/nita/Desktop/TJDOCS/Dot life／ドットライフ/ドットライフ_MOM.docx',\n",
       " '/Users/nita/Desktop/TJDOCS/Loglass／ログラス/インド活用に向けた戦略設計 ワークショップ.docx',\n",
       " '/Users/nita/Desktop/TJDOCS/Loglass／ログラス/【Loglass様送付】インド活用に向けた戦略設計 ワークショップ.docx',\n",
       " '/Users/nita/Desktop/TJDOCS/Loglass／ログラス/Loglass様_オンボーディングセミナー素案.docx',\n",
       " '/Users/nita/Desktop/TJDOCS/Loglass／ログラス/Loglass_MOM.docx',\n",
       " '/Users/nita/Desktop/TJDOCS/Loglass／ログラス/GCC/Contract/Final Clean_Loglass_SOW_EN (non binding translation).docx',\n",
       " '/Users/nita/Desktop/TJDOCS/Loglass／ログラス/GCC/Contract/Loglass様_MSA_JP.docx',\n",
       " '/Users/nita/Desktop/TJDOCS/Loglass／ログラス/GCC/Contract/Loglass_SOW_EN (non binding translation).docx',\n",
       " '/Users/nita/Desktop/TJDOCS/Loglass／ログラス/GCC/Contract/Final Clean_Loglass様_SOW_JP.docx',\n",
       " '/Users/nita/Desktop/TJDOCS/Loglass／ログラス/GCC/Contract/Final Clean_Loglass様_MSA_JP.docx',\n",
       " '/Users/nita/Desktop/TJDOCS/Loglass／ログラス/GCC/Contract/Final Clean_Loglass_MSA_EN (non binding translation).docx',\n",
       " '/Users/nita/Desktop/TJDOCS/Loglass／ログラス/GCC/Contract/Loglass_MSA_EN (non binding translation).docx',\n",
       " '/Users/nita/Desktop/TJDOCS/Loglass／ログラス/GCC/Contract/Loglass様_SOW_JP.docx',\n",
       " '/Users/nita/Desktop/TJDOCS/Loglass／ログラス/GCC/Contract/Document during processes/0828_temporary clean_Loglass_MSA_EN (non binding translation).docx',\n",
       " '/Users/nita/Desktop/TJDOCS/Loglass／ログラス/GCC/Contract/Document during processes/v20240703_SOW_EN_template.docx',\n",
       " '/Users/nita/Desktop/TJDOCS/Loglass／ログラス/GCC/Contract/Document during processes/v20240521_MSA_JP_template.docx',\n",
       " '/Users/nita/Desktop/TJDOCS/Loglass／ログラス/GCC/Contract/Document during processes/v20240604_SOW_JP_template.docx',\n",
       " '/Users/nita/Desktop/TJDOCS/Loglass／ログラス/GCC/Contract/Document during processes/v20240703_MSA_EN_template.docx',\n",
       " '/Users/nita/Desktop/TJDOCS/Loglass／ログラス/GCC/Contract/Document during processes/0828_temporary clean_Loglass様_SOW_JP.docx',\n",
       " '/Users/nita/Desktop/TJDOCS/Loglass／ログラス/GCC/Contract/Document during processes/0828_temporary clean_Loglass様_MSA_JP.docx',\n",
       " '/Users/nita/Desktop/TJDOCS/Loglass／ログラス/GCC/Contract/Document during processes/0828_temporary clean_Loglass_SOW_EN (non binding translation).docx',\n",
       " '/Users/nita/Desktop/TJDOCS/WOTA/WOTA _MOM.docx',\n",
       " '/Users/nita/Desktop/TJDOCS/WOTA/Job/contract/人材紹介契約書_WOTA様.docx',\n",
       " '/Users/nita/Desktop/TJDOCS/Bravesoft・ブレイブスタジオ/Bravesoft・ブレイブスタジオ_MOM.docx',\n",
       " '/Users/nita/Desktop/TJDOCS/Bravesoft・ブレイブスタジオ/Job/contract/20230323_JOB契約書_ブレイブスタジオ社_FIX.docx',\n",
       " '/Users/nita/Desktop/TJDOCS/LOMBY（旧：YPER)/Lomby_MOM.docx',\n",
       " '/Users/nita/Desktop/TJDOCS/LOMBY（旧：YPER)/Job/contract/人材紹介契約書_LOMBY株式会社様.docx',\n",
       " '/Users/nita/Desktop/TJDOCS/LOMBY（旧：YPER)/Job/contract/覚書_LOMBY株式会社様.docx',\n",
       " '/Users/nita/Desktop/TJDOCS/Qibitech／キビテク/Qibitech_MOM.docx',\n",
       " '/Users/nita/Desktop/TJDOCS/Qibitech／キビテク/Job/0408_Qibitech様_Tech Japan JOB契約書.docx',\n",
       " '/Users/nita/Desktop/TJDOCS/Qibitech／キビテク/Job/Final_Qibitech様_Tech Japan JOB契約書.docx',\n",
       " '/Users/nita/Desktop/TJDOCS/Qibitech／キビテク/Job/Qibitech様_Tech Japan JOB契約書.docx',\n",
       " '/Users/nita/Desktop/TJDOCS/Qibitech／キビテク/Hub/Qibitech様_Tech Japan_Hub契約書.docx',\n",
       " '/Users/nita/Desktop/TJDOCS/Akiverse/AKIVERSE_MOM.docx',\n",
       " '/Users/nita/Desktop/TJDOCS/Recipio／レキピオ/Job/contract/人材紹介契約書_レキピオ様.docx',\n",
       " '/Users/nita/Desktop/TJDOCS/SPIRAL／スパイラル/SPIRAL_MOM.docx',\n",
       " '/Users/nita/Desktop/TJDOCS/Medpeer／メドピア/Job/contract/人材紹介契約書_メドピア様.docx',\n",
       " '/Users/nita/Desktop/TJDOCS/Dia Nippon Engineering Consultants Co., Ltd./Dia Nippon Engineering Consultants_MOM.docx',\n",
       " '/Users/nita/Desktop/TJDOCS/タナちゃんねる（YouTube作成関連）/0622_Youtube大野様MTG議事録.docx',\n",
       " '/Users/nita/Desktop/TJDOCS/タナちゃんねる（YouTube作成関連）/20220819_Youtube撮影台本.docx',\n",
       " '/Users/nita/Desktop/TJDOCS/SANKO／三甲/SANKO_MOM.docx',\n",
       " '/Users/nita/Desktop/TJDOCS/PowerX／パワーエックス/PowerX_MOM.docx',\n",
       " '/Users/nita/Desktop/TJDOCS/Saleshub/Saleshub_MOM.docx',\n",
       " '/Users/nita/Desktop/TJDOCS/AI CROSS/AI CROSS_MOM.docx',\n",
       " '/Users/nita/Desktop/TJDOCS/Compass/Compass_MOM.docx',\n",
       " '/Users/nita/Desktop/TJDOCS/Nabtesco／ナブテスコ/Nabtesco／ナブテスコ_MOM.docx',\n",
       " '/Users/nita/Desktop/TJDOCS/MUFG Global Service/MUFG Global Service_MOM.docx',\n",
       " '/Users/nita/Desktop/TJDOCS/Osaka Business Development Agency／大阪産業局/Alliance/大阪産業局_MOM.docx',\n",
       " '/Users/nita/Desktop/TJDOCS/Arkray／アークレイ/arkray_MOM.docx',\n",
       " '/Users/nita/Desktop/TJDOCS/Arkray／アークレイ/Job/contract/20231106_JOB契約書_arkray_FIX.docx',\n",
       " '/Users/nita/Desktop/TJDOCS/Arkray／アークレイ/Job/contract/20230829_JOB契約書_arkray_v0829.docx',\n",
       " '/Users/nita/Desktop/TJDOCS/Arkray／アークレイ/Job/contract/20230829_JOB契約書_arkray_v0914.docx',\n",
       " '/Users/nita/Desktop/TJDOCS/Arkray／アークレイ/Job/contract/20230808_JOB契約書_アークレイ様_v0808.docx',\n",
       " '/Users/nita/Desktop/TJDOCS/Arkray／アークレイ/Job/contract/20230829_JOB契約書_arkray_v1031.docx',\n",
       " '/Users/nita/Desktop/TJDOCS/Arkray／アークレイ/Job/JD/20230810_Data Scientist_ARKRAY.docx',\n",
       " '/Users/nita/Desktop/TJDOCS/Arkray／アークレイ/Hub/contract/20230808_Hub契約書_アークレイ様_v0808.docx',\n",
       " '/Users/nita/Desktop/TJDOCS/Reazon Holdings／レアゾン・ホールディングス, Inc./Reazon Holdings_MOM.docx',\n",
       " '/Users/nita/Desktop/TJDOCS/THE BANK OF IWATE／岩手銀行/THE BANK OF IWATE_MOM.docx',\n",
       " '/Users/nita/Desktop/TJDOCS/Integrity Healthcare／インテグリティ・ヘルスケア/Integrity Healthcare_MOM.docx',\n",
       " '/Users/nita/Desktop/TJDOCS/Integrity Healthcare／インテグリティ・ヘルスケア/Job/20230203_開発ディレクター（業務委託）.docx',\n",
       " '/Users/nita/Desktop/TJDOCS/Integrity Healthcare／インテグリティ・ヘルスケア/Hub/Minutes of Meetings.docx',\n",
       " '/Users/nita/Desktop/TJDOCS/SecureLink／セキュアリンク/SecureLink_MOM.docx',\n",
       " '/Users/nita/Desktop/TJDOCS/SecureLink／セキュアリンク/HUB/SecureLink様_Hub契約書.docx',\n",
       " '/Users/nita/Desktop/TJDOCS/Nagoya Railroad／名古屋鉄道/Nagoya Railroad_MOM.docx',\n",
       " '/Users/nita/Desktop/TJDOCS/ANIDRIVE／アニドライブ/ANIDRIVE_MOM.docx',\n",
       " '/Users/nita/Desktop/TJDOCS/Aikomi/Aikomi_MOM.docx',\n",
       " '/Users/nita/Desktop/TJDOCS/Aikomi/Hub/Aikomi様_Hub契約書.docx',\n",
       " '/Users/nita/Desktop/TJDOCS/NAKATA MAC CO., LTD.／ナカタ・マックコーポレーション/NAKATA MAC_MOM.docx',\n",
       " '/Users/nita/Desktop/TJDOCS/Suzuki／スズキ/Suzuki／スズキ_MOM.docx',\n",
       " '/Users/nita/Desktop/TJDOCS/Suzuki／スズキ/Hub/01.【スズキ㈱】希望要件.docx',\n",
       " '/Users/nita/Desktop/TJDOCS/SHIBUYA CORPORATION／澁谷工業/SHIBUYA Corporation_MOM.docx',\n",
       " '/Users/nita/Desktop/TJDOCS/Chunichi Shimbun／中日新聞社/Chunichi Shimbun_MOM.docx',\n",
       " '/Users/nita/Desktop/TJDOCS/Sustainable Lab／サステナブル・ラボ/サステナブル・ラボ_MOM.docx',\n",
       " '/Users/nita/Desktop/TJDOCS/BIKEN/BIKEN_MOM.docx',\n",
       " '/Users/nita/Desktop/TJDOCS/TAMADIC／タマディック/TAMADIC_MOM.docx',\n",
       " '/Users/nita/Desktop/TJDOCS/Rimo/RIMO_MOM.docx',\n",
       " '/Users/nita/Desktop/TJDOCS/Rimo/Hub/contract/20240209_Hub契約書_Rimo_v0209.docx',\n",
       " '/Users/nita/Desktop/TJDOCS/Rimo/Hub/contract/20240209_Hub契約書_Rimo_T0214_R0214_T0214.docx',\n",
       " '/Users/nita/Desktop/TJDOCS/Rimo/Hub/contract/20240209_Hub契約書_Rimo_v0214.docx',\n",
       " '/Users/nita/Desktop/TJDOCS/Rimo/Hub/contract/20240219_Hub契約書_Rimo_FIX.docx',\n",
       " '/Users/nita/Desktop/TJDOCS/Rimo/Hub/contract/20240209_Hub契約書_Rimo_T0214_R0214.docx',\n",
       " '/Users/nita/Desktop/TJDOCS/Rimo/Hub/Offer Letter＆NDA/25卒SI_Internship Offer Letter and NDA/20240418_NDA_Rimo_internship_EN_Official_Simran.docx',\n",
       " '/Users/nita/Desktop/TJDOCS/Rimo/Hub/Offer Letter＆NDA/25卒SI_Internship Offer Letter and NDA/20240418_NDA_Rimo_internship_EN_Official_Prerna.docx',\n",
       " '/Users/nita/Desktop/TJDOCS/Rimo/Hub/Offer Letter＆NDA/25卒SI_Internship Offer Letter and NDA/20240418_NDA_Rimo_internship_EN_Official_NEW.docx',\n",
       " '/Users/nita/Desktop/TJDOCS/Indo-Sakura Software Japan/Indo-Sakura Software Japan_MOM.docx',\n",
       " '/Users/nita/Desktop/TJDOCS/Comware／コムウェア/Comware／コムウェア_MOM.docx',\n",
       " '/Users/nita/Desktop/TJDOCS/Comware／コムウェア/Job/contract/20230410_JOB契約書_コムウェア社_FIX.docx',\n",
       " '/Users/nita/Desktop/TJDOCS/Miraist／ミライスト/ミライスト_議事録.docx',\n",
       " '/Users/nita/Desktop/TJDOCS/CosBE/CosBE_MOM.docx',\n",
       " '/Users/nita/Desktop/TJDOCS/Navio Computer／ナビオコンピュータ株式会社/Navio Computer_MOM.docx',\n",
       " '/Users/nita/Desktop/TJDOCS/Doog／ドーグ/Doog_MOM.docx',\n",
       " ...]"
      ]
     },
     "execution_count": 10,
     "metadata": {},
     "output_type": "execute_result"
    }
   ],
   "source": [
    "docx_file_names"
   ]
  },
  {
   "cell_type": "code",
   "execution_count": null,
   "id": "ac677e15",
   "metadata": {},
   "outputs": [],
   "source": []
  }
 ],
 "metadata": {
  "kernelspec": {
   "display_name": "Python 3 (ipykernel)",
   "language": "python",
   "name": "python3"
  },
  "language_info": {
   "codemirror_mode": {
    "name": "ipython",
    "version": 3
   },
   "file_extension": ".py",
   "mimetype": "text/x-python",
   "name": "python",
   "nbconvert_exporter": "python",
   "pygments_lexer": "ipython3",
   "version": "3.12.3"
  }
 },
 "nbformat": 4,
 "nbformat_minor": 5
}
